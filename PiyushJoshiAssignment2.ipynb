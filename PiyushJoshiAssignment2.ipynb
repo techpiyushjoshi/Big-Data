{
  "nbformat": 4,
  "nbformat_minor": 0,
  "metadata": {
    "colab": {
      "name": "070522.ipynb",
      "provenance": [],
      "collapsed_sections": []
    },
    "kernelspec": {
      "name": "python3",
      "display_name": "Python 3"
    },
    "language_info": {
      "name": "python"
    }
  },
  "cells": [
    {
      "cell_type": "code",
      "execution_count": null,
      "metadata": {
        "colab": {
          "base_uri": "https://localhost:8080/"
        },
        "id": "-BnJ1J3x78jE",
        "outputId": "33ac1e94-f82c-4682-8837-79647866af7e"
      },
      "outputs": [
        {
          "output_type": "stream",
          "name": "stdout",
          "text": [
            "Collecting pyspark\n",
            "  Downloading pyspark-3.2.1.tar.gz (281.4 MB)\n",
            "\u001b[K     |████████████████████████████████| 281.4 MB 34 kB/s \n",
            "\u001b[?25hCollecting py4j==0.10.9.3\n",
            "  Downloading py4j-0.10.9.3-py2.py3-none-any.whl (198 kB)\n",
            "\u001b[K     |████████████████████████████████| 198 kB 65.4 MB/s \n",
            "\u001b[?25hBuilding wheels for collected packages: pyspark\n",
            "  Building wheel for pyspark (setup.py) ... \u001b[?25l\u001b[?25hdone\n",
            "  Created wheel for pyspark: filename=pyspark-3.2.1-py2.py3-none-any.whl size=281853642 sha256=5c793c1fe47c779446736abd8b6f13fd00d3dceaac66b991c74b319a2926008e\n",
            "  Stored in directory: /root/.cache/pip/wheels/9f/f5/07/7cd8017084dce4e93e84e92efd1e1d5334db05f2e83bcef74f\n",
            "Successfully built pyspark\n",
            "Installing collected packages: py4j, pyspark\n",
            "Successfully installed py4j-0.10.9.3 pyspark-3.2.1\n"
          ]
        }
      ],
      "source": [
        "!pip install pyspark\n"
      ]
    },
    {
      "cell_type": "code",
      "source": [
        "from pyspark.sql import SparkSession\n",
        "session = SparkSession.builder.appName(\"energy\").getOrCreate()"
      ],
      "metadata": {
        "id": "-_AZ-Zb_8Bl_"
      },
      "execution_count": null,
      "outputs": []
    },
    {
      "cell_type": "code",
      "source": [
        "data = session.read.csv(\"energy_cooling.csv\",inferSchema=True,header=True)"
      ],
      "metadata": {
        "id": "2cUzWn8f8jdI"
      },
      "execution_count": null,
      "outputs": []
    },
    {
      "cell_type": "code",
      "source": [
        "data.printSchema()"
      ],
      "metadata": {
        "colab": {
          "base_uri": "https://localhost:8080/"
        },
        "id": "h1J18K658rkN",
        "outputId": "ec74c850-d77b-4ef2-e9fc-7132d8a6eecd"
      },
      "execution_count": null,
      "outputs": [
        {
          "output_type": "stream",
          "name": "stdout",
          "text": [
            "root\n",
            " |-- X1: double (nullable = true)\n",
            " |-- X2: double (nullable = true)\n",
            " |-- X3: double (nullable = true)\n",
            " |-- X4: double (nullable = true)\n",
            " |-- X5: double (nullable = true)\n",
            " |-- X6: integer (nullable = true)\n",
            " |-- X7: double (nullable = true)\n",
            " |-- X8: integer (nullable = true)\n",
            " |-- Y2: double (nullable = true)\n",
            "\n"
          ]
        }
      ]
    },
    {
      "cell_type": "code",
      "source": [
        "from pyspark.ml.feature import VectorAssembler\n",
        "assembler = VectorAssembler(inputCols = [\"X1\",\"X2\",\"X3\",\"X4\",\"X5\",\"X6\",\"X7\",\"X8\"],outputCol=\"all_features\")"
      ],
      "metadata": {
        "id": "32lC-sUD8uz3"
      },
      "execution_count": null,
      "outputs": []
    },
    {
      "cell_type": "code",
      "source": [
        "# from pyspark.ml.regression import LinearRegression\n",
        "from pyspark.ml.regression import DecisionTreeRegressor"
      ],
      "metadata": {
        "id": "IDQ-T6fo9ceY"
      },
      "execution_count": null,
      "outputs": []
    },
    {
      "cell_type": "code",
      "source": [
        "model = DecisionTreeRegressor(featuresCol=\"all_features\",labelCol=\"Y2\")"
      ],
      "metadata": {
        "id": "Ysvsxs049kFN"
      },
      "execution_count": null,
      "outputs": []
    },
    {
      "cell_type": "code",
      "source": [
        "from pyspark.ml import Pipeline"
      ],
      "metadata": {
        "id": "bffBlBWU9uUu"
      },
      "execution_count": null,
      "outputs": []
    },
    {
      "cell_type": "code",
      "source": [
        "mypipeline = Pipeline(stages = [assembler,model])"
      ],
      "metadata": {
        "id": "XAJZVjW79zj3"
      },
      "execution_count": null,
      "outputs": []
    },
    {
      "cell_type": "code",
      "source": [
        "train,test = data.randomSplit([0.85,0.15])"
      ],
      "metadata": {
        "id": "BXGnQMgf98j5"
      },
      "execution_count": null,
      "outputs": []
    },
    {
      "cell_type": "code",
      "source": [
        "model = mypipeline.fit(train)"
      ],
      "metadata": {
        "id": "PFyZR_2B-CeD"
      },
      "execution_count": null,
      "outputs": []
    },
    {
      "cell_type": "code",
      "source": [
        "results = model.transform(test)\n"
      ],
      "metadata": {
        "id": "SNLrqxAM-FRS"
      },
      "execution_count": null,
      "outputs": []
    },
    {
      "cell_type": "code",
      "source": [
        "results.show(2)"
      ],
      "metadata": {
        "colab": {
          "base_uri": "https://localhost:8080/"
        },
        "id": "XMPQWpIS-IeD",
        "outputId": "298f953e-f6e7-41fb-a01b-8ba5a3329509"
      },
      "execution_count": null,
      "outputs": [
        {
          "output_type": "stream",
          "name": "stdout",
          "text": [
            "+----+-----+-----+-----+---+---+---+---+-----+--------------------+------------------+\n",
            "|  X1|   X2|   X3|   X4| X5| X6| X7| X8|   Y2|        all_features|        prediction|\n",
            "+----+-----+-----+-----+---+---+---+---+-----+--------------------+------------------+\n",
            "|0.62|808.5|367.5|220.5|3.5|  2|0.1|  4|14.37|[0.62,808.5,367.5...|14.762500000000005|\n",
            "|0.62|808.5|367.5|220.5|3.5|  3|0.4|  1|17.21|[0.62,808.5,367.5...|17.126666666666665|\n",
            "+----+-----+-----+-----+---+---+---+---+-----+--------------------+------------------+\n",
            "only showing top 2 rows\n",
            "\n"
          ]
        }
      ]
    },
    {
      "cell_type": "code",
      "source": [
        "from pyspark.ml.evaluation import RegressionEvaluator"
      ],
      "metadata": {
        "id": "iON-nD-B-LGq"
      },
      "execution_count": null,
      "outputs": []
    },
    {
      "cell_type": "code",
      "source": [
        "reg_eval = RegressionEvaluator(predictionCol=\"prediction\",labelCol=\"Y2\",metricName=\"rmse\")\n",
        "reg_eval.evaluate(results)"
      ],
      "metadata": {
        "colab": {
          "base_uri": "https://localhost:8080/"
        },
        "id": "cAQr-YQ4-qXh",
        "outputId": "cbd7cc67-a14a-42a7-97ea-952618cefbf8"
      },
      "execution_count": null,
      "outputs": [
        {
          "output_type": "execute_result",
          "data": {
            "text/plain": [
              "1.671139024682332"
            ]
          },
          "metadata": {},
          "execution_count": 29
        }
      ]
    },
    {
      "cell_type": "code",
      "source": [
        "reg_eval = RegressionEvaluator(predictionCol=\"prediction\",labelCol=\"Y2\",metricName=\"mse\")\n",
        "reg_eval.evaluate(results)\n"
      ],
      "metadata": {
        "colab": {
          "base_uri": "https://localhost:8080/"
        },
        "id": "QUjU6JinBNXk",
        "outputId": "b54ab67f-f8dd-4da5-d40c-90deeeb96453"
      },
      "execution_count": null,
      "outputs": [
        {
          "output_type": "execute_result",
          "data": {
            "text/plain": [
              "2.7927056398162162"
            ]
          },
          "metadata": {},
          "execution_count": 30
        }
      ]
    },
    {
      "cell_type": "code",
      "source": [
        "reg_eval = RegressionEvaluator(predictionCol=\"prediction\",labelCol=\"Y2\",metricName=\"r2\")\n",
        "reg_eval.evaluate(results)"
      ],
      "metadata": {
        "colab": {
          "base_uri": "https://localhost:8080/"
        },
        "id": "R1iH-2YLBWz1",
        "outputId": "23e7a28a-22a9-4d14-f88b-984a9666b5ee"
      },
      "execution_count": null,
      "outputs": [
        {
          "output_type": "execute_result",
          "data": {
            "text/plain": [
              "0.967921661104094"
            ]
          },
          "metadata": {},
          "execution_count": 31
        }
      ]
    },
    {
      "cell_type": "code",
      "source": [
        "reg_eval = RegressionEvaluator(predictionCol=\"prediction\",labelCol=\"Y2\",metricName=\"mae\")\n",
        "reg_eval.evaluate(results)"
      ],
      "metadata": {
        "colab": {
          "base_uri": "https://localhost:8080/"
        },
        "id": "DkAcj10mBY6N",
        "outputId": "771999bd-40bd-4ff2-d852-8957aeafa9b2"
      },
      "execution_count": null,
      "outputs": [
        {
          "output_type": "execute_result",
          "data": {
            "text/plain": [
              "1.0792340202300281"
            ]
          },
          "metadata": {},
          "execution_count": 32
        }
      ]
    },
    {
      "cell_type": "code",
      "source": [
        ""
      ],
      "metadata": {
        "id": "DdWf3x9aBbMJ"
      },
      "execution_count": null,
      "outputs": []
    }
  ]
}