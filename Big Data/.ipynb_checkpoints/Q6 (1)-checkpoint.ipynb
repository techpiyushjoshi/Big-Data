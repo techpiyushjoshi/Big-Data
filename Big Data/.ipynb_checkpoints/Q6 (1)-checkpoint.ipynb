{
 "cells": [
  {
   "cell_type": "markdown",
   "metadata": {
    "id": "ClhtTUv3b384"
   },
   "source": [
    "# Big Data Examination \n",
    "## DS5B - 2121\n",
    "Question 6 Considering churn dataset, execute the following queries\n",
    "Q1 What is the average Monthly Charges for customers having “DSL” Internet connection. Consider senior citizen , male and churned customers whose tenure is greater than 60.  \n"
   ]
  },
  {
   "cell_type": "code",
   "execution_count": 1,
   "metadata": {
    "colab": {
     "base_uri": "https://localhost:8080/"
    },
    "id": "JyHJWPPfGbBn",
    "outputId": "3049e473-1b99-4ecd-cccc-7331dcfb4ebb"
   },
   "outputs": [
    {
     "name": "stdout",
     "output_type": "stream",
     "text": [
      "Looking in indexes: https://pypi.org/simple, https://us-python.pkg.dev/colab-wheels/public/simple/\n",
      "Collecting pyspark\n",
      "  Downloading pyspark-3.2.1.tar.gz (281.4 MB)\n",
      "\u001b[K     |████████████████████████████████| 281.4 MB 34 kB/s \n",
      "\u001b[?25hCollecting py4j==0.10.9.3\n",
      "  Downloading py4j-0.10.9.3-py2.py3-none-any.whl (198 kB)\n",
      "\u001b[K     |████████████████████████████████| 198 kB 44.8 MB/s \n",
      "\u001b[?25hBuilding wheels for collected packages: pyspark\n",
      "  Building wheel for pyspark (setup.py) ... \u001b[?25l\u001b[?25hdone\n",
      "  Created wheel for pyspark: filename=pyspark-3.2.1-py2.py3-none-any.whl size=281853642 sha256=49c075a2ee27519273929c2c09bb0eeafdf944cba24cbc4100901f54cb48cd12\n",
      "  Stored in directory: /root/.cache/pip/wheels/9f/f5/07/7cd8017084dce4e93e84e92efd1e1d5334db05f2e83bcef74f\n",
      "Successfully built pyspark\n",
      "Installing collected packages: py4j, pyspark\n",
      "Successfully installed py4j-0.10.9.3 pyspark-3.2.1\n"
     ]
    }
   ],
   "source": [
    "!pip install pyspark"
   ]
  },
  {
   "cell_type": "markdown",
   "metadata": {
    "id": "9naeWciCHk2O"
   },
   "source": [
    "### Create Session\n",
    "##### The entry point to programming Spark with the Dataset"
   ]
  },
  {
   "cell_type": "code",
   "execution_count": 2,
   "metadata": {
    "id": "8jkeH84OICIA"
   },
   "outputs": [],
   "source": [
    "from pyspark.sql import SparkSession"
   ]
  },
  {
   "cell_type": "code",
   "execution_count": 3,
   "metadata": {
    "id": "qvv-xKg5I07E"
   },
   "outputs": [],
   "source": [
    "session = SparkSession.builder.appName(\"Piyush_Joshi_SQL\").master(\"local\").getOrCreate()"
   ]
  },
  {
   "cell_type": "code",
   "execution_count": null,
   "metadata": {
    "id": "9nV2piqrKymO"
   },
   "outputs": [],
   "source": [
    "data = session.read.csv(\"churn.csv\", header = True, inferSchema = True)"
   ]
  },
  {
   "cell_type": "code",
   "execution_count": null,
   "metadata": {
    "colab": {
     "base_uri": "https://localhost:8080/"
    },
    "id": "-bFcVng5K556",
    "outputId": "b98c96de-c3ce-45b8-da23-ac2a5ba9f6cb"
   },
   "outputs": [
    {
     "name": "stdout",
     "output_type": "stream",
     "text": [
      "+----------+------+-------------+-------+----------+------+-----------+-------------------+------------------+-------------------+-------------------+-----------------------+-------------------+-------------------+-------------------+--------------+-------------+----------------+---------------------+-----------+-----+\n",
      "|customerID|gender|SeniorCitizen|Partner|Dependents|tenure|CallService|MultipleConnections|InternetConnection|     OnlineSecurity|       OnlineBackup|DeviceProtectionService|      TechnicalHelp|           OnlineTV|       OnlineMovies|     Agreement|BillingMethod|   PaymentMethod|MonthlyServiceCharges|TotalAmount|Churn|\n",
      "+----------+------+-------------+-------+----------+------+-----------+-------------------+------------------+-------------------+-------------------+-----------------------+-------------------+-------------------+-------------------+--------------+-------------+----------------+---------------------+-----------+-----+\n",
      "|2907-ILJBN|Female|          0.0|    Yes|       Yes|  11.0|        Yes|                 No|                No|No internet service|No internet service|    No internet service|No internet service|No internet service|No internet service|      One year|           No|    Mailed check|                 20.6|      233.9|   No|\n",
      "|3896-RCYYE|Female|          0.0|     No|        No|  67.0|         No|   No phone service|               DSL|                 No|                 No|                    Yes|                Yes|                Yes|                Yes|Month-to-month|          Yes|    Credit card |                 53.4|    3579.15|   No|\n",
      "|9764-REAFF|Female|          0.0|    Yes|        No|  59.0|        Yes|                 No|                No|No internet service|No internet service|    No internet service|No internet service|No internet service|No internet service|      Two year|           No|  Bank transfer |                 18.4|    1057.85|   No|\n",
      "|6651-RLGGM|  Male|          0.0|    Yes|       Yes|  67.0|        Yes|                Yes|                No|No internet service|No internet service|    No internet service|No internet service|No internet service|No internet service|      Two year|           No|    Mailed check|                 26.3|     1688.9|   No|\n",
      "|5879-SESNB|Female|          0.0|     No|        No|  11.0|        Yes|                Yes|       Fiber optic|                 No|                 No|                     No|                 No|                 No|                 No|Month-to-month|           No|Electronic check|                75.25|     888.65|   No|\n",
      "+----------+------+-------------+-------+----------+------+-----------+-------------------+------------------+-------------------+-------------------+-----------------------+-------------------+-------------------+-------------------+--------------+-------------+----------------+---------------------+-----------+-----+\n",
      "only showing top 5 rows\n",
      "\n"
     ]
    }
   ],
   "source": [
    "data.show(5)"
   ]
  },
  {
   "cell_type": "markdown",
   "metadata": {
    "id": "hEXwGrypU7FR"
   },
   "source": [
    "##### Q1 What is the average Monthly Charges for customers having “DSL” Internet connection. Consider senior citizen , male and churned customers whose tenure is greater than 60.  "
   ]
  },
  {
   "cell_type": "code",
   "execution_count": null,
   "metadata": {
    "colab": {
     "base_uri": "https://localhost:8080/"
    },
    "id": "MuI4KK9HVCBY",
    "outputId": "b6b6723f-4d85-49b0-aad2-028c0c55771b"
   },
   "outputs": [
    {
     "name": "stdout",
     "output_type": "stream",
     "text": [
      "+--------------------------+\n",
      "|avg(MonthlyServiceCharges)|\n",
      "+--------------------------+\n",
      "|         76.05276750166666|\n",
      "+--------------------------+\n",
      "\n"
     ]
    }
   ],
   "source": [
    "First = data.filter((data['InternetConnection'] == 'DSL') & ((data['gender']== 'Male') & (data['SeniorCitizen']==1) & (data['Churn']=='Yes') & (data['tenure'] > 60))).select(mean('MonthlyServiceCharges')).show()"
   ]
  },
  {
   "cell_type": "markdown",
   "metadata": {
    "id": "vVEmZXme8KGl"
   },
   "source": [
    "##### Q2 What is the average amount for customers having “Mailed Check” as payment method and “One Year” as agreement. Consider the customers who have dependents and partner and have opted for call service.   "
   ]
  },
  {
   "cell_type": "code",
   "execution_count": null,
   "metadata": {
    "colab": {
     "base_uri": "https://localhost:8080/"
    },
    "id": "iOiXkWr36lR9",
    "outputId": "b77c4fbb-ae60-4aad-8b47-b61abf63b254"
   },
   "outputs": [
    {
     "name": "stdout",
     "output_type": "stream",
     "text": [
      "+------------------+\n",
      "|  avg(TotalAmount)|\n",
      "+------------------+\n",
      "|1208.3856143694081|\n",
      "+------------------+\n",
      "\n"
     ]
    }
   ],
   "source": [
    "from pyspark.sql.functions import mean\n",
    "second = data.filter((data['PaymentMethod'] == 'Mailed check') & (data['Agreement']=='One year') & (data['Dependents']=='Yes') & (data['Partner'] == 'Yes') & (data['CallService'] == 'Yes')).select(mean('TotalAmount')).show()"
   ]
  },
  {
   "cell_type": "markdown",
   "metadata": {
    "id": "zyRUG4KIVO6X"
   },
   "source": [
    "##### Q3 What is the total Monthly Service Charges of customers  having different billing method. Consider the male and senior citizen customers whose tenure is less than 20 and have multiple connections  "
   ]
  },
  {
   "cell_type": "code",
   "execution_count": null,
   "metadata": {
    "colab": {
     "base_uri": "https://localhost:8080/"
    },
    "id": "M6w-zi4AVUVz",
    "outputId": "f22f0c81-bf8a-4ccd-ecfb-931a3313de95"
   },
   "outputs": [
    {
     "name": "stdout",
     "output_type": "stream",
     "text": [
      "+--------------------------+\n",
      "|sum(MonthlyServiceCharges)|\n",
      "+--------------------------+\n",
      "|             7906.29044558|\n",
      "+--------------------------+\n",
      "\n"
     ]
    }
   ],
   "source": [
    "from pyspark.sql.functions import sum\n",
    "third = data.filter((data['BillingMethod']=='Yes') & (data['gender']== 'Male') & (data['SeniorCitizen']==1) & (data['tenure'] < 20) & (data['MultipleConnections']=='Yes')).select(sum('MonthlyServiceCharges')).show()"
   ]
  },
  {
   "cell_type": "markdown",
   "metadata": {
    "id": "m-y3T8W6AsqZ"
   },
   "source": [
    "##### Q4 How many male and female customers has dependents and no dependents. Consider those customers who have monthly service charges greater than 100"
   ]
  },
  {
   "cell_type": "code",
   "execution_count": null,
   "metadata": {
    "colab": {
     "base_uri": "https://localhost:8080/"
    },
    "id": "HmW9y3k6ACl_",
    "outputId": "29a4b3b6-efbd-460d-af8c-bee4baf2bf29"
   },
   "outputs": [
    {
     "name": "stdout",
     "output_type": "stream",
     "text": [
      "+------+-------------------------------------------------+------------------------------------------------+\n",
      "|gender|count(CASE WHEN (Dependents = Yes) THEN True END)|count(CASE WHEN (Dependents = No) THEN True END)|\n",
      "+------+-------------------------------------------------+------------------------------------------------+\n",
      "|Female|                                              183|                                             438|\n",
      "|  Male|                                              182|                                             389|\n",
      "+------+-------------------------------------------------+------------------------------------------------+\n",
      "\n"
     ]
    }
   ],
   "source": [
    "from pyspark.sql.functions import count ,when,col\n",
    "fourth = data.filter(data['MonthlyServiceCharges'] >100).groupBy(\"gender\").agg(count(when(col('Dependents')=='Yes','True')), count(when(col('Dependents')=='No','True'))).show()"
   ]
  },
  {
   "cell_type": "markdown",
   "metadata": {
    "id": "vH-mRYy-VuGd"
   },
   "source": [
    "##### Q5 How many number of customers have churned and not churned. Consider only female customers who have no dependents and has done call service and has preferred electronic check method. "
   ]
  },
  {
   "cell_type": "code",
   "execution_count": null,
   "metadata": {
    "colab": {
     "base_uri": "https://localhost:8080/"
    },
    "id": "ZsxhsWr3Vy91",
    "outputId": "3f6fec57-1c8e-49fa-8f29-8528ca2c4969"
   },
   "outputs": [
    {
     "name": "stdout",
     "output_type": "stream",
     "text": [
      "+--------------------------------------------+-------------------------------------------+\n",
      "|count(CASE WHEN (Churn = Yes) THEN True END)|count(CASE WHEN (Churn = No) THEN True END)|\n",
      "+--------------------------------------------+-------------------------------------------+\n",
      "|                                         718|                                        566|\n",
      "+--------------------------------------------+-------------------------------------------+\n",
      "\n"
     ]
    }
   ],
   "source": [
    "from pyspark.sql.functions import count\n",
    "fifth = data.filter((data['gender']=='Female') & (data['Dependents']=='No') & (data['CallService']=='Yes') & (data['PaymentMethod']=='Electronic check')).agg(count(when(col('Churn')=='Yes','True')), count(when(col('Churn')=='No','True'))).show()\n"
   ]
  },
  {
   "cell_type": "markdown",
   "metadata": {
    "id": "rkDlpuM_I-NC"
   },
   "source": [
    "##### Q6 How many male and female customers have no dependents and have multiple connections. Consider the customers who have call service and has preferred either electronic check method or mailed check method"
   ]
  },
  {
   "cell_type": "code",
   "execution_count": null,
   "metadata": {
    "colab": {
     "base_uri": "https://localhost:8080/"
    },
    "id": "q_obNhOiI8Ny",
    "outputId": "1550a71e-878f-45ba-8651-5411d70717e8"
   },
   "outputs": [
    {
     "name": "stdout",
     "output_type": "stream",
     "text": [
      "+------+------------------------------------------------+----------------------------------------------------------+\n",
      "|gender|count(CASE WHEN (Dependents = No) THEN True END)|count(CASE WHEN (MultipleConnections = Yes) THEN True END)|\n",
      "+------+------------------------------------------------+----------------------------------------------------------+\n",
      "|Female|                                            2068|                                                      1252|\n",
      "|  Male|                                            2071|                                                      1233|\n",
      "+------+------------------------------------------------+----------------------------------------------------------+\n",
      "\n"
     ]
    }
   ],
   "source": [
    "from pyspark.sql.functions import count\n",
    "sixth = data.filter((data['CallService'] == 'Yes') & ((data['PaymentMethod'] == 'Electronic check') | (data['PaymentMethod'] == 'Mailed check'))).groupBy('gender').agg(count(when(col('Dependents')=='No','True')), count(when(col('MultipleConnections')=='Yes','True'))).show()"
   ]
  },
  {
   "cell_type": "markdown",
   "metadata": {
    "id": "nK6b5ClOexYK"
   },
   "source": [
    "Q7 What is the average tenure of male and female customers who have no dependents and have partners. Consider the customers who have call service and has preferred either electronic check method or mailed check method."
   ]
  },
  {
   "cell_type": "code",
   "execution_count": 5,
   "metadata": {
    "colab": {
     "base_uri": "https://localhost:8080/",
     "height": 165
    },
    "id": "Z3UUVAZgewp8",
    "outputId": "03d179c9-48d1-4c31-990d-13b523368405"
   },
   "outputs": [
    {
     "ename": "SyntaxError",
     "evalue": "ignored",
     "output_type": "error",
     "traceback": [
      "\u001b[0;36m  File \u001b[0;32m\"<ipython-input-5-819fdf585d14>\"\u001b[0;36m, line \u001b[0;32m2\u001b[0m\n\u001b[0;31m    seven = data.filter((data['Dependents']=='No')&(data['Partner'] == 'Yes')&(data['CallService'] == 'Yes')&(data['PaymentMethod'] == 'Electronic check')|(data['PaymentMethod'] == 'Mailed check')).select(avg(groupby(('Gender'))).show()\u001b[0m\n\u001b[0m                                                                                                                                                                                                                                            ^\u001b[0m\n\u001b[0;31mSyntaxError\u001b[0m\u001b[0;31m:\u001b[0m unexpected EOF while parsing\n"
     ]
    }
   ],
   "source": [
    "from pyspark.sql.functions import avg\n",
    "seven = data.filter((data['Dependents']=='No')&(data['Partner'] == 'Yes')&(data['CallService'] == 'Yes')&(data['PaymentMethod'] == 'Electronic check')|(data['PaymentMethod'] == 'Mailed check')).select(avg(groupby(('Gender'))).show()"
   ]
  },
  {
   "cell_type": "markdown",
   "metadata": {
    "id": "JST5FqExP5F_"
   },
   "source": [
    "##### Q8 What is the maximum monthly service charges of customers who have done payment by electronic check method? Consider only those customers who have agreement for on year or two years only. "
   ]
  },
  {
   "cell_type": "code",
   "execution_count": null,
   "metadata": {
    "colab": {
     "base_uri": "https://localhost:8080/"
    },
    "id": "BdK1atJpDCy7",
    "outputId": "c99397d7-eff8-475f-b694-c0966941c6aa"
   },
   "outputs": [
    {
     "name": "stdout",
     "output_type": "stream",
     "text": [
      "+--------------------------+\n",
      "|max(MonthlyServiceCharges)|\n",
      "+--------------------------+\n",
      "|                    118.65|\n",
      "+--------------------------+\n",
      "\n"
     ]
    }
   ],
   "source": [
    "from pyspark.sql.functions import max\n",
    "eight = data.filter((data['PaymentMethod'] == 'Electronic check') & ((data['Agreement'] == 'One year') | (data['Agreement'] == 'Two year'))).select(max('MonthlyServiceCharges')).show()"
   ]
  },
  {
   "cell_type": "markdown",
   "metadata": {
    "id": "gOd6dhHPR_4P"
   },
   "source": [
    "##### Q9 What is the minimum total amount of male and female customers having one year or two year agreement type. Consider only those customers who have no internet connection, no online security no online backup and no device protection service.  "
   ]
  },
  {
   "cell_type": "code",
   "execution_count": null,
   "metadata": {
    "colab": {
     "base_uri": "https://localhost:8080/"
    },
    "id": "-R0T6VKIRqDx",
    "outputId": "0386b24b-edd0-4817-b302-bc0fa8fa2d10"
   },
   "outputs": [
    {
     "name": "stdout",
     "output_type": "stream",
     "text": [
      "+------+----------------+\n",
      "|gender|min(TotalAmount)|\n",
      "+------+----------------+\n",
      "|Female|     69.21978888|\n",
      "|  Male|     59.02463086|\n",
      "+------+----------------+\n",
      "\n"
     ]
    }
   ],
   "source": [
    "from pyspark.sql.functions import min\n",
    "ninth = data.filter(((data['Agreement'] == 'One year') | (data['Agreement'] == 'Two year')) & ((data['InternetConnection'] == 'No') & (data['OnlineSecurity'] == 'No') & (data['OnlineBackup'] == 'No') & (data['DeviceProtectionService'] == 'No'))).groupBy('gender').agg(min('TotalAmount')).show()"
   ]
  },
  {
   "cell_type": "code",
   "execution_count": null,
   "metadata": {
    "id": "FA8Q-ZW7UbOj"
   },
   "outputs": [],
   "source": []
  }
 ],
 "metadata": {
  "colab": {
   "collapsed_sections": [],
   "name": "Q6.ipynb",
   "provenance": []
  },
  "kernelspec": {
   "display_name": "Python 3 (ipykernel)",
   "language": "python",
   "name": "python3"
  },
  "language_info": {
   "codemirror_mode": {
    "name": "ipython",
    "version": 3
   },
   "file_extension": ".py",
   "mimetype": "text/x-python",
   "name": "python",
   "nbconvert_exporter": "python",
   "pygments_lexer": "ipython3",
   "version": "3.10.3"
  }
 },
 "nbformat": 4,
 "nbformat_minor": 1
}
