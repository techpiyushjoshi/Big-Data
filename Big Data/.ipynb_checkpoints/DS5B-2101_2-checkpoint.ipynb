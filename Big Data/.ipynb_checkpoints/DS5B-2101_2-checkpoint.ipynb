{
 "cells": [
  {
   "cell_type": "markdown",
   "metadata": {
    "id": "Bg9RPLXyDQQi"
   },
   "source": [
    "My Roll No. Is : DS5B-2137"
   ]
  },
  {
   "cell_type": "markdown",
   "metadata": {
    "id": "hNYNgMf5eLmM"
   },
   "source": [
    "# Creating Linear Regression Model Using PySpark"
   ]
  },
  {
   "cell_type": "markdown",
   "metadata": {
    "id": "L3-Fta-tgYY6"
   },
   "source": [
    "## Install PySpark"
   ]
  },
  {
   "cell_type": "markdown",
   "metadata": {
    "id": "Lg2DOkNRDkRC"
   },
   "source": [
    "My Roll No. Is : DS5B-2137"
   ]
  },
  {
   "cell_type": "code",
   "execution_count": null,
   "metadata": {
    "colab": {
     "base_uri": "https://localhost:8080/"
    },
    "id": "YfCBmnSjeqod",
    "outputId": "a9af1be5-1715-48ab-d2a8-48b85ef717ba"
   },
   "outputs": [
    {
     "name": "stdout",
     "output_type": "stream",
     "text": [
      "Looking in indexes: https://pypi.org/simple, https://us-python.pkg.dev/colab-wheels/public/simple/\n",
      "Collecting pyspark\n",
      "  Downloading pyspark-3.2.1.tar.gz (281.4 MB)\n",
      "\u001b[K     |████████████████████████████████| 281.4 MB 34 kB/s \n",
      "\u001b[?25hCollecting py4j==0.10.9.3\n",
      "  Downloading py4j-0.10.9.3-py2.py3-none-any.whl (198 kB)\n",
      "\u001b[K     |████████████████████████████████| 198 kB 46.5 MB/s \n",
      "\u001b[?25hBuilding wheels for collected packages: pyspark\n",
      "  Building wheel for pyspark (setup.py) ... \u001b[?25l\u001b[?25hdone\n",
      "  Created wheel for pyspark: filename=pyspark-3.2.1-py2.py3-none-any.whl size=281853642 sha256=99657e37a6edb52a83d4b4e280e11c4e26947120a4b2dc8192749712f371238e\n",
      "  Stored in directory: /root/.cache/pip/wheels/9f/f5/07/7cd8017084dce4e93e84e92efd1e1d5334db05f2e83bcef74f\n",
      "Successfully built pyspark\n",
      "Installing collected packages: py4j, pyspark\n",
      "Successfully installed py4j-0.10.9.3 pyspark-3.2.1\n"
     ]
    }
   ],
   "source": [
    "pip install pyspark"
   ]
  },
  {
   "cell_type": "markdown",
   "metadata": {
    "id": "yR7EvykviV6Y"
   },
   "source": [
    "## Import Library and Creating Session"
   ]
  },
  {
   "cell_type": "markdown",
   "metadata": {
    "id": "-fiT8oXBDl_f"
   },
   "source": [
    "My Roll No. Is : DS5B-2137"
   ]
  },
  {
   "cell_type": "code",
   "execution_count": null,
   "metadata": {
    "id": "f9ny23z6m4af"
   },
   "outputs": [],
   "source": [
    "from pyspark.sql import SparkSession"
   ]
  },
  {
   "cell_type": "code",
   "execution_count": null,
   "metadata": {
    "id": "1ZRE8ENCiViN"
   },
   "outputs": [],
   "source": [
    "session = SparkSession.builder.appName(\"exam1\").master(\"local\").getOrCreate()"
   ]
  },
  {
   "cell_type": "markdown",
   "metadata": {
    "id": "qrOT2J33nJ16"
   },
   "source": [
    "## Read Dataset"
   ]
  },
  {
   "cell_type": "markdown",
   "metadata": {
    "id": "x-lqk9LPDnSq"
   },
   "source": [
    "My Roll No. Is : DS5B-2137"
   ]
  },
  {
   "cell_type": "code",
   "execution_count": null,
   "metadata": {
    "id": "-90mYa1RnuGW"
   },
   "outputs": [],
   "source": [
    "data = session.read.csv(\"Big Mart Sale.csv\", header = True, inferSchema=True)"
   ]
  },
  {
   "cell_type": "markdown",
   "metadata": {
    "id": "jMYv_3Mp6oTK"
   },
   "source": [
    "To print top 10 raw in dataset"
   ]
  },
  {
   "cell_type": "code",
   "execution_count": null,
   "metadata": {
    "colab": {
     "base_uri": "https://localhost:8080/"
    },
    "id": "8-lEP4w_n6SN",
    "outputId": "11b6d6d9-90df-4d89-c103-4785054d7dd4"
   },
   "outputs": [
    {
     "name": "stdout",
     "output_type": "stream",
     "text": [
      "+---------------+-----------+----------------+---------------+--------------------+--------+-----------------+-------------------------+-----------+--------------------+-----------------+-----------------+\n",
      "|Item_Identifier|Item_Weight|Item_Fat_Content|Item_Visibility|           Item_Type|Item_MRP|Outlet_Identifier|Outlet_Establishment_Year|Outlet_Size|Outlet_Location_Type|      Outlet_Type|Item_Outlet_Sales|\n",
      "+---------------+-----------+----------------+---------------+--------------------+--------+-----------------+-------------------------+-----------+--------------------+-----------------+-----------------+\n",
      "|          FDA15|        9.3|         Low Fat|    0.016047301|               Dairy|249.8092|           OUT049|                     1999|     Medium|              Tier 1|Supermarket Type1|         3735.138|\n",
      "|          DRC01|       5.92|         Regular|    0.019278216|         Soft Drinks| 48.2692|           OUT018|                     2009|     Medium|              Tier 3|Supermarket Type2|         443.4228|\n",
      "|          FDN15|       17.5|         Low Fat|    0.016760075|                Meat| 141.618|           OUT049|                     1999|     Medium|              Tier 1|Supermarket Type1|          2097.27|\n",
      "|          FDX07|       19.2|         Regular|            0.0|Fruits and Vegeta...| 182.095|           OUT010|                     1998|       null|              Tier 3|    Grocery Store|           732.38|\n",
      "|          NCD19|       8.93|         Low Fat|            0.0|           Household| 53.8614|           OUT013|                     1987|       High|              Tier 3|Supermarket Type1|         994.7052|\n",
      "|          FDP36|     10.395|         Regular|            0.0|        Baking Goods| 51.4008|           OUT018|                     2009|     Medium|              Tier 3|Supermarket Type2|         556.6088|\n",
      "|          FDO10|      13.65|         Regular|    0.012741089|         Snack Foods| 57.6588|           OUT013|                     1987|       High|              Tier 3|Supermarket Type1|         343.5528|\n",
      "|          FDP10|       null|         Low Fat|    0.127469857|         Snack Foods|107.7622|           OUT027|                     1985|     Medium|              Tier 3|Supermarket Type3|        4022.7636|\n",
      "|          FDH17|       16.2|         Regular|    0.016687114|        Frozen Foods| 96.9726|           OUT045|                     2002|       null|              Tier 2|Supermarket Type1|        1076.5986|\n",
      "|          FDU28|       19.2|         Regular|     0.09444959|        Frozen Foods|187.8214|           OUT017|                     2007|       null|              Tier 2|Supermarket Type1|         4710.535|\n",
      "+---------------+-----------+----------------+---------------+--------------------+--------+-----------------+-------------------------+-----------+--------------------+-----------------+-----------------+\n",
      "only showing top 10 rows\n",
      "\n"
     ]
    }
   ],
   "source": [
    "data.show(10)"
   ]
  },
  {
   "cell_type": "markdown",
   "metadata": {
    "id": "cowJbn4e7gqY"
   },
   "source": [
    "## Check Null Values in columns"
   ]
  },
  {
   "cell_type": "code",
   "execution_count": null,
   "metadata": {
    "id": "Ij-JqIeJ7YAf"
   },
   "outputs": [],
   "source": [
    "from pyspark.sql.functions import isnan, when, count, col"
   ]
  },
  {
   "cell_type": "code",
   "execution_count": null,
   "metadata": {
    "colab": {
     "base_uri": "https://localhost:8080/"
    },
    "id": "uO1Eu7Hi6reg",
    "outputId": "b0fc2489-849b-4e6d-a748-f58daf4f3368"
   },
   "outputs": [
    {
     "name": "stdout",
     "output_type": "stream",
     "text": [
      "+---------------+-----------+----------------+---------------+---------+--------+-----------------+-------------------------+-----------+--------------------+-----------+-----------------+\n",
      "|Item_Identifier|Item_Weight|Item_Fat_Content|Item_Visibility|Item_Type|Item_MRP|Outlet_Identifier|Outlet_Establishment_Year|Outlet_Size|Outlet_Location_Type|Outlet_Type|Item_Outlet_Sales|\n",
      "+---------------+-----------+----------------+---------------+---------+--------+-----------------+-------------------------+-----------+--------------------+-----------+-----------------+\n",
      "|              0|       1463|               0|              0|        0|       0|                0|                        0|       2410|                   0|          0|                0|\n",
      "+---------------+-----------+----------------+---------------+---------+--------+-----------------+-------------------------+-----------+--------------------+-----------+-----------------+\n",
      "\n"
     ]
    }
   ],
   "source": [
    "data.select([count(when(isnan(c) | col(c).isNull(), c)).alias(c) for c in data.columns]).show()"
   ]
  },
  {
   "cell_type": "code",
   "execution_count": null,
   "metadata": {
    "id": "BzI9DVIn_lxY"
   },
   "outputs": [],
   "source": [
    "import pyspark.sql.functions as func "
   ]
  },
  {
   "cell_type": "code",
   "execution_count": null,
   "metadata": {
    "colab": {
     "base_uri": "https://localhost:8080/"
    },
    "id": "zCWFDGkc_myM",
    "outputId": "d17dedc4-02a2-4dad-cc3f-15ae737ca766"
   },
   "outputs": [
    {
     "name": "stdout",
     "output_type": "stream",
     "text": [
      "+----+\n",
      "|mean|\n",
      "+----+\n",
      "|12.6|\n",
      "+----+\n",
      "\n"
     ]
    }
   ],
   "source": [
    "data.agg(func.percentile_approx(\"Item_Weight\", 0.5).alias(\"mean\")).show()"
   ]
  },
  {
   "cell_type": "markdown",
   "metadata": {
    "id": "Jm34lIak7luB"
   },
   "source": [
    "## Fill Null Values "
   ]
  },
  {
   "cell_type": "markdown",
   "metadata": {
    "id": "58whoQnDAUaU"
   },
   "source": [
    "First we replace 12.6 in place of Null values in Item_weight column because it is mean in this column"
   ]
  },
  {
   "cell_type": "code",
   "execution_count": null,
   "metadata": {
    "id": "_tdzQJ81AUH3"
   },
   "outputs": [],
   "source": [
    "data = data.na.fill(value=12.6,subset=[\"Item_Weight\"])"
   ]
  },
  {
   "cell_type": "markdown",
   "metadata": {
    "id": "xTerxbtv_3-I"
   },
   "source": [
    "Second we return Medium in place of Null values in Outlet_Size Column Because Medium is the median in Outlet_Size Column"
   ]
  },
  {
   "cell_type": "code",
   "execution_count": null,
   "metadata": {
    "id": "fA13FInX7k8G"
   },
   "outputs": [],
   "source": [
    "data = data.na.fill(value=\"Medium\",subset=[\"Outlet_Size\"])"
   ]
  },
  {
   "cell_type": "code",
   "execution_count": null,
   "metadata": {
    "colab": {
     "base_uri": "https://localhost:8080/"
    },
    "id": "4SlFLrZBAw6U",
    "outputId": "cd62255f-c56f-4ef7-d8f3-6a3cc2b9d900"
   },
   "outputs": [
    {
     "name": "stdout",
     "output_type": "stream",
     "text": [
      "+---------------+-----------+----------------+---------------+--------------------+--------+-----------------+-------------------------+-----------+--------------------+-----------------+-----------------+\n",
      "|Item_Identifier|Item_Weight|Item_Fat_Content|Item_Visibility|           Item_Type|Item_MRP|Outlet_Identifier|Outlet_Establishment_Year|Outlet_Size|Outlet_Location_Type|      Outlet_Type|Item_Outlet_Sales|\n",
      "+---------------+-----------+----------------+---------------+--------------------+--------+-----------------+-------------------------+-----------+--------------------+-----------------+-----------------+\n",
      "|          FDA15|        9.3|         Low Fat|    0.016047301|               Dairy|249.8092|           OUT049|                     1999|     Medium|              Tier 1|Supermarket Type1|         3735.138|\n",
      "|          DRC01|       5.92|         Regular|    0.019278216|         Soft Drinks| 48.2692|           OUT018|                     2009|     Medium|              Tier 3|Supermarket Type2|         443.4228|\n",
      "|          FDN15|       17.5|         Low Fat|    0.016760075|                Meat| 141.618|           OUT049|                     1999|     Medium|              Tier 1|Supermarket Type1|          2097.27|\n",
      "|          FDX07|       19.2|         Regular|            0.0|Fruits and Vegeta...| 182.095|           OUT010|                     1998|     Medium|              Tier 3|    Grocery Store|           732.38|\n",
      "|          NCD19|       8.93|         Low Fat|            0.0|           Household| 53.8614|           OUT013|                     1987|       High|              Tier 3|Supermarket Type1|         994.7052|\n",
      "|          FDP36|     10.395|         Regular|            0.0|        Baking Goods| 51.4008|           OUT018|                     2009|     Medium|              Tier 3|Supermarket Type2|         556.6088|\n",
      "|          FDO10|      13.65|         Regular|    0.012741089|         Snack Foods| 57.6588|           OUT013|                     1987|       High|              Tier 3|Supermarket Type1|         343.5528|\n",
      "|          FDP10|       12.6|         Low Fat|    0.127469857|         Snack Foods|107.7622|           OUT027|                     1985|     Medium|              Tier 3|Supermarket Type3|        4022.7636|\n",
      "|          FDH17|       16.2|         Regular|    0.016687114|        Frozen Foods| 96.9726|           OUT045|                     2002|     Medium|              Tier 2|Supermarket Type1|        1076.5986|\n",
      "|          FDU28|       19.2|         Regular|     0.09444959|        Frozen Foods|187.8214|           OUT017|                     2007|     Medium|              Tier 2|Supermarket Type1|         4710.535|\n",
      "|          FDY07|       11.8|         Low Fat|            0.0|Fruits and Vegeta...| 45.5402|           OUT049|                     1999|     Medium|              Tier 1|Supermarket Type1|        1516.0266|\n",
      "|          FDA03|       18.5|         Regular|    0.045463773|               Dairy|144.1102|           OUT046|                     1997|      Small|              Tier 1|Supermarket Type1|         2187.153|\n",
      "|          FDX32|       15.1|         Regular|      0.1000135|Fruits and Vegeta...|145.4786|           OUT049|                     1999|     Medium|              Tier 1|Supermarket Type1|        1589.2646|\n",
      "|          FDS46|       17.6|         Regular|    0.047257328|         Snack Foods|119.6782|           OUT046|                     1997|      Small|              Tier 1|Supermarket Type1|        2145.2076|\n",
      "|          FDF32|      16.35|         Low Fat|      0.0680243|Fruits and Vegeta...|196.4426|           OUT013|                     1987|       High|              Tier 3|Supermarket Type1|         1977.426|\n",
      "|          FDP49|        9.0|         Regular|    0.069088961|           Breakfast| 56.3614|           OUT046|                     1997|      Small|              Tier 1|Supermarket Type1|        1547.3192|\n",
      "|          NCB42|       11.8|         Low Fat|    0.008596051|  Health and Hygiene|115.3492|           OUT018|                     2009|     Medium|              Tier 3|Supermarket Type2|        1621.8888|\n",
      "|          FDP49|        9.0|         Regular|    0.069196376|           Breakfast| 54.3614|           OUT049|                     1999|     Medium|              Tier 1|Supermarket Type1|         718.3982|\n",
      "|          DRI11|       12.6|         Low Fat|    0.034237682|         Hard Drinks|113.2834|           OUT027|                     1985|     Medium|              Tier 3|Supermarket Type3|         2303.668|\n",
      "|          FDU02|      13.35|         Low Fat|     0.10249212|               Dairy|230.5352|           OUT035|                     2004|      Small|              Tier 2|Supermarket Type1|        2748.4224|\n",
      "+---------------+-----------+----------------+---------------+--------------------+--------+-----------------+-------------------------+-----------+--------------------+-----------------+-----------------+\n",
      "only showing top 20 rows\n",
      "\n"
     ]
    }
   ],
   "source": [
    "data.show()"
   ]
  },
  {
   "cell_type": "markdown",
   "metadata": {
    "id": "pI21I1m0BIMy"
   },
   "source": [
    "## A Simple Exploratory Of Dataset"
   ]
  },
  {
   "cell_type": "markdown",
   "metadata": {
    "id": "_TzI_Cdz63uH"
   },
   "source": [
    "To print all columns name"
   ]
  },
  {
   "cell_type": "code",
   "execution_count": null,
   "metadata": {
    "colab": {
     "base_uri": "https://localhost:8080/"
    },
    "id": "TTEOvtCsn76Y",
    "outputId": "61dd715b-5eae-4f5a-ed64-880882f33b1a"
   },
   "outputs": [
    {
     "data": {
      "text/plain": [
       "['Item_Identifier',\n",
       " 'Item_Weight',\n",
       " 'Item_Fat_Content',\n",
       " 'Item_Visibility',\n",
       " 'Item_Type',\n",
       " 'Item_MRP',\n",
       " 'Outlet_Identifier',\n",
       " 'Outlet_Establishment_Year',\n",
       " 'Outlet_Size',\n",
       " 'Outlet_Location_Type',\n",
       " 'Outlet_Type',\n",
       " 'Item_Outlet_Sales']"
      ]
     },
     "execution_count": 62,
     "metadata": {},
     "output_type": "execute_result"
    }
   ],
   "source": [
    "data.columns"
   ]
  },
  {
   "cell_type": "markdown",
   "metadata": {
    "id": "pNGfiOqZ660N"
   },
   "source": [
    "To count total numbers of raws in dataset"
   ]
  },
  {
   "cell_type": "code",
   "execution_count": null,
   "metadata": {
    "colab": {
     "base_uri": "https://localhost:8080/"
    },
    "id": "Omlt4aM8pBhl",
    "outputId": "579c33b2-21cc-45d5-fe0a-c3c02518d49c"
   },
   "outputs": [
    {
     "data": {
      "text/plain": [
       "8523"
      ]
     },
     "execution_count": 63,
     "metadata": {},
     "output_type": "execute_result"
    }
   ],
   "source": [
    "data.count()"
   ]
  },
  {
   "cell_type": "markdown",
   "metadata": {
    "id": "aVUwHS4q69Ph"
   },
   "source": [
    "To print the schema of dataset, Spark schema is the structure of the DataFrame or Dataset, which is a collection of StructField that define the column name(String), column type (DataType), nullable column (Boolean) and metadata (MetaData)"
   ]
  },
  {
   "cell_type": "code",
   "execution_count": null,
   "metadata": {
    "colab": {
     "base_uri": "https://localhost:8080/"
    },
    "id": "afDS_hI_pIv5",
    "outputId": "baa50b08-3916-41f2-c992-8157bd8e39c1"
   },
   "outputs": [
    {
     "name": "stdout",
     "output_type": "stream",
     "text": [
      "root\n",
      " |-- Item_Identifier: string (nullable = true)\n",
      " |-- Item_Weight: double (nullable = false)\n",
      " |-- Item_Fat_Content: string (nullable = true)\n",
      " |-- Item_Visibility: double (nullable = true)\n",
      " |-- Item_Type: string (nullable = true)\n",
      " |-- Item_MRP: double (nullable = true)\n",
      " |-- Outlet_Identifier: string (nullable = true)\n",
      " |-- Outlet_Establishment_Year: integer (nullable = true)\n",
      " |-- Outlet_Size: string (nullable = false)\n",
      " |-- Outlet_Location_Type: string (nullable = true)\n",
      " |-- Outlet_Type: string (nullable = true)\n",
      " |-- Item_Outlet_Sales: double (nullable = true)\n",
      "\n"
     ]
    }
   ],
   "source": [
    "data.printSchema()"
   ]
  },
  {
   "cell_type": "markdown",
   "metadata": {
    "id": "s9EP9-0o7GfI"
   },
   "source": [
    "To know data type of each columns"
   ]
  },
  {
   "cell_type": "code",
   "execution_count": null,
   "metadata": {
    "colab": {
     "base_uri": "https://localhost:8080/"
    },
    "id": "WdGL_XbVpWcK",
    "outputId": "d9be7fda-3dc1-4e2f-d106-56b07fef0e37"
   },
   "outputs": [
    {
     "data": {
      "text/plain": [
       "[('Item_Identifier', 'string'),\n",
       " ('Item_Weight', 'double'),\n",
       " ('Item_Fat_Content', 'string'),\n",
       " ('Item_Visibility', 'double'),\n",
       " ('Item_Type', 'string'),\n",
       " ('Item_MRP', 'double'),\n",
       " ('Outlet_Identifier', 'string'),\n",
       " ('Outlet_Establishment_Year', 'int'),\n",
       " ('Outlet_Size', 'string'),\n",
       " ('Outlet_Location_Type', 'string'),\n",
       " ('Outlet_Type', 'string'),\n",
       " ('Item_Outlet_Sales', 'double')]"
      ]
     },
     "execution_count": 65,
     "metadata": {},
     "output_type": "execute_result"
    }
   ],
   "source": [
    "data.dtypes"
   ]
  },
  {
   "cell_type": "markdown",
   "metadata": {
    "id": "vG6L0agw7KrH"
   },
   "source": [
    "## Data Preprocessing\n",
    "Here we convert the data into machine readable form"
   ]
  },
  {
   "cell_type": "markdown",
   "metadata": {
    "id": "KXWOGqUu7XQg"
   },
   "source": [
    "**VectorAssembler :-** It is feature transformer that combine multiple columns into a single vector column.\n",
    "\n",
    "**StringIndexer :-** It is use for mapping a string columm to a index column that will be treated as a categorical column by spark.\n",
    "\n",
    "OneHotEncoder :- It is an important technique for converting categorical attributes into a numeric vector"
   ]
  },
  {
   "cell_type": "code",
   "execution_count": null,
   "metadata": {
    "id": "ny6aT4Nlp858"
   },
   "outputs": [],
   "source": [
    "from pyspark.ml.feature import VectorAssembler, StringIndexer, OneHotEncoder"
   ]
  },
  {
   "cell_type": "code",
   "execution_count": null,
   "metadata": {
    "id": "k90WAYtlqDky"
   },
   "outputs": [],
   "source": [
    "str_index = StringIndexer(inputCols = ['Item_Identifier','Item_Fat_Content','Item_Type','Outlet_Identifier','Outlet_Establishment_Year','Outlet_Size','Outlet_Location_Type','Outlet_Type'], outputCols = ['Item_Identifier1','Item_Fat_Content1','Item_Type1','Outlet_Identifier1','Outlet_Establishment_Year1','Outlet_Size1','Outlet_Location_Type1','Outlet_Type1'], handleInvalid = \"skip\", stringOrderType= \"frequencyDesc\")"
   ]
  },
  {
   "cell_type": "code",
   "execution_count": null,
   "metadata": {
    "id": "ZU22WMRIqGW1"
   },
   "outputs": [],
   "source": [
    "one_hot = OneHotEncoder(inputCols =['Item_Identifier1','Item_Fat_Content1','Item_Type1','Outlet_Identifier1','Outlet_Establishment_Year1','Outlet_Size1','Outlet_Location_Type1','Outlet_Type1'],  outputCols=['Item_Identifier2','Item_Fat_Content2','Item_Type2','Outlet_Identifier2','Outlet_Establishment_Year2','Outlet_Size2','Outlet_Location_Type2','Outlet_Type2'] )"
   ]
  },
  {
   "cell_type": "code",
   "execution_count": null,
   "metadata": {
    "id": "pI0QxGBvqIln"
   },
   "outputs": [],
   "source": [
    "vector_ass = VectorAssembler(inputCols = ['Item_Weight','Item_Fat_Content2','Item_Visibility','Item_Type2','Item_MRP','Outlet_Size2','Outlet_Location_Type2','Outlet_Type2'], outputCol = \"allfeatures\")"
   ]
  },
  {
   "cell_type": "markdown",
   "metadata": {
    "id": "xfFSKOI27f0A"
   },
   "source": [
    "## Import Linear Regression and Create Model"
   ]
  },
  {
   "cell_type": "code",
   "execution_count": null,
   "metadata": {
    "id": "g9NewnuXqLVl"
   },
   "outputs": [],
   "source": [
    "from pyspark.ml.regression import LinearRegression"
   ]
  },
  {
   "cell_type": "code",
   "execution_count": null,
   "metadata": {
    "id": "4vrsx1swqZ74"
   },
   "outputs": [],
   "source": [
    "linear = LinearRegression(featuresCol=\"allfeatures\", labelCol=\"Item_Outlet_Sales\")"
   ]
  },
  {
   "cell_type": "markdown",
   "metadata": {
    "id": "pV3ZCFptqgK6"
   },
   "source": [
    "# Create Pipeline for ML Model\n",
    "\n",
    "\n"
   ]
  },
  {
   "cell_type": "code",
   "execution_count": null,
   "metadata": {
    "id": "B7SB8rxsqmWH"
   },
   "outputs": [],
   "source": [
    "from pyspark.ml import Pipeline\n",
    "mypipeline = Pipeline(stages = [str_index, one_hot, vector_ass, linear])"
   ]
  },
  {
   "cell_type": "markdown",
   "metadata": {
    "id": "46tDUnEVqxNq"
   },
   "source": [
    "# Making Train Test Split"
   ]
  },
  {
   "cell_type": "markdown",
   "metadata": {
    "id": "x78fX37nCWvS"
   },
   "source": [
    "My Roll No. Is : 37"
   ]
  },
  {
   "cell_type": "markdown",
   "metadata": {
    "id": "fLvnBhYx8GfH"
   },
   "source": [
    "Using randomsplit data is split into 77% of training and 23% of test as given"
   ]
  },
  {
   "cell_type": "code",
   "execution_count": null,
   "metadata": {
    "id": "93iUsVZhq6My"
   },
   "outputs": [],
   "source": [
    "training, test = data.randomSplit([0.77, 0.23])"
   ]
  },
  {
   "cell_type": "markdown",
   "metadata": {
    "id": "Og4jkhDvrD3I"
   },
   "source": [
    "## Model Training"
   ]
  },
  {
   "cell_type": "code",
   "execution_count": null,
   "metadata": {
    "id": "n0uOaoqFrGJl"
   },
   "outputs": [],
   "source": [
    "lin_reg_model = mypipeline.fit(training)"
   ]
  },
  {
   "cell_type": "markdown",
   "metadata": {
    "id": "Y8VANWherVi0"
   },
   "source": [
    "## Test Model"
   ]
  },
  {
   "cell_type": "code",
   "execution_count": null,
   "metadata": {
    "id": "Q9wiIzj1rYaU"
   },
   "outputs": [],
   "source": [
    "result = lin_reg_model.transform(test)"
   ]
  },
  {
   "cell_type": "code",
   "execution_count": null,
   "metadata": {
    "colab": {
     "base_uri": "https://localhost:8080/"
    },
    "id": "-Fneoplsrbvr",
    "outputId": "396cbcf1-180b-418e-ecd9-7f2d3b811fde"
   },
   "outputs": [
    {
     "name": "stdout",
     "output_type": "stream",
     "text": [
      "+---------------+-----------+----------------+---------------+-----------+--------+-----------------+-------------------------+-----------+--------------------+-----------------+-----------------+----------------+-----------------+----------+------------------+--------------------------+------------+---------------------+------------+-------------------+-----------------+--------------+------------------+--------------------------+-------------+---------------------+-------------+--------------------+-------------------+\n",
      "|Item_Identifier|Item_Weight|Item_Fat_Content|Item_Visibility|  Item_Type|Item_MRP|Outlet_Identifier|Outlet_Establishment_Year|Outlet_Size|Outlet_Location_Type|      Outlet_Type|Item_Outlet_Sales|Item_Identifier1|Item_Fat_Content1|Item_Type1|Outlet_Identifier1|Outlet_Establishment_Year1|Outlet_Size1|Outlet_Location_Type1|Outlet_Type1|   Item_Identifier2|Item_Fat_Content2|    Item_Type2|Outlet_Identifier2|Outlet_Establishment_Year2| Outlet_Size2|Outlet_Location_Type2| Outlet_Type2|         allfeatures|         prediction|\n",
      "+---------------+-----------+----------------+---------------+-----------+--------+-----------------+-------------------------+-----------+--------------------+-----------------+-----------------+----------------+-----------------+----------+------------------+--------------------------+------------+---------------------+------------+-------------------+-----------------+--------------+------------------+--------------------------+-------------+---------------------+-------------+--------------------+-------------------+\n",
      "|          DRA12|       11.6|         Low Fat|            0.0|Soft Drinks|141.6154|           OUT045|                     2002|     Medium|              Tier 2|Supermarket Type1|        3829.0158|          1051.0|              0.0|       8.0|               7.0|                       7.0|         0.0|                  1.0|         0.0|(1553,[1051],[1.0])|    (4,[0],[1.0])|(15,[8],[1.0])|     (9,[7],[1.0])|             (8,[7],[1.0])|(2,[0],[1.0])|        (2,[1],[1.0])|(3,[0],[1.0])|(29,[0,1,14,21,22...|  2277.372227927723|\n",
      "|          DRA12|       11.6|         Low Fat|    0.041112694|Soft Drinks|142.0154|           OUT018|                     2009|     Medium|              Tier 3|Supermarket Type2|         850.8924|          1051.0|              0.0|       8.0|               5.0|                       5.0|         0.0|                  0.0|         3.0|(1553,[1051],[1.0])|    (4,[0],[1.0])|(15,[8],[1.0])|     (9,[5],[1.0])|             (8,[5],[1.0])|(2,[0],[1.0])|        (2,[0],[1.0])|    (3,[],[])|(29,[0,1,5,14,21,...|   1937.56029983537|\n",
      "|          DRA12|       11.6|         Low Fat|    0.068535039|Soft Drinks|143.0154|           OUT010|                     1998|     Medium|              Tier 3|    Grocery Store|         283.6308|          1051.0|              0.0|       8.0|               8.0|                       8.0|         0.0|                  0.0|         1.0|(1553,[1051],[1.0])|    (4,[0],[1.0])|(15,[8],[1.0])|     (9,[8],[1.0])|                 (8,[],[])|(2,[0],[1.0])|        (2,[0],[1.0])|(3,[1],[1.0])|(29,[0,1,5,14,21,...| 327.38010298800816|\n",
      "|          DRA24|      19.35|         Regular|    0.039920687|Soft Drinks|163.3868|           OUT035|                     2004|      Small|              Tier 2|Supermarket Type1|        3439.5228|           322.0|              1.0|       8.0|               1.0|                       2.0|         1.0|                  1.0|         0.0| (1553,[322],[1.0])|    (4,[1],[1.0])|(15,[8],[1.0])|     (9,[1],[1.0])|             (8,[2],[1.0])|(2,[1],[1.0])|        (2,[1],[1.0])|(3,[0],[1.0])|(29,[0,2,5,14,21,...| 2671.7706482761328|\n",
      "|          DRA24|      19.35|         Regular|    0.040154087|Soft Drinks|164.6868|           OUT017|                     2007|     Medium|              Tier 2|Supermarket Type1|        1146.5076|           322.0|              1.0|       8.0|               2.0|                       3.0|         0.0|                  1.0|         0.0| (1553,[322],[1.0])|    (4,[1],[1.0])|(15,[8],[1.0])|     (9,[2],[1.0])|             (8,[3],[1.0])|(2,[0],[1.0])|        (2,[1],[1.0])|(3,[0],[1.0])|(29,[0,2,5,14,21,...|  2691.662378943857|\n",
      "|          DRA59|       8.27|         Regular|            0.0|Soft Drinks|183.2924|           OUT017|                     2007|     Medium|              Tier 2|Supermarket Type1|        2406.2012|            97.0|              1.0|       8.0|               2.0|                       3.0|         0.0|                  1.0|         0.0|  (1553,[97],[1.0])|    (4,[1],[1.0])|(15,[8],[1.0])|     (9,[2],[1.0])|             (8,[3],[1.0])|(2,[0],[1.0])|        (2,[1],[1.0])|(3,[0],[1.0])|(29,[0,2,14,21,22...| 3009.0974065421287|\n",
      "|          DRA59|       12.6|         Regular|    0.127308434|Soft Drinks|186.6924|           OUT027|                     1985|     Medium|              Tier 3|Supermarket Type3|        7033.5112|            97.0|              1.0|       8.0|               4.0|                       0.0|         0.0|                  0.0|         2.0|  (1553,[97],[1.0])|    (4,[1],[1.0])|(15,[8],[1.0])|     (9,[4],[1.0])|             (8,[0],[1.0])|(2,[0],[1.0])|        (2,[0],[1.0])|(3,[2],[1.0])|(29,[0,2,5,14,21,...|    4393.2781578674|\n",
      "|          DRB01|       7.39|         Low Fat|    0.082367244|Soft Drinks| 187.753|           OUT049|                     1999|     Medium|              Tier 1|Supermarket Type1|         1518.024|          1336.0|              0.0|       8.0|               3.0|                       4.0|         0.0|                  2.0|         0.0|(1553,[1336],[1.0])|    (4,[0],[1.0])|(15,[8],[1.0])|     (9,[3],[1.0])|             (8,[4],[1.0])|(2,[0],[1.0])|            (2,[],[])|(3,[0],[1.0])|(29,[0,1,5,14,21,...|  2996.614390466222|\n",
      "|          DRB13|      6.115|         Regular|    0.007043008|Soft Drinks| 190.353|           OUT035|                     2004|      Small|              Tier 2|Supermarket Type1|          569.259|          1052.0|              1.0|       8.0|               1.0|                       2.0|         1.0|                  1.0|         0.0|(1553,[1052],[1.0])|    (4,[1],[1.0])|(15,[8],[1.0])|     (9,[1],[1.0])|             (8,[2],[1.0])|(2,[1],[1.0])|        (2,[1],[1.0])|(3,[0],[1.0])|(29,[0,2,5,14,21,...|  3120.027487849694|\n",
      "|          DRB13|      6.115|         Regular|     0.01179078|Soft Drinks| 189.053|           OUT010|                     1998|     Medium|              Tier 3|    Grocery Store|          948.765|          1052.0|              1.0|       8.0|               8.0|                       8.0|         0.0|                  0.0|         1.0|(1553,[1052],[1.0])|    (4,[1],[1.0])|(15,[8],[1.0])|     (9,[8],[1.0])|                 (8,[],[])|(2,[0],[1.0])|        (2,[0],[1.0])|(3,[1],[1.0])|(29,[0,2,5,14,21,...| 1146.3741600280819|\n",
      "|          DRB25|       12.3|         Low Fat|    0.069446588|Soft Drinks|106.3938|           OUT035|                     2004|      Small|              Tier 2|Supermarket Type1|         857.5504|           323.0|              0.0|       8.0|               1.0|                       2.0|         1.0|                  1.0|         0.0| (1553,[323],[1.0])|    (4,[0],[1.0])|(15,[8],[1.0])|     (9,[1],[1.0])|             (8,[2],[1.0])|(2,[1],[1.0])|        (2,[1],[1.0])|(3,[0],[1.0])|(29,[0,1,5,14,21,...| 1711.1967642199536|\n",
      "|          DRB48|       12.6|         Regular|    0.024733134|Soft Drinks| 40.2822|           OUT027|                     1985|     Medium|              Tier 3|Supermarket Type3|        1296.3126|           672.0|              1.0|       8.0|               4.0|                       0.0|         0.0|                  0.0|         2.0| (1553,[672],[1.0])|    (4,[1],[1.0])|(15,[8],[1.0])|     (9,[4],[1.0])|             (8,[0],[1.0])|(2,[0],[1.0])|        (2,[0],[1.0])|(3,[2],[1.0])|(29,[0,2,5,14,21,...| 2156.0649493401916|\n",
      "|          DRB48|      16.75|         Regular|    0.024848788|Soft Drinks| 39.9822|           OUT035|                     2004|      Small|              Tier 2|Supermarket Type1|         746.3618|           672.0|              1.0|       8.0|               1.0|                       2.0|         1.0|                  1.0|         0.0| (1553,[672],[1.0])|    (4,[1],[1.0])|(15,[8],[1.0])|     (9,[1],[1.0])|             (8,[2],[1.0])|(2,[1],[1.0])|        (2,[1],[1.0])|(3,[0],[1.0])|(29,[0,2,5,14,21,...|  769.7994983213209|\n",
      "|          DRB48|      16.75|         Regular|    0.041599644|Soft Drinks| 40.9822|           OUT010|                     1998|     Medium|              Tier 3|    Grocery Store|         157.1288|           672.0|              1.0|       8.0|               8.0|                       8.0|         0.0|                  0.0|         1.0| (1553,[672],[1.0])|    (4,[1],[1.0])|(15,[8],[1.0])|     (9,[8],[1.0])|                 (8,[],[])|(2,[0],[1.0])|        (2,[0],[1.0])|(3,[1],[1.0])|(29,[0,2,5,14,21,...|-1171.6910866866936|\n",
      "|          DRC01|       5.92|         Regular|    0.019278216|Soft Drinks| 48.2692|           OUT018|                     2009|     Medium|              Tier 3|Supermarket Type2|         443.4228|           673.0|              1.0|       8.0|               5.0|                       5.0|         0.0|                  0.0|         3.0| (1553,[673],[1.0])|    (4,[1],[1.0])|(15,[8],[1.0])|     (9,[5],[1.0])|             (8,[5],[1.0])|(2,[0],[1.0])|        (2,[0],[1.0])|    (3,[],[])|(29,[0,2,5,14,21,...|  582.7858526373045|\n",
      "|          DRC01|       5.92|         Regular|    0.019308607|Soft Drinks| 49.0692|           OUT017|                     2007|     Medium|              Tier 2|Supermarket Type1|         1478.076|           673.0|              1.0|       8.0|               2.0|                       3.0|         0.0|                  1.0|         0.0| (1553,[673],[1.0])|    (4,[1],[1.0])|(15,[8],[1.0])|     (9,[2],[1.0])|             (8,[3],[1.0])|(2,[0],[1.0])|        (2,[1],[1.0])|(3,[0],[1.0])|(29,[0,2,5,14,21,...|  929.3680572902323|\n",
      "|          DRC12|      17.85|         Low Fat|     0.03781972|Soft Drinks|191.6188|           OUT035|                     2004|      Small|              Tier 2|Supermarket Type1|        2475.4444|          1498.0|              0.0|       8.0|               1.0|                       2.0|         1.0|                  1.0|         0.0|(1553,[1498],[1.0])|    (4,[0],[1.0])|(15,[8],[1.0])|     (9,[1],[1.0])|             (8,[2],[1.0])|(2,[1],[1.0])|        (2,[1],[1.0])|(3,[0],[1.0])|(29,[0,1,5,14,21,...| 3030.7345765579985|\n",
      "|          DRC12|      17.85|         Low Fat|    0.037826873|Soft Drinks|189.7188|           OUT046|                     1997|      Small|              Tier 1|Supermarket Type1|        2285.0256|          1498.0|              0.0|       8.0|               6.0|                       6.0|         1.0|                  2.0|         0.0|(1553,[1498],[1.0])|    (4,[0],[1.0])|(15,[8],[1.0])|     (9,[6],[1.0])|             (8,[6],[1.0])|(2,[1],[1.0])|            (2,[],[])|(3,[0],[1.0])|(29,[0,1,5,14,21,...|  3023.129033573159|\n",
      "|          DRC12|      17.85|         Low Fat|    0.038040837|Soft Drinks|189.1188|           OUT017|                     2007|     Medium|              Tier 2|Supermarket Type1|        3237.1196|          1498.0|              0.0|       8.0|               2.0|                       3.0|         0.0|                  1.0|         0.0|(1553,[1498],[1.0])|    (4,[0],[1.0])|(15,[8],[1.0])|     (9,[2],[1.0])|             (8,[3],[1.0])|(2,[0],[1.0])|        (2,[1],[1.0])|(3,[0],[1.0])|(29,[0,1,5,14,21,...| 2991.8000936798494|\n",
      "|          DRC13|       8.26|         Regular|    0.032573725|Soft Drinks| 125.073|           OUT018|                     2009|     Medium|              Tier 3|Supermarket Type2|          985.384|          1337.0|              1.0|       8.0|               5.0|                       5.0|         0.0|                  0.0|         3.0|(1553,[1337],[1.0])|    (4,[1],[1.0])|(15,[8],[1.0])|     (9,[5],[1.0])|             (8,[5],[1.0])|(2,[0],[1.0])|        (2,[0],[1.0])|    (3,[],[])|(29,[0,2,5,14,21,...| 1764.2353427575733|\n",
      "+---------------+-----------+----------------+---------------+-----------+--------+-----------------+-------------------------+-----------+--------------------+-----------------+-----------------+----------------+-----------------+----------+------------------+--------------------------+------------+---------------------+------------+-------------------+-----------------+--------------+------------------+--------------------------+-------------+---------------------+-------------+--------------------+-------------------+\n",
      "only showing top 20 rows\n",
      "\n"
     ]
    }
   ],
   "source": [
    "result.show()"
   ]
  },
  {
   "cell_type": "markdown",
   "metadata": {
    "id": "p468CB2VrmkB"
   },
   "source": [
    "## Evaluate Model"
   ]
  },
  {
   "cell_type": "code",
   "execution_count": null,
   "metadata": {
    "id": "WzOJ7c0MFVVF"
   },
   "outputs": [],
   "source": [
    "from pyspark.ml.evaluation import RegressionEvaluator"
   ]
  },
  {
   "cell_type": "code",
   "execution_count": null,
   "metadata": {
    "colab": {
     "base_uri": "https://localhost:8080/"
    },
    "id": "A85kcDf8Bl0C",
    "outputId": "c4019c49-191b-4519-bc08-68cdb1950a04"
   },
   "outputs": [
    {
     "name": "stdout",
     "output_type": "stream",
     "text": [
      "The R-Square or Accuracy of Model is 0.5609324399455548\n",
      "The Root Mean Square Error of Model is 1146.154277794764\n",
      "The Mean Square Error of Model is 1313669.6285072374\n",
      "The Mean Absolute Error of Model is 854.720185337692\n"
     ]
    }
   ],
   "source": [
    "errors = [\"r2\", \"rmse\", \"mse\", \"mae\"]\n",
    "name = [\"R-Square or Accuracy\", \"Root Mean Square Error\", \"Mean Square Error\", \"Mean Absolute Error\"]\n",
    "\n",
    "for i in range(len(errors)):\n",
    "  eval = RegressionEvaluator(predictionCol=\"prediction\", labelCol='Item_Outlet_Sales', metricName=errors[i])\n",
    "  print(\"The {} of Model is {}\".format(name[i],eval.evaluate(result)))"
   ]
  },
  {
   "cell_type": "code",
   "execution_count": null,
   "metadata": {
    "id": "EFhFHXfbrn2k"
   },
   "outputs": [],
   "source": [
    ""
   ]
  }
 ],
 "metadata": {
  "colab": {
   "collapsed_sections": [],
   "name": "IIQuestion_Linear_Regression_DS5B-2137.ipynb",
   "provenance": []
  },
  "kernelspec": {
   "display_name": "Python 3",
   "name": "python3"
  },
  "language_info": {
   "name": "python"
  }
 },
 "nbformat": 4,
 "nbformat_minor": 0
}
