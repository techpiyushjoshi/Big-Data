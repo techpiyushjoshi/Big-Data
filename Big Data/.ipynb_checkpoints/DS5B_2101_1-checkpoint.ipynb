{
 "cells": [
  {
   "cell_type": "markdown",
   "metadata": {
    "id": "RGst18qaOr0G"
   },
   "source": [
    "####Roll no:- DS5B-2101"
   ]
  },
  {
   "cell_type": "markdown",
   "metadata": {
    "id": "OW_pmSUB4W_f"
   },
   "source": [
    "**Q1:- Considering left as dependent variable in HR dataset, split the dataset according to your last digit of roll no. Here my roll no is ending with 1, the ratio will be 71, 29. The accuracy of the model is as follows:-**"
   ]
  },
  {
   "cell_type": "markdown",
   "metadata": {
    "id": "M9389kj-DlBx"
   },
   "source": [
    "Here we are using Logistic Regression By Pyspark"
   ]
  },
  {
   "cell_type": "code",
   "execution_count": 1,
   "metadata": {
    "colab": {
     "base_uri": "https://localhost:8080/"
    },
    "id": "YF9ed8CC4aT2",
    "outputId": "c626de8a-bff0-4e74-8b4c-04cc2e7914f9"
   },
   "outputs": [
    {
     "name": "stdout",
     "output_type": "stream",
     "text": [
      "Looking in indexes: https://pypi.org/simple, https://us-python.pkg.dev/colab-wheels/public/simple/\n",
      "Collecting pyspark\n",
      "  Downloading pyspark-3.2.1.tar.gz (281.4 MB)\n",
      "\u001b[K     |████████████████████████████████| 281.4 MB 40 kB/s \n",
      "\u001b[?25hCollecting py4j==0.10.9.3\n",
      "  Downloading py4j-0.10.9.3-py2.py3-none-any.whl (198 kB)\n",
      "\u001b[K     |████████████████████████████████| 198 kB 75.0 MB/s \n",
      "\u001b[?25hBuilding wheels for collected packages: pyspark\n",
      "  Building wheel for pyspark (setup.py) ... \u001b[?25l\u001b[?25hdone\n",
      "  Created wheel for pyspark: filename=pyspark-3.2.1-py2.py3-none-any.whl size=281853642 sha256=2f44a11c4a72385dab59265a0f6253b9380c9807b4b3e6e1331a3e8c8c7e329c\n",
      "  Stored in directory: /root/.cache/pip/wheels/9f/f5/07/7cd8017084dce4e93e84e92efd1e1d5334db05f2e83bcef74f\n",
      "Successfully built pyspark\n",
      "Installing collected packages: py4j, pyspark\n",
      "Successfully installed py4j-0.10.9.3 pyspark-3.2.1\n"
     ]
    }
   ],
   "source": [
    "!pip install pyspark"
   ]
  },
  {
   "cell_type": "markdown",
   "metadata": {
    "id": "fbaxY2eVFaBT"
   },
   "source": [
    "#####Creat Spark session"
   ]
  },
  {
   "cell_type": "markdown",
   "metadata": {
    "id": "HbzNRQG_O_Uh"
   },
   "source": [
    "####Roll no:- DS5B-2101"
   ]
  },
  {
   "cell_type": "code",
   "execution_count": 26,
   "metadata": {
    "id": "WPPfbSiA5EkF"
   },
   "outputs": [],
   "source": [
    "from pyspark.sql import SparkSession\n",
    "session = SparkSession.builder.appName(\"HR_Dataset\").getOrCreate()\n",
    "data = session.read.csv(\"HR comma.csv\", header = True, inferSchema = True)"
   ]
  },
  {
   "cell_type": "code",
   "execution_count": 27,
   "metadata": {
    "colab": {
     "base_uri": "https://localhost:8080/"
    },
    "id": "0LtF89lX5_L_",
    "outputId": "940e5e05-728f-47db-d3fd-e55b0815ec8e"
   },
   "outputs": [
    {
     "name": "stdout",
     "output_type": "stream",
     "text": [
      "+------------------+---------------+--------------+--------------------+------------------+-------------+----+---------------------+-----+------+\n",
      "|satisfaction_level|last_evaluation|number_project|average_montly_hours|time_spend_company|Work_accident|left|promotion_last_5years|sales|salary|\n",
      "+------------------+---------------+--------------+--------------------+------------------+-------------+----+---------------------+-----+------+\n",
      "|              0.38|           0.53|             2|                 157|                 3|            0|   1|                    0|sales|   low|\n",
      "|               0.8|           0.86|             5|                 262|                 6|            0|   1|                    0|sales|medium|\n",
      "|              0.11|           0.88|             7|                 272|                 4|            0|   1|                    0|sales|medium|\n",
      "|              0.72|           0.87|             5|                 223|                 5|            0|   1|                    0|sales|   low|\n",
      "|              0.37|           0.52|             2|                 159|                 3|            0|   1|                    0|sales|   low|\n",
      "|              0.41|            0.5|             2|                 153|                 3|            0|   1|                    0|sales|   low|\n",
      "|               0.1|           0.77|             6|                 247|                 4|            0|   1|                    0|sales|   low|\n",
      "|              0.92|           0.85|             5|                 259|                 5|            0|   1|                    0|sales|   low|\n",
      "|              0.89|            1.0|             5|                 224|                 5|            0|   1|                    0|sales|   low|\n",
      "|              0.42|           0.53|             2|                 142|                 3|            0|   1|                    0|sales|   low|\n",
      "+------------------+---------------+--------------+--------------------+------------------+-------------+----+---------------------+-----+------+\n",
      "only showing top 10 rows\n",
      "\n"
     ]
    }
   ],
   "source": [
    "data.show(10)"
   ]
  },
  {
   "cell_type": "code",
   "execution_count": 28,
   "metadata": {
    "colab": {
     "base_uri": "https://localhost:8080/"
    },
    "id": "SbAZQykL6kQo",
    "outputId": "5043dd61-522c-457a-d818-e11da84cd180"
   },
   "outputs": [
    {
     "data": {
      "text/plain": [
       "['satisfaction_level',\n",
       " 'last_evaluation',\n",
       " 'number_project',\n",
       " 'average_montly_hours',\n",
       " 'time_spend_company',\n",
       " 'Work_accident',\n",
       " 'left',\n",
       " 'promotion_last_5years',\n",
       " 'sales',\n",
       " 'salary']"
      ]
     },
     "execution_count": 28,
     "metadata": {},
     "output_type": "execute_result"
    }
   ],
   "source": [
    "data.columns"
   ]
  },
  {
   "cell_type": "code",
   "execution_count": 29,
   "metadata": {
    "id": "5eYoSB9t6nfg"
   },
   "outputs": [],
   "source": [
    "from pyspark.ml.feature import VectorAssembler, StringIndexer, OneHotEncoder\n",
    "str_idx = StringIndexer(inputCols = ['sales','salary'], outputCols = [\"newsales\", \"newsalary\"])"
   ]
  },
  {
   "cell_type": "code",
   "execution_count": 30,
   "metadata": {
    "id": "-Nl62PQb7A6D"
   },
   "outputs": [],
   "source": [
    "one_hot = OneHotEncoder(inputCols = [\"newsales\",\"newsalary\"], outputCols = [\"newsales_onehot\",\"newsalary_onehot\"])"
   ]
  },
  {
   "cell_type": "code",
   "execution_count": 31,
   "metadata": {
    "id": "x6g8T0tq7W8R"
   },
   "outputs": [],
   "source": [
    "vec_ass = VectorAssembler(inputCols = ['satisfaction_level','last_evaluation','number_project','average_montly_hours','time_spend_company','Work_accident','promotion_last_5years','newsales_onehot','newsalary_onehot'], outputCol = \"all_features\")"
   ]
  },
  {
   "cell_type": "markdown",
   "metadata": {
    "id": "_xRtIiK9DBSg"
   },
   "source": [
    "#####Now by Logistic Regression"
   ]
  },
  {
   "cell_type": "markdown",
   "metadata": {
    "id": "Sc9SuXoUPBhe"
   },
   "source": [
    "####Roll no:- DS5B-2101"
   ]
  },
  {
   "cell_type": "code",
   "execution_count": 32,
   "metadata": {
    "id": "ELc5SnSO8hio"
   },
   "outputs": [],
   "source": [
    "from pyspark.ml.classification import LogisticRegression\n",
    "lg_rg = LogisticRegression(featuresCol= \"all_features\", labelCol = \"left\")"
   ]
  },
  {
   "cell_type": "markdown",
   "metadata": {
    "id": "rhK889ELF3IH"
   },
   "source": [
    "#####Adding Pipelline"
   ]
  },
  {
   "cell_type": "markdown",
   "metadata": {
    "id": "1244ITc_PCl6"
   },
   "source": [
    "####Roll no:- DS5B-2101"
   ]
  },
  {
   "cell_type": "code",
   "execution_count": 33,
   "metadata": {
    "id": "E2nL2QDw8mAt"
   },
   "outputs": [],
   "source": [
    "from pyspark.ml import Pipeline\n",
    "mypipeline = Pipeline(stages = [str_idx, one_hot, vec_ass, lg_rg])"
   ]
  },
  {
   "cell_type": "markdown",
   "metadata": {
    "id": "fXEuQodDCw_w"
   },
   "source": [
    "#####Data split into 71 & 29"
   ]
  },
  {
   "cell_type": "code",
   "execution_count": 34,
   "metadata": {
    "id": "Ce4H_pX78pO8"
   },
   "outputs": [],
   "source": [
    "training, test = data.randomSplit([0.71, 0.29])"
   ]
  },
  {
   "cell_type": "code",
   "execution_count": 35,
   "metadata": {
    "id": "CUnkwNVY8u58"
   },
   "outputs": [],
   "source": [
    "lg_rg_model = mypipeline.fit(training)"
   ]
  },
  {
   "cell_type": "code",
   "execution_count": 36,
   "metadata": {
    "id": "RrqzerhD8zE8"
   },
   "outputs": [],
   "source": [
    "result = lg_rg_model.transform(test)"
   ]
  },
  {
   "cell_type": "code",
   "execution_count": 37,
   "metadata": {
    "colab": {
     "base_uri": "https://localhost:8080/"
    },
    "id": "m_-3z0Mb85pT",
    "outputId": "5547d296-dd30-4c08-ea46-17d3dd6d5c97"
   },
   "outputs": [
    {
     "name": "stdout",
     "output_type": "stream",
     "text": [
      "+------------------+---------------+--------------+--------------------+------------------+-------------+----+---------------------+-----------+------+--------+---------+---------------+----------------+--------------------------------------------------------+----------------------------------------+----------------------------------------+----------+\n",
      "|satisfaction_level|last_evaluation|number_project|average_montly_hours|time_spend_company|Work_accident|left|promotion_last_5years|sales      |salary|newsales|newsalary|newsales_onehot|newsalary_onehot|all_features                                            |rawPrediction                           |probability                             |prediction|\n",
      "+------------------+---------------+--------------+--------------------+------------------+-------------+----+---------------------+-----------+------+--------+---------+---------------+----------------+--------------------------------------------------------+----------------------------------------+----------------------------------------+----------+\n",
      "|0.09              |0.62           |6             |294                 |4                 |0            |1   |0                    |accounting |low   |7.0     |0.0      |(9,[7],[1.0])  |(2,[0],[1.0])   |(18,[0,1,2,3,4,14,16],[0.09,0.62,6.0,294.0,4.0,1.0,1.0])|[-1.0464291635344414,1.0464291635344414]|[0.25991138875030884,0.7400886112496912]|1.0       |\n",
      "|0.09              |0.62           |6             |294                 |4                 |0            |1   |0                    |accounting |low   |7.0     |0.0      |(9,[7],[1.0])  |(2,[0],[1.0])   |(18,[0,1,2,3,4,14,16],[0.09,0.62,6.0,294.0,4.0,1.0,1.0])|[-1.0464291635344414,1.0464291635344414]|[0.25991138875030884,0.7400886112496912]|1.0       |\n",
      "|0.09              |0.77           |5             |275                 |4                 |0            |1   |0                    |product_mng|medium|5.0     |1.0      |(9,[5],[1.0])  |(2,[1],[1.0])   |(18,[0,1,2,3,4,12,17],[0.09,0.77,5.0,275.0,4.0,1.0,1.0])|[-0.6795278770005595,0.6795278770005595]|[0.3363666837019514,0.6636333162980486] |1.0       |\n",
      "|0.09              |0.77           |5             |275                 |4                 |0            |1   |0                    |product_mng|medium|5.0     |1.0      |(9,[5],[1.0])  |(2,[1],[1.0])   |(18,[0,1,2,3,4,12,17],[0.09,0.77,5.0,275.0,4.0,1.0,1.0])|[-0.6795278770005595,0.6795278770005595]|[0.3363666837019514,0.6636333162980486] |1.0       |\n",
      "+------------------+---------------+--------------+--------------------+------------------+-------------+----+---------------------+-----------+------+--------+---------+---------------+----------------+--------------------------------------------------------+----------------------------------------+----------------------------------------+----------+\n",
      "only showing top 4 rows\n",
      "\n"
     ]
    }
   ],
   "source": [
    "result.show(4, truncate = False)"
   ]
  },
  {
   "cell_type": "markdown",
   "metadata": {
    "id": "wyO-UOfSEwP2"
   },
   "source": [
    "#####Evaluation of Model"
   ]
  },
  {
   "cell_type": "markdown",
   "metadata": {
    "id": "PLBJMLfrPE1V"
   },
   "source": [
    "####Roll no:- DS5B-2101"
   ]
  },
  {
   "cell_type": "code",
   "execution_count": 38,
   "metadata": {
    "colab": {
     "base_uri": "https://localhost:8080/"
    },
    "id": "k1VrpcNq87h8",
    "outputId": "0204f49e-b55d-4e73-a5d0-f8b4b6766bae"
   },
   "outputs": [
    {
     "name": "stdout",
     "output_type": "stream",
     "text": [
      "f1 : 0.7670945018121722\n",
      "accuracy : 0.787943769359066\n",
      "weightedPrecision : 0.765798263974633\n",
      "weightedRecall : 0.7879437693590661\n",
      "weightedTruePositiveRate : 0.7879437693590661\n",
      "weightedFalsePositiveRate : 0.5129530187585594\n",
      "weightedFMeasure : 0.7670945018121722\n",
      "truePositiveRateByLabel : 0.9246404002501564\n",
      "falsePositiveRateByLabel : 0.6496496496496497\n",
      "precisionByLabel : 0.8200221852468109\n",
      "recallByLabel : 0.9246404002501564\n",
      "fMeasureByLabel : 0.8691945914168137\n",
      "logLoss : 0.42502890882986544\n",
      "hammingLoss : 0.212056230640934\n"
     ]
    }
   ],
   "source": [
    "evaluation = [\"f1\",\"accuracy\",\"weightedPrecision\",\"weightedRecall\", \"weightedTruePositiveRate\", \"weightedFalsePositiveRate\", \"weightedFMeasure\", \"truePositiveRateByLabel\", \"falsePositiveRateByLabel\", \"precisionByLabel\",\"recallByLabel\", \"fMeasureByLabel\", \"logLoss\",\"hammingLoss\"]\n",
    "for i in evaluation:\n",
    "  from pyspark.ml.evaluation import MulticlassClassificationEvaluator\n",
    "  eval = MulticlassClassificationEvaluator(predictionCol=\"prediction\", labelCol= \"left\", metricName=i)\n",
    "  print(i, \":\", eval.evaluate(result))"
   ]
  }
 ],
 "metadata": {
  "colab": {
   "name": "DS5B-2101_1.ipynb",
   "provenance": []
  },
  "kernelspec": {
   "display_name": "Python 3",
   "name": "python3"
  },
  "language_info": {
   "name": "python"
  }
 },
 "nbformat": 4,
 "nbformat_minor": 0
}
