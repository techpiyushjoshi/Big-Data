{
 "cells": [
  {
   "cell_type": "markdown",
   "metadata": {},
   "source": [
    "# Connecting To The MongoDB Compass"
   ]
  },
  {
   "cell_type": "code",
   "execution_count": 1,
   "metadata": {},
   "outputs": [
    {
     "data": {
      "text/plain": [
       "MongoClient(host=['localhost:27017'], document_class=dict, tz_aware=False, connect=True)"
      ]
     },
     "execution_count": 1,
     "metadata": {},
     "output_type": "execute_result"
    }
   ],
   "source": [
    "import pymongo  # DS5B 2112\n",
    "client = pymongo.MongoClient(\"mongodb://localhost:27017/\")\n",
    "client"
   ]
  },
  {
   "cell_type": "markdown",
   "metadata": {},
   "source": [
    "# List Of Databases "
   ]
  },
  {
   "cell_type": "code",
   "execution_count": 3,
   "metadata": {},
   "outputs": [
    {
     "data": {
      "text/plain": [
       "['admin', 'config', 'ineuron', 'local']"
      ]
     },
     "execution_count": 3,
     "metadata": {},
     "output_type": "execute_result"
    }
   ],
   "source": [
    "client.list_database_names() # DS5B 2112"
   ]
  },
  {
   "cell_type": "markdown",
   "metadata": {},
   "source": [
    "# Create DB"
   ]
  },
  {
   "cell_type": "code",
   "execution_count": 4,
   "metadata": {},
   "outputs": [],
   "source": [
    "mydb = client[\"Hospital_Data\"]  # the DB will not show in list untill unless data is inserted into it # DS5B 2112"
   ]
  },
  {
   "cell_type": "markdown",
   "metadata": {},
   "source": [
    "# Creating Collection inside DB"
   ]
  },
  {
   "cell_type": "code",
   "execution_count": 5,
   "metadata": {},
   "outputs": [],
   "source": [
    "collection1 = mydb[\"patient_info\"]"
   ]
  },
  {
   "cell_type": "markdown",
   "metadata": {},
   "source": [
    "# Inserting a Single record "
   ]
  },
  {
   "cell_type": "code",
   "execution_count": 11,
   "metadata": {},
   "outputs": [
    {
     "data": {
      "text/plain": [
       "<pymongo.results.InsertOneResult at 0x1e5c10d7180>"
      ]
     },
     "execution_count": 11,
     "metadata": {},
     "output_type": "execute_result"
    }
   ],
   "source": [
    "record = {\"Patient1\":{\"Name\":\"Himanshu jain\",\n",
    "             \"Age\":25,\n",
    "             \"city\":\"Indore\",\n",
    "             \"contact no\":[7047436645,8982161294],\n",
    "             \"patient gaurdian\":{\"G_name\":\"Anil jain\",\"G_age\":34,\"G_realtion\":\"father\"},\n",
    "             \"dieseas\":\"heart attack\",\n",
    "             \"condition\":\"critical\"}}\n",
    "collection1.insert_one(record)"
   ]
  },
  {
   "cell_type": "markdown",
   "metadata": {},
   "source": [
    "# Deleting A Record"
   ]
  },
  {
   "cell_type": "code",
   "execution_count": 10,
   "metadata": {},
   "outputs": [
    {
     "data": {
      "text/plain": [
       "<pymongo.results.DeleteResult at 0x1e5c276b980>"
      ]
     },
     "execution_count": 10,
     "metadata": {},
     "output_type": "execute_result"
    }
   ],
   "source": [
    "collection1.delete_one({\"Patient1.Age\":25})"
   ]
  },
  {
   "cell_type": "markdown",
   "metadata": {},
   "source": [
    "# Updating A Record"
   ]
  },
  {
   "cell_type": "code",
   "execution_count": 13,
   "metadata": {},
   "outputs": [
    {
     "data": {
      "text/plain": [
       "<pymongo.results.UpdateResult at 0x1e5c10d7780>"
      ]
     },
     "execution_count": 13,
     "metadata": {},
     "output_type": "execute_result"
    }
   ],
   "source": [
    "collection1.update_one({\"Patient1.Age\":25}, {\"$set\":{\"Patient1.Age\":30}})"
   ]
  },
  {
   "cell_type": "code",
   "execution_count": 15,
   "metadata": {},
   "outputs": [
    {
     "name": "stdout",
     "output_type": "stream",
     "text": [
      "{'_id': ObjectId('6292f3a9d3b7bf218cd58df0'), 'Patient1': {'Name': 'Himanshu jain', 'Age': 30, 'city': 'Indore', 'contact no': [7047436645, 8982161294], 'patient gaurdian': {'G_name': 'Anil jain', 'G_age': 34, 'G_realtion': 'father'}, 'dieseas': 'heart attack', 'condition': 'critical'}}\n"
     ]
    }
   ],
   "source": [
    "for i in collection1.find():\n",
    "    print(i)"
   ]
  },
  {
   "cell_type": "markdown",
   "metadata": {},
   "source": [
    "# Finding a record"
   ]
  },
  {
   "cell_type": "code",
   "execution_count": 17,
   "metadata": {},
   "outputs": [
    {
     "name": "stdout",
     "output_type": "stream",
     "text": [
      "{'_id': ObjectId('6292f3a9d3b7bf218cd58df0'), 'Patient1': {'Name': 'Himanshu jain', 'Age': 30, 'city': 'Indore', 'contact no': [7047436645, 8982161294], 'patient gaurdian': {'G_name': 'Anil jain', 'G_age': 34, 'G_realtion': 'father'}, 'dieseas': 'heart attack', 'condition': 'critical'}}\n"
     ]
    }
   ],
   "source": [
    "query1 = {\"Patient1.patient gaurdian.G_name\":\"Anil jain\"}\n",
    "\n",
    "results = collection1.find(query1)\n",
    "for data in results:\n",
    "    print(data)"
   ]
  }
 ],
 "metadata": {
  "kernelspec": {
   "display_name": "Python 3 (ipykernel)",
   "language": "python",
   "name": "python3"
  },
  "language_info": {
   "codemirror_mode": {
    "name": "ipython",
    "version": 3
   },
   "file_extension": ".py",
   "mimetype": "text/x-python",
   "name": "python",
   "nbconvert_exporter": "python",
   "pygments_lexer": "ipython3",
   "version": "3.10.3"
  }
 },
 "nbformat": 4,
 "nbformat_minor": 4
}
