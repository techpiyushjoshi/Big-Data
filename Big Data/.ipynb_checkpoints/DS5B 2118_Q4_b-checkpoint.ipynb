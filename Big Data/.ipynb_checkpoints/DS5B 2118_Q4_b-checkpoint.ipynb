{
 "cells": [
  {
   "cell_type": "markdown",
   "metadata": {},
   "source": [
    "Roll No. Is : DS5B-2118"
   ]
  },
  {
   "cell_type": "markdown",
   "metadata": {},
   "source": [
    "Roll No. Is : DS5B-2118"
   ]
  },
  {
   "cell_type": "markdown",
   "metadata": {},
   "source": [
    "Roll No. Is : DS5B-2118"
   ]
  },
  {
   "cell_type": "markdown",
   "metadata": {},
   "source": [
    "Roll No. Is : DS5B-2118"
   ]
  },
  {
   "cell_type": "markdown",
   "metadata": {},
   "source": [
    "Roll No. Is : DS5B-2118"
   ]
  },
  {
   "cell_type": "markdown",
   "metadata": {},
   "source": [
    "Roll No. Is : DS5B-2118"
   ]
  },
  {
   "cell_type": "markdown",
   "metadata": {},
   "source": [
    "### Connecting To The MongoDB Compass\""
   ]
  },
  {
   "cell_type": "code",
   "execution_count": null,
   "metadata": {
    "colab": {
     "base_uri": "https://localhost:8080/"
    },
    "id": "YF9ed8CC4aT2",
    "outputId": "7d8f3413-b442-44a1-b88f-7e1de23b3cbc"
   },
   "outputs": [
    {
     "name": "stdout",
     "output_type": "stream",
     "text": [
      "Looking in indexes: https://pypi.org/simple, https://us-python.pkg.dev/colab-wheels/public/simple/\n",
      "Collecting pyspark\n",
      "  Downloading pyspark-3.2.1.tar.gz (281.4 MB)\n",
      "\u001b[K     |████████████████████████████████| 281.4 MB 29 kB/s \n",
      "\u001b[?25hCollecting py4j==0.10.9.3\n",
      "  Downloading py4j-0.10.9.3-py2.py3-none-any.whl (198 kB)\n",
      "\u001b[K     |████████████████████████████████| 198 kB 42.5 MB/s \n",
      "\u001b[?25hBuilding wheels for collected packages: pyspark\n",
      "  Building wheel for pyspark (setup.py) ... \u001b[?25l\u001b[?25hdone\n",
      "  Created wheel for pyspark: filename=pyspark-3.2.1-py2.py3-none-any.whl size=281853642 sha256=8b46831582fe33020b51646e24a86fc72a74a84b94240776aece0e2d97207751\n",
      "  Stored in directory: /root/.cache/pip/wheels/9f/f5/07/7cd8017084dce4e93e84e92efd1e1d5334db05f2e83bcef74f\n",
      "Successfully built pyspark\n",
      "Installing collected packages: py4j, pyspark\n",
      "Successfully installed py4j-0.10.9.3 pyspark-3.2.1\n"
     ]
    }
   ],
   "source": [
    "!pip install pyspark"
   ]
  },
  {
   "cell_type": "code",
   "execution_count": null,
   "metadata": {
    "id": "WPPfbSiA5EkF"
   },
   "outputs": [],
   "source": [
    "from pyspark.sql import SparkSession\n",
    "from pyspark.ml import Pipeline\n",
    "from pyspark.ml.feature import VectorAssembler, StringIndexer, OneHotEncoder\n",
    "from pyspark.ml.classification import LogisticRegression\n",
    "from pyspark.ml.evaluation import BinaryClassificationEvaluator\n",
    "\n",
    "session = SparkSession.builder.appName(\"HR_Dataset\").getOrCreate()\n",
    "data = session.read.csv(\"HR comma.csv\", header = True, inferSchema = True)"
   ]
  },
  {
   "cell_type": "code",
   "execution_count": null,
   "metadata": {
    "colab": {
     "base_uri": "https://localhost:8080/"
    },
    "id": "0LtF89lX5_L_",
    "outputId": "84aaaf1a-ecce-410a-b9e8-911dfd24d3a1"
   },
   "outputs": [
    {
     "name": "stdout",
     "output_type": "stream",
     "text": [
      "+------------------+---------------+--------------+--------------------+------------------+-------------+----+---------------------+-----+------+\n",
      "|satisfaction_level|last_evaluation|number_project|average_montly_hours|time_spend_company|Work_accident|left|promotion_last_5years|sales|salary|\n",
      "+------------------+---------------+--------------+--------------------+------------------+-------------+----+---------------------+-----+------+\n",
      "|              0.38|           0.53|             2|                 157|                 3|            0|   1|                    0|sales|   low|\n",
      "|               0.8|           0.86|             5|                 262|                 6|            0|   1|                    0|sales|medium|\n",
      "|              0.11|           0.88|             7|                 272|                 4|            0|   1|                    0|sales|medium|\n",
      "|              0.72|           0.87|             5|                 223|                 5|            0|   1|                    0|sales|   low|\n",
      "|              0.37|           0.52|             2|                 159|                 3|            0|   1|                    0|sales|   low|\n",
      "|              0.41|            0.5|             2|                 153|                 3|            0|   1|                    0|sales|   low|\n",
      "|               0.1|           0.77|             6|                 247|                 4|            0|   1|                    0|sales|   low|\n",
      "|              0.92|           0.85|             5|                 259|                 5|            0|   1|                    0|sales|   low|\n",
      "|              0.89|            1.0|             5|                 224|                 5|            0|   1|                    0|sales|   low|\n",
      "|              0.42|           0.53|             2|                 142|                 3|            0|   1|                    0|sales|   low|\n",
      "+------------------+---------------+--------------+--------------------+------------------+-------------+----+---------------------+-----+------+\n",
      "only showing top 10 rows\n",
      "\n"
     ]
    }
   ],
   "source": [
    "data.show(10)"
   ]
  },
  {
   "cell_type": "code",
   "execution_count": null,
   "metadata": {
    "colab": {
     "base_uri": "https://localhost:8080/"
    },
    "id": "SbAZQykL6kQo",
    "outputId": "33dfe1e7-97b5-4c75-eb08-b56bfbb09da4"
   },
   "outputs": [
    {
     "data": {
      "text/plain": [
       "['satisfaction_level',\n",
       " 'last_evaluation',\n",
       " 'number_project',\n",
       " 'average_montly_hours',\n",
       " 'time_spend_company',\n",
       " 'Work_accident',\n",
       " 'left',\n",
       " 'promotion_last_5years',\n",
       " 'sales',\n",
       " 'salary']"
      ]
     },
     "metadata": {},
     "output_type": "display_data"
    }
   ],
   "source": [
    "data.columns"
   ]
  },
  {
   "cell_type": "code",
   "execution_count": null,
   "metadata": {
    "id": "5eYoSB9t6nfg"
   },
   "outputs": [],
   "source": [
    "str_idxer = StringIndexer(inputCols = ['sales','salary'], outputCols = [\"newsales\", \"newsalary\"])"
   ]
  },
  {
   "cell_type": "code",
   "execution_count": null,
   "metadata": {
    "id": "-Nl62PQb7A6D"
   },
   "outputs": [],
   "source": [
    "one_hot_encoding = OneHotEncoder(inputCols = [\"newsales\",\"newsalary\"], outputCols = [\"newsales_onehot\",\"newsalary_onehot\"])"
   ]
  },
  {
   "cell_type": "code",
   "execution_count": null,
   "metadata": {
    "id": "x6g8T0tq7W8R"
   },
   "outputs": [],
   "source": [
    "vec_ass = VectorAssembler(inputCols = ['satisfaction_level','last_evaluation','number_project','average_montly_hours','time_spend_company','Work_accident','promotion_last_5years','newsales_onehot','newsalary_onehot'], outputCol = \"all_features\")"
   ]
  },
  {
   "cell_type": "code",
   "execution_count": null,
   "metadata": {
    "id": "ELc5SnSO8hio"
   },
   "outputs": [],
   "source": [
    "lr = LogisticRegression(featuresCol= \"all_features\", labelCol = \"left\")"
   ]
  },
  {
   "cell_type": "code",
   "execution_count": null,
   "metadata": {
    "id": "E2nL2QDw8mAt"
   },
   "outputs": [],
   "source": [
    "mypipeline = Pipeline(stages = [str_idxer, one_hot_encoding, vec_ass, lr])"
   ]
  },
  {
   "cell_type": "code",
   "execution_count": null,
   "metadata": {
    "id": "Ce4H_pX78pO8"
   },
   "outputs": [],
   "source": [
    "training, test = data.randomSplit([0.71, 0.29])"
   ]
  },
  {
   "cell_type": "code",
   "execution_count": null,
   "metadata": {
    "id": "CUnkwNVY8u58"
   },
   "outputs": [],
   "source": [
    "lr_model = mypipeline.fit(training)"
   ]
  },
  {
   "cell_type": "code",
   "execution_count": null,
   "metadata": {
    "id": "RrqzerhD8zE8"
   },
   "outputs": [],
   "source": [
    "result = lr_model.transform(test)"
   ]
  },
  {
   "cell_type": "code",
   "execution_count": null,
   "metadata": {
    "colab": {
     "base_uri": "https://localhost:8080/"
    },
    "id": "m_-3z0Mb85pT",
    "outputId": "a6a8ca50-1bb4-47d0-81fb-0a52c3f0ef90"
   },
   "outputs": [
    {
     "name": "stdout",
     "output_type": "stream",
     "text": [
      "+------------------+---------------+--------------+--------------------+------------------+-------------+----+---------------------+-----------+------+--------+---------+---------------+----------------+--------------------------------------------------------+----------------------------------------+----------------------------------------+----------+\n",
      "|satisfaction_level|last_evaluation|number_project|average_montly_hours|time_spend_company|Work_accident|left|promotion_last_5years|sales      |salary|newsales|newsalary|newsales_onehot|newsalary_onehot|all_features                                            |rawPrediction                           |probability                             |prediction|\n",
      "+------------------+---------------+--------------+--------------------+------------------+-------------+----+---------------------+-----------+------+--------+---------+---------------+----------------+--------------------------------------------------------+----------------------------------------+----------------------------------------+----------+\n",
      "|0.09              |0.62           |6             |294                 |4                 |0            |1   |0                    |accounting |low   |8.0     |0.0      |(9,[8],[1.0])  |(2,[0],[1.0])   |(18,[0,1,2,3,4,15,16],[0.09,0.62,6.0,294.0,4.0,1.0,1.0])|[-0.906113009228541,0.906113009228541]  |[0.28779589386338533,0.7122041061366147]|1.0       |\n",
      "|0.09              |0.62           |6             |294                 |4                 |0            |1   |0                    |accounting |low   |8.0     |0.0      |(9,[8],[1.0])  |(2,[0],[1.0])   |(18,[0,1,2,3,4,15,16],[0.09,0.62,6.0,294.0,4.0,1.0,1.0])|[-0.906113009228541,0.906113009228541]  |[0.28779589386338533,0.7122041061366147]|1.0       |\n",
      "|0.09              |0.77           |5             |275                 |4                 |0            |1   |0                    |product_mng|medium|4.0     |1.0      |(9,[4],[1.0])  |(2,[1],[1.0])   |(18,[0,1,2,3,4,11,17],[0.09,0.77,5.0,275.0,4.0,1.0,1.0])|[-0.6706336468375675,0.6706336468375675]|[0.3383549711925885,0.6616450288074115] |1.0       |\n",
      "|0.09              |0.77           |6             |244                 |4                 |0            |1   |0                    |product_mng|low   |4.0     |0.0      |(9,[4],[1.0])  |(2,[0],[1.0])   |(18,[0,1,2,3,4,11,16],[0.09,0.77,6.0,244.0,4.0,1.0,1.0])|[-0.7998272517122431,0.7998272517122431]|[0.31006247261884357,0.6899375273811564]|1.0       |\n",
      "+------------------+---------------+--------------+--------------------+------------------+-------------+----+---------------------+-----------+------+--------+---------+---------------+----------------+--------------------------------------------------------+----------------------------------------+----------------------------------------+----------+\n",
      "only showing top 4 rows\n",
      "\n"
     ]
    }
   ],
   "source": [
    "result.show(4, truncate = False)"
   ]
  },
  {
   "cell_type": "code",
   "execution_count": null,
   "metadata": {
    "id": "k1VrpcNq87h8"
   },
   "outputs": [],
   "source": [
    "eval = BinaryClassificationEvaluator(rawPredictionCol=\"rawPrediction\", labelCol = \"left\")"
   ]
  },
  {
   "cell_type": "code",
   "execution_count": null,
   "metadata": {
    "colab": {
     "base_uri": "https://localhost:8080/"
    },
    "id": "Gt4u4iAB9Bcc",
    "outputId": "9ce7ea0a-3b49-4eaf-c1fe-79bcfc36ec7a"
   },
   "outputs": [
    {
     "data": {
      "text/plain": [
       "0.8297104126919155"
      ]
     },
     "metadata": {},
     "output_type": "display_data"
    }
   ],
   "source": [
    "eval.evaluate(result)"
   ]
  },
  {
   "cell_type": "code",
   "execution_count": 1,
   "metadata": {},
   "outputs": [
    {
     "data": {
      "text/plain": [
       "MongoClient(host=['localhost:27017'], document_class=dict, tz_aware=False, connect=True)"
      ]
     },
     "execution_count": 1,
     "metadata": {},
     "output_type": "execute_result"
    }
   ],
   "source": [
    "import pymongo  # DS5B 2112\n",
    "client = pymongo.MongoClient(\"mongodb://localhost:27017/\")\n",
    "client"
   ]
  },
  {
   "cell_type": "markdown",
   "metadata": {},
   "source": [
    "### List Of Databases "
   ]
  },
  {
   "cell_type": "code",
   "execution_count": 2,
   "metadata": {},
   "outputs": [
    {
     "data": {
      "text/plain": [
       "['India', 'admin', 'config', 'local']"
      ]
     },
     "execution_count": 2,
     "metadata": {},
     "output_type": "execute_result"
    }
   ],
   "source": [
    "client.list_database_names() # DS5B 2112"
   ]
  },
  {
   "cell_type": "markdown",
   "metadata": {},
   "source": [
    "### Create DataBase"
   ]
  },
  {
   "cell_type": "code",
   "execution_count": 3,
   "metadata": {},
   "outputs": [],
   "source": [
    "mydb = client[\"Hospital_Data\"]  # the DB will not show in list untill unless data is inserted into it # DS5B 2112"
   ]
  },
  {
   "cell_type": "markdown",
   "metadata": {},
   "source": [
    "### Creating Collection inside DataBase"
   ]
  },
  {
   "cell_type": "code",
   "execution_count": 4,
   "metadata": {},
   "outputs": [],
   "source": [
    "collection1 = mydb[\"patient_info\"]"
   ]
  },
  {
   "cell_type": "markdown",
   "metadata": {},
   "source": [
    "### Inserting a Single record "
   ]
  },
  {
   "cell_type": "code",
   "execution_count": 7,
   "metadata": {},
   "outputs": [
    {
     "data": {
      "text/plain": [
       "<pymongo.results.InsertOneResult at 0x17bf9236fb0>"
      ]
     },
     "execution_count": 7,
     "metadata": {},
     "output_type": "execute_result"
    }
   ],
   "source": [
    "record = {\"Patient1\":{\"Name\":\"Meghanshu kumrawat\",\n",
    "             \"Age\":25,\n",
    "             \"city\":\"Indore\",\n",
    "             \"contact no\":[7047436645,8982161294],\n",
    "             \"patient gaurdian\":{\"G_name\":\"Anil jain\",\"G_age\":34,\"G_realtion\":\"father\"},\n",
    "             \"dieseas\":\"heart attack\",\n",
    "             \"condition\":\"critical\",\n",
    "            \"report\":{\"blood report\":\"document path\", \"urin report\":\"document path\", \"BP report\":\"document path\"}\n",
    "        }}\n",
    "collection1.insert_one(record)"
   ]
  },
  {
   "cell_type": "markdown",
   "metadata": {},
   "source": [
    "### Deleting A Record"
   ]
  },
  {
   "cell_type": "code",
   "execution_count": 6,
   "metadata": {},
   "outputs": [
    {
     "data": {
      "text/plain": [
       "<pymongo.results.DeleteResult at 0x17bf9236fe0>"
      ]
     },
     "execution_count": 6,
     "metadata": {},
     "output_type": "execute_result"
    }
   ],
   "source": [
    "collection1.delete_one({\"Patient1.Name\":\"Meghanshu kumrawat\"})"
   ]
  },
  {
   "cell_type": "markdown",
   "metadata": {},
   "source": [
    "### Updating A Record"
   ]
  },
  {
   "cell_type": "code",
   "execution_count": 8,
   "metadata": {},
   "outputs": [
    {
     "data": {
      "text/plain": [
       "<pymongo.results.UpdateResult at 0x17bf9237e80>"
      ]
     },
     "execution_count": 8,
     "metadata": {},
     "output_type": "execute_result"
    }
   ],
   "source": [
    "collection1.update_one({\"Patient1.Age\":25}, {\"$set\":{\"Patient1.Age\":60}})"
   ]
  },
  {
   "cell_type": "code",
   "execution_count": 15,
   "metadata": {},
   "outputs": [
    {
     "name": "stdout",
     "output_type": "stream",
     "text": [
      "{'_id': ObjectId('6292f3a9d3b7bf218cd58df0'), 'Patient1': {'Name': 'Himanshu jain', 'Age': 30, 'city': 'Indore', 'contact no': [7047436645, 8982161294], 'patient gaurdian': {'G_name': 'Anil jain', 'G_age': 34, 'G_realtion': 'father'}, 'dieseas': 'heart attack', 'condition': 'critical'}}\n"
     ]
    }
   ],
   "source": [
    "for i in collection1.find():\n",
    "    print(i)"
   ]
  },
  {
   "cell_type": "markdown",
   "metadata": {},
   "source": [
    "### Search a record"
   ]
  },
  {
   "cell_type": "code",
   "execution_count": 9,
   "metadata": {},
   "outputs": [
    {
     "name": "stdout",
     "output_type": "stream",
     "text": [
      "{'_id': ObjectId('62930dd5202b6c4e57b5c287'), 'Patient1': {'Name': 'Meghanshu kumrawat', 'Age': 60, 'city': 'Indore', 'contact no': [7047436645, 8982161294], 'patient gaurdian': {'G_name': 'Anil jain', 'G_age': 34, 'G_realtion': 'father'}, 'dieseas': 'heart attack', 'condition': 'critical', 'report': {'blood report': 'document path', 'urin report': 'document path', 'BP report': 'document path'}}}\n"
     ]
    }
   ],
   "source": [
    "query1 = {\"Patient1.Name\":\"Meghanshu kumrawat\"}\n",
    "\n",
    "results = collection1.find(query1)\n",
    "for data in results:\n",
    "    print(data)"
   ]
  },
  {
   "cell_type": "code",
   "execution_count": null,
   "metadata": {},
   "outputs": [],
   "source": []
  }
 ],
 "metadata": {
  "interpreter": {
   "hash": "c432e6f95529e796304514b90af384945d3f51101b2eb84ba19dabe433e7e626"
  },
  "kernelspec": {
   "display_name": "Python 3 (ipykernel)",
   "language": "python",
   "name": "python3"
  },
  "language_info": {
   "codemirror_mode": {
    "name": "ipython",
    "version": 3
   },
   "file_extension": ".py",
   "mimetype": "text/x-python",
   "name": "python",
   "nbconvert_exporter": "python",
   "pygments_lexer": "ipython3",
   "version": "3.10.3"
  }
 },
 "nbformat": 4,
 "nbformat_minor": 4
}
