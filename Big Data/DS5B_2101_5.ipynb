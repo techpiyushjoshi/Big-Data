{
 "cells": [
  {
   "cell_type": "markdown",
   "metadata": {
    "id": "kbgOt_QUP-bk"
   },
   "source": [
    "####Roll no:- DS5B-2101"
   ]
  },
  {
   "cell_type": "markdown",
   "metadata": {
    "id": "8BCF5TldN3Mh"
   },
   "source": [
    "### Install PySpark"
   ]
  },
  {
   "cell_type": "code",
   "execution_count": 1,
   "metadata": {
    "colab": {
     "base_uri": "https://localhost:8080/"
    },
    "id": "lNniE_wnN0jW",
    "outputId": "be294826-d128-4681-acc5-58ffa4c4de00"
   },
   "outputs": [
    {
     "name": "stdout",
     "output_type": "stream",
     "text": [
      "Looking in indexes: https://pypi.org/simple, https://us-python.pkg.dev/colab-wheels/public/simple/\n",
      "Collecting pyspark\n",
      "  Downloading pyspark-3.2.1.tar.gz (281.4 MB)\n",
      "\u001b[K     |████████████████████████████████| 281.4 MB 37 kB/s \n",
      "\u001b[?25hCollecting py4j==0.10.9.3\n",
      "  Downloading py4j-0.10.9.3-py2.py3-none-any.whl (198 kB)\n",
      "\u001b[K     |████████████████████████████████| 198 kB 61.2 MB/s \n",
      "\u001b[?25hBuilding wheels for collected packages: pyspark\n",
      "  Building wheel for pyspark (setup.py) ... \u001b[?25l\u001b[?25hdone\n",
      "  Created wheel for pyspark: filename=pyspark-3.2.1-py2.py3-none-any.whl size=281853642 sha256=b5c829b7b3b4d7f83bcacaf1d4ac2d18b435be69f8a6cf80f5dc4cc495860826\n",
      "  Stored in directory: /root/.cache/pip/wheels/9f/f5/07/7cd8017084dce4e93e84e92efd1e1d5334db05f2e83bcef74f\n",
      "Successfully built pyspark\n",
      "Installing collected packages: py4j, pyspark\n",
      "Successfully installed py4j-0.10.9.3 pyspark-3.2.1\n"
     ]
    }
   ],
   "source": [
    "pip install pyspark"
   ]
  },
  {
   "cell_type": "markdown",
   "metadata": {
    "id": "XpHEzKr6QTN1"
   },
   "source": [
    "####Roll no:- DS5B-2101"
   ]
  },
  {
   "cell_type": "code",
   "execution_count": 9,
   "metadata": {
    "id": "vsLUDw28RNcl"
   },
   "outputs": [],
   "source": [
    "from pyspark import SparkConf, SparkContext"
   ]
  },
  {
   "cell_type": "code",
   "execution_count": 10,
   "metadata": {
    "id": "IKXfjqUHSieJ"
   },
   "outputs": [],
   "source": [
    "if __name__ == \"__main__\":\n",
    "  conf = SparkConf().setAppName(\"exam\").setMaster(\"local[2]\")\n",
    "  # AppName : A name for your job, to display on the cluster web UI and Master: Cluster URL to connect to local or spark host etc and in it we can define how many cluster(partitions) we need.\n",
    "  sc = SparkContext(conf = conf)"
   ]
  },
  {
   "cell_type": "markdown",
   "metadata": {
    "id": "xRgHYjdTQUO8"
   },
   "source": [
    "####Roll no:- DS5B-2101"
   ]
  },
  {
   "cell_type": "code",
   "execution_count": 11,
   "metadata": {
    "id": "YQTcbolDTJSU"
   },
   "outputs": [],
   "source": [
    "data = sc.textFile(\"amazon.csv\")"
   ]
  },
  {
   "cell_type": "markdown",
   "metadata": {
    "id": "xcqrf47CTudD"
   },
   "source": [
    "Print the top five raws of dataset"
   ]
  },
  {
   "cell_type": "code",
   "execution_count": 18,
   "metadata": {
    "colab": {
     "base_uri": "https://localhost:8080/"
    },
    "id": "I9oJiATaTsHc",
    "outputId": "cf012680-5795-46c5-afd1-67c61f899b1a"
   },
   "outputs": [
    {
     "data": {
      "text/plain": [
       "['product name,asin,product url,brand name,image url,mrp,sale price,discount percentage,product description,date first available,number of reviews,seller name',\n",
       " 'BHAGIRATH Standard comfort Disposable Pollution/Surgical Elastic Mask Surgical Face Mask with Earloop Great for Air Pollution Virus. 1,B085GL266P,https://www.amazon.in/BHAGIRATH-Standard-Disposable-Pollution-Surgical/dp/B085GL266P/,Bhagirath fab,https://images-na.ssl-images-amazon.com/images/I/61XinzsWunL._SL1100_.jpg, 16999.00,199.00,99%,IND mask covers the user’s nose and mouth and provides a physical barrier to fluids and particulate materials. The surgical masks referenced in this guidance document include masks that are labeled as a surgical  laser  isolation  dental or medical procedure masks with or without a face shield.,2020-03-01 00:00:00,0,Bhagirath fab',\n",
       " 'SHOPPERMART urgical Face Mask Disposable - Pack of 5,B07YPSZK39,https://www.amazon.in/SHOPPERMART-urgical-Face-Mask-Disposable/dp/B07YPSZK39/,SHOPPERMART,https://images-na.ssl-images-amazon.com/images/I/61BgE1t%2BUJL._SL1000_.jpg,,,,Easy breathable  effective multiplayer bacterial filter  soft  lightweight  comfortable and easy to wear  used in medical  dental  laboratory  food sectors  school  household  industry and multi-purpose  bacteria filtration efficiency 99%  particle filtration efficiency (0.1 micron) 99%  virus filtration efficiency (0.1 micron) 99%  fluid repellent 120 mmhg  breathable < 49 0 pa fluid resistant hygienic & skin friendly ,2019-10-03 00:00:00,2,',\n",
       " 'ShopyBucket Standard 3 PCS comfort Disposable Pollution Elastic Mask Disposable 3 Ply Face Mask with Earloop Great for Air Pollution Virus Protection & Personal Health Face Mask,B0855V7MQ8,https://www.amazon.in/ShopyBucket-Standard-Disposable-Pollution-Protection/dp/B0855V7MQ8/,Shopy,https://images-na.ssl-images-amazon.com/images/I/61SPmUgDP9L._SL1100_.jpg, 798.00,510.00,36%,,2020-02-26 00:00:00,0,BasicDeal',\n",
       " \"Ivaan Disposable Earloop Medical Face Masks Two Layer Non-Woven Pack 0f 100 pcs,B082HDNJCP,https://www.amazon.in/Ivaan-Disposable-Earloop-Medical-Non-Woven/dp/B082HDNJCP/,IVAAN,https://images-na.ssl-images-amazon.com/images/I/71MXY9ud8OL._SL1500_.jpg,,,,Facemasks help limit the spread of germs. When someone talks  coughs  or sneezes they may release tiny drops into the air that can infect others. If someone is ill face masks can reduce the number of germs that the wearer releases and can protect other people from becoming sick. A face mask also protects the wearer's nose and mouth from splashes or sprays of body fluids. It is ideal for every house in day to day activities as well as doctors  surgeons  dentist  dental assistance  nurses  landscapers  contractors  plumbers  exterminators  nail technicians and many more.,2019-12-08 00:00:00,6,\"]"
      ]
     },
     "execution_count": 18,
     "metadata": {},
     "output_type": "execute_result"
    }
   ],
   "source": [
    "data.take(5)"
   ]
  },
  {
   "cell_type": "markdown",
   "metadata": {
    "id": "XxBVK2hzWeni"
   },
   "source": [
    "Count total number of raw in dataset"
   ]
  },
  {
   "cell_type": "markdown",
   "metadata": {
    "id": "BJNUH_B1QVS5"
   },
   "source": [
    "####Roll no:- DS5B-2101"
   ]
  },
  {
   "cell_type": "code",
   "execution_count": 19,
   "metadata": {
    "colab": {
     "base_uri": "https://localhost:8080/"
    },
    "id": "bRvhN5sEWaow",
    "outputId": "9bcc48b9-00fc-476b-918b-6bc7c4c8956f"
   },
   "outputs": [
    {
     "data": {
      "text/plain": [
       "532"
      ]
     },
     "execution_count": 19,
     "metadata": {},
     "output_type": "execute_result"
    }
   ],
   "source": [
    "data.count()"
   ]
  },
  {
   "cell_type": "markdown",
   "metadata": {
    "id": "hXpQx1VuUhpB"
   },
   "source": [
    "Check the number of partitions"
   ]
  },
  {
   "cell_type": "code",
   "execution_count": 20,
   "metadata": {
    "colab": {
     "base_uri": "https://localhost:8080/"
    },
    "id": "4BF3pnzqUmJb",
    "outputId": "ffcf2a0a-b702-4e74-cae9-46ce0dcddc46"
   },
   "outputs": [
    {
     "data": {
      "text/plain": [
       "2"
      ]
     },
     "execution_count": 20,
     "metadata": {},
     "output_type": "execute_result"
    }
   ],
   "source": [
    "data.getNumPartitions()"
   ]
  },
  {
   "cell_type": "markdown",
   "metadata": {
    "id": "hs4uRP2lQW44"
   },
   "source": [
    "####Roll no:- DS5B-2101"
   ]
  },
  {
   "cell_type": "markdown",
   "metadata": {
    "id": "GrpYuikcW1aa"
   },
   "source": [
    "### Remove Heading\n",
    "we remove heading so that we don't get any error while applying any rdd operation regarding heading raw"
   ]
  },
  {
   "cell_type": "code",
   "execution_count": 21,
   "metadata": {
    "colab": {
     "base_uri": "https://localhost:8080/",
     "height": 52
    },
    "id": "oLudHC2zXHN8",
    "outputId": "5bbe52d3-b77c-4007-e7b6-844c2a93656f"
   },
   "outputs": [
    {
     "data": {
      "application/vnd.google.colaboratory.intrinsic+json": {
       "type": "string"
      },
      "text/plain": [
       "'product name,asin,product url,brand name,image url,mrp,sale price,discount percentage,product description,date first available,number of reviews,seller name'"
      ]
     },
     "execution_count": 21,
     "metadata": {},
     "output_type": "execute_result"
    }
   ],
   "source": [
    "header = data.first()\n",
    "header"
   ]
  },
  {
   "cell_type": "code",
   "execution_count": 22,
   "metadata": {
    "id": "Wo3FmhkNXP_U"
   },
   "outputs": [],
   "source": [
    "newdata = data.filter(lambda x: x!=header)"
   ]
  },
  {
   "cell_type": "code",
   "execution_count": 23,
   "metadata": {
    "colab": {
     "base_uri": "https://localhost:8080/"
    },
    "id": "G3R63R4mKI9h",
    "outputId": "18588961-a17e-4bcd-f4cc-dfc9ff09cf3f"
   },
   "outputs": [
    {
     "data": {
      "text/plain": [
       "['BHAGIRATH Standard comfort Disposable Pollution/Surgical Elastic Mask Surgical Face Mask with Earloop Great for Air Pollution Virus. 1,B085GL266P,https://www.amazon.in/BHAGIRATH-Standard-Disposable-Pollution-Surgical/dp/B085GL266P/,Bhagirath fab,https://images-na.ssl-images-amazon.com/images/I/61XinzsWunL._SL1100_.jpg, 16999.00,199.00,99%,IND mask covers the user’s nose and mouth and provides a physical barrier to fluids and particulate materials. The surgical masks referenced in this guidance document include masks that are labeled as a surgical  laser  isolation  dental or medical procedure masks with or without a face shield.,2020-03-01 00:00:00,0,Bhagirath fab',\n",
       " 'SHOPPERMART urgical Face Mask Disposable - Pack of 5,B07YPSZK39,https://www.amazon.in/SHOPPERMART-urgical-Face-Mask-Disposable/dp/B07YPSZK39/,SHOPPERMART,https://images-na.ssl-images-amazon.com/images/I/61BgE1t%2BUJL._SL1000_.jpg,,,,Easy breathable  effective multiplayer bacterial filter  soft  lightweight  comfortable and easy to wear  used in medical  dental  laboratory  food sectors  school  household  industry and multi-purpose  bacteria filtration efficiency 99%  particle filtration efficiency (0.1 micron) 99%  virus filtration efficiency (0.1 micron) 99%  fluid repellent 120 mmhg  breathable < 49 0 pa fluid resistant hygienic & skin friendly ,2019-10-03 00:00:00,2,',\n",
       " 'ShopyBucket Standard 3 PCS comfort Disposable Pollution Elastic Mask Disposable 3 Ply Face Mask with Earloop Great for Air Pollution Virus Protection & Personal Health Face Mask,B0855V7MQ8,https://www.amazon.in/ShopyBucket-Standard-Disposable-Pollution-Protection/dp/B0855V7MQ8/,Shopy,https://images-na.ssl-images-amazon.com/images/I/61SPmUgDP9L._SL1100_.jpg, 798.00,510.00,36%,,2020-02-26 00:00:00,0,BasicDeal',\n",
       " \"Ivaan Disposable Earloop Medical Face Masks Two Layer Non-Woven Pack 0f 100 pcs,B082HDNJCP,https://www.amazon.in/Ivaan-Disposable-Earloop-Medical-Non-Woven/dp/B082HDNJCP/,IVAAN,https://images-na.ssl-images-amazon.com/images/I/71MXY9ud8OL._SL1500_.jpg,,,,Facemasks help limit the spread of germs. When someone talks  coughs  or sneezes they may release tiny drops into the air that can infect others. If someone is ill face masks can reduce the number of germs that the wearer releases and can protect other people from becoming sick. A face mask also protects the wearer's nose and mouth from splashes or sprays of body fluids. It is ideal for every house in day to day activities as well as doctors  surgeons  dentist  dental assistance  nurses  landscapers  contractors  plumbers  exterminators  nail technicians and many more.,2019-12-08 00:00:00,6,\"]"
      ]
     },
     "execution_count": 23,
     "metadata": {},
     "output_type": "execute_result"
    }
   ],
   "source": [
    "newdata.take(4)"
   ]
  },
  {
   "cell_type": "markdown",
   "metadata": {
    "id": "416y_AoiNBFQ"
   },
   "source": [
    "# Function 1"
   ]
  },
  {
   "cell_type": "markdown",
   "metadata": {
    "id": "uPmsrD-JN5sL"
   },
   "source": [
    "Filter product name , product brand, product url, product image url"
   ]
  },
  {
   "cell_type": "code",
   "execution_count": 24,
   "metadata": {
    "id": "JMggvh06Nh72"
   },
   "outputs": [],
   "source": [
    "def fun1(x):\n",
    "  a = x.split(\",\")\n",
    "  return a[0], a[3], a[2], a[4]"
   ]
  },
  {
   "cell_type": "code",
   "execution_count": 25,
   "metadata": {
    "colab": {
     "base_uri": "https://localhost:8080/"
    },
    "id": "luA86BAUKK-K",
    "outputId": "ba297a95-1d49-419e-bc3d-e8275d29a5e9"
   },
   "outputs": [
    {
     "data": {
      "text/plain": [
       "[('BHAGIRATH Standard comfort Disposable Pollution/Surgical Elastic Mask Surgical Face Mask with Earloop Great for Air Pollution Virus. 1',\n",
       "  'Bhagirath fab',\n",
       "  'https://www.amazon.in/BHAGIRATH-Standard-Disposable-Pollution-Surgical/dp/B085GL266P/',\n",
       "  'https://images-na.ssl-images-amazon.com/images/I/61XinzsWunL._SL1100_.jpg'),\n",
       " ('SHOPPERMART urgical Face Mask Disposable - Pack of 5',\n",
       "  'SHOPPERMART',\n",
       "  'https://www.amazon.in/SHOPPERMART-urgical-Face-Mask-Disposable/dp/B07YPSZK39/',\n",
       "  'https://images-na.ssl-images-amazon.com/images/I/61BgE1t%2BUJL._SL1000_.jpg'),\n",
       " ('ShopyBucket Standard 3 PCS comfort Disposable Pollution Elastic Mask Disposable 3 Ply Face Mask with Earloop Great for Air Pollution Virus Protection & Personal Health Face Mask',\n",
       "  'Shopy',\n",
       "  'https://www.amazon.in/ShopyBucket-Standard-Disposable-Pollution-Protection/dp/B0855V7MQ8/',\n",
       "  'https://images-na.ssl-images-amazon.com/images/I/61SPmUgDP9L._SL1100_.jpg'),\n",
       " ('Ivaan Disposable Earloop Medical Face Masks Two Layer Non-Woven Pack 0f 100 pcs',\n",
       "  'IVAAN',\n",
       "  'https://www.amazon.in/Ivaan-Disposable-Earloop-Medical-Non-Woven/dp/B082HDNJCP/',\n",
       "  'https://images-na.ssl-images-amazon.com/images/I/71MXY9ud8OL._SL1500_.jpg')]"
      ]
     },
     "execution_count": 25,
     "metadata": {},
     "output_type": "execute_result"
    }
   ],
   "source": [
    "newdata.map(fun1).take(4)"
   ]
  },
  {
   "cell_type": "markdown",
   "metadata": {
    "id": "6VsMvPC5OCbB"
   },
   "source": [
    "# Function 2"
   ]
  },
  {
   "cell_type": "markdown",
   "metadata": {
    "id": "ZtghIJ81P6t2"
   },
   "source": [
    "To find the max sales price"
   ]
  },
  {
   "cell_type": "code",
   "execution_count": 26,
   "metadata": {
    "id": "qabGfdVvNwzN"
   },
   "outputs": [],
   "source": [
    "def fun2(x):\n",
    "  a = x.split(\",\")[-6]\n",
    "  if a == '':\n",
    "    return 0\n",
    "  else:\n",
    "    return float(a)"
   ]
  },
  {
   "cell_type": "code",
   "execution_count": 27,
   "metadata": {
    "colab": {
     "base_uri": "https://localhost:8080/"
    },
    "id": "F9AlQHVqOkQp",
    "outputId": "f9b5a2c1-69c0-41b2-bfa2-bd5bd439bdc4"
   },
   "outputs": [
    {
     "data": {
      "text/plain": [
       "22050.0"
      ]
     },
     "execution_count": 27,
     "metadata": {},
     "output_type": "execute_result"
    }
   ],
   "source": [
    "newdata.map(fun2).max()"
   ]
  },
  {
   "cell_type": "markdown",
   "metadata": {
    "id": "PGSPIRv8P3JI"
   },
   "source": [
    "# Function 3"
   ]
  },
  {
   "cell_type": "markdown",
   "metadata": {
    "id": "SRTDWlYUQcyB"
   },
   "source": [
    "To find the minimum MRP"
   ]
  },
  {
   "cell_type": "code",
   "execution_count": 28,
   "metadata": {
    "id": "pWLmVrmJOqTD"
   },
   "outputs": [],
   "source": [
    "def fun2(x):\n",
    "  a = x.split(\",\")[6]\n",
    "  if a == '':\n",
    "    return \"null\"\n",
    "  else:\n",
    "    return float(a)"
   ]
  },
  {
   "cell_type": "code",
   "execution_count": 29,
   "metadata": {
    "colab": {
     "base_uri": "https://localhost:8080/"
    },
    "id": "KQlMqMchQiwW",
    "outputId": "11cc4f81-4d08-4088-cdb6-b6d5e171bf4b"
   },
   "outputs": [
    {
     "data": {
      "text/plain": [
       "45.0"
      ]
     },
     "execution_count": 29,
     "metadata": {},
     "output_type": "execute_result"
    }
   ],
   "source": [
    "newdata.map(fun2).filter(lambda x: x != \"null\").min()"
   ]
  },
  {
   "cell_type": "markdown",
   "metadata": {
    "id": "SIiXNXECRP6_"
   },
   "source": [
    "# Function 4"
   ]
  },
  {
   "cell_type": "code",
   "execution_count": 30,
   "metadata": {
    "id": "he-h2iXuQk8o"
   },
   "outputs": [],
   "source": [
    "rdd1, rdd2 = newdata.randomSplit([2, 3], 17)"
   ]
  },
  {
   "cell_type": "code",
   "execution_count": 31,
   "metadata": {
    "colab": {
     "base_uri": "https://localhost:8080/"
    },
    "id": "pc0Kjy6DfSOJ",
    "outputId": "a9f002a7-5158-40ae-99ec-cca31eb90a5b"
   },
   "outputs": [
    {
     "data": {
      "text/plain": [
       "212"
      ]
     },
     "execution_count": 31,
     "metadata": {},
     "output_type": "execute_result"
    }
   ],
   "source": [
    "rdd1.count()"
   ]
  },
  {
   "cell_type": "code",
   "execution_count": 32,
   "metadata": {
    "colab": {
     "base_uri": "https://localhost:8080/"
    },
    "id": "sPvGJHNhfW-v",
    "outputId": "d0be2f4e-a89e-43f8-8e89-93e309556fc3"
   },
   "outputs": [
    {
     "data": {
      "text/plain": [
       "319"
      ]
     },
     "execution_count": 32,
     "metadata": {},
     "output_type": "execute_result"
    }
   ],
   "source": [
    "rdd2.count()"
   ]
  },
  {
   "cell_type": "markdown",
   "metadata": {
    "id": "HwRCNqsrfb9N"
   },
   "source": [
    "# Function5"
   ]
  },
  {
   "cell_type": "code",
   "execution_count": 32,
   "metadata": {
    "id": "t49WKqdyfYo4"
   },
   "outputs": [],
   "source": []
  }
 ],
 "metadata": {
  "colab": {
   "collapsed_sections": [],
   "name": "DS5B-2101_6",
   "provenance": []
  },
  "kernelspec": {
   "display_name": "Python 3 (ipykernel)",
   "language": "python",
   "name": "python3"
  },
  "language_info": {
   "codemirror_mode": {
    "name": "ipython",
    "version": 3
   },
   "file_extension": ".py",
   "mimetype": "text/x-python",
   "name": "python",
   "nbconvert_exporter": "python",
   "pygments_lexer": "ipython3",
   "version": "3.10.3"
  }
 },
 "nbformat": 4,
 "nbformat_minor": 1
}
