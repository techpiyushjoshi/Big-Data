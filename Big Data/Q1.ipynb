{
  "nbformat": 4,
  "nbformat_minor": 0,
  "metadata": {
    "colab": {
      "name": "Q1.ipynb",
      "provenance": []
    },
    "kernelspec": {
      "name": "python3",
      "display_name": "Python 3"
    },
    "language_info": {
      "name": "python"
    }
  },
  "cells": [
    {
      "cell_type": "markdown",
      "source": [
        "Considering left as dependent variable in HR dataset, split the dataset according to your last digit of roll no. (Example: if your roll no is ending with 0, the ratio will be 70, 30; if your roll no is ending with 1, the ratio will be 71, 29; if your roll no is ending with 2, the ratio will be 72, 28; if your roll no is ending with 3, the ratio will be 73, 27 etc.). Determine the accuracy of the model."
      ],
      "metadata": {
        "id": "OW_pmSUB4W_f"
      }
    },
    {
      "cell_type": "code",
      "source": [
        "!pip install pyspark"
      ],
      "metadata": {
        "colab": {
          "base_uri": "https://localhost:8080/"
        },
        "id": "YF9ed8CC4aT2",
        "outputId": "7d8f3413-b442-44a1-b88f-7e1de23b3cbc"
      },
      "execution_count": 1,
      "outputs": [
        {
          "output_type": "stream",
          "name": "stdout",
          "text": [
            "Looking in indexes: https://pypi.org/simple, https://us-python.pkg.dev/colab-wheels/public/simple/\n",
            "Collecting pyspark\n",
            "  Downloading pyspark-3.2.1.tar.gz (281.4 MB)\n",
            "\u001b[K     |████████████████████████████████| 281.4 MB 29 kB/s \n",
            "\u001b[?25hCollecting py4j==0.10.9.3\n",
            "  Downloading py4j-0.10.9.3-py2.py3-none-any.whl (198 kB)\n",
            "\u001b[K     |████████████████████████████████| 198 kB 42.5 MB/s \n",
            "\u001b[?25hBuilding wheels for collected packages: pyspark\n",
            "  Building wheel for pyspark (setup.py) ... \u001b[?25l\u001b[?25hdone\n",
            "  Created wheel for pyspark: filename=pyspark-3.2.1-py2.py3-none-any.whl size=281853642 sha256=8b46831582fe33020b51646e24a86fc72a74a84b94240776aece0e2d97207751\n",
            "  Stored in directory: /root/.cache/pip/wheels/9f/f5/07/7cd8017084dce4e93e84e92efd1e1d5334db05f2e83bcef74f\n",
            "Successfully built pyspark\n",
            "Installing collected packages: py4j, pyspark\n",
            "Successfully installed py4j-0.10.9.3 pyspark-3.2.1\n"
          ]
        }
      ]
    },
    {
      "cell_type": "code",
      "source": [
        "from pyspark.sql import SparkSession\n",
        "session = SparkSession.builder.appName(\"HR_comma_Dataset\").getOrCreate()\n",
        "data = session.read.csv(\"HR comma.csv\", header = True, inferSchema = True)"
      ],
      "metadata": {
        "id": "WPPfbSiA5EkF"
      },
      "execution_count": 2,
      "outputs": []
    },
    {
      "cell_type": "code",
      "source": [
        "data.show(10)"
      ],
      "metadata": {
        "colab": {
          "base_uri": "https://localhost:8080/"
        },
        "id": "0LtF89lX5_L_",
        "outputId": "84aaaf1a-ecce-410a-b9e8-911dfd24d3a1"
      },
      "execution_count": 3,
      "outputs": [
        {
          "output_type": "stream",
          "name": "stdout",
          "text": [
            "+------------------+---------------+--------------+--------------------+------------------+-------------+----+---------------------+-----+------+\n",
            "|satisfaction_level|last_evaluation|number_project|average_montly_hours|time_spend_company|Work_accident|left|promotion_last_5years|sales|salary|\n",
            "+------------------+---------------+--------------+--------------------+------------------+-------------+----+---------------------+-----+------+\n",
            "|              0.38|           0.53|             2|                 157|                 3|            0|   1|                    0|sales|   low|\n",
            "|               0.8|           0.86|             5|                 262|                 6|            0|   1|                    0|sales|medium|\n",
            "|              0.11|           0.88|             7|                 272|                 4|            0|   1|                    0|sales|medium|\n",
            "|              0.72|           0.87|             5|                 223|                 5|            0|   1|                    0|sales|   low|\n",
            "|              0.37|           0.52|             2|                 159|                 3|            0|   1|                    0|sales|   low|\n",
            "|              0.41|            0.5|             2|                 153|                 3|            0|   1|                    0|sales|   low|\n",
            "|               0.1|           0.77|             6|                 247|                 4|            0|   1|                    0|sales|   low|\n",
            "|              0.92|           0.85|             5|                 259|                 5|            0|   1|                    0|sales|   low|\n",
            "|              0.89|            1.0|             5|                 224|                 5|            0|   1|                    0|sales|   low|\n",
            "|              0.42|           0.53|             2|                 142|                 3|            0|   1|                    0|sales|   low|\n",
            "+------------------+---------------+--------------+--------------------+------------------+-------------+----+---------------------+-----+------+\n",
            "only showing top 10 rows\n",
            "\n"
          ]
        }
      ]
    },
    {
      "cell_type": "code",
      "source": [
        "data.columns"
      ],
      "metadata": {
        "colab": {
          "base_uri": "https://localhost:8080/"
        },
        "id": "SbAZQykL6kQo",
        "outputId": "33dfe1e7-97b5-4c75-eb08-b56bfbb09da4"
      },
      "execution_count": 4,
      "outputs": [
        {
          "output_type": "execute_result",
          "data": {
            "text/plain": [
              "['satisfaction_level',\n",
              " 'last_evaluation',\n",
              " 'number_project',\n",
              " 'average_montly_hours',\n",
              " 'time_spend_company',\n",
              " 'Work_accident',\n",
              " 'left',\n",
              " 'promotion_last_5years',\n",
              " 'sales',\n",
              " 'salary']"
            ]
          },
          "metadata": {},
          "execution_count": 4
        }
      ]
    },
    {
      "cell_type": "code",
      "source": [
        "from pyspark.ml.feature import VectorAssembler, StringIndexer, OneHotEncoder\n",
        "str_idx = StringIndexer(inputCols = ['sales','salary'], outputCols = [\"newsales\", \"newsalary\"])"
      ],
      "metadata": {
        "id": "5eYoSB9t6nfg"
      },
      "execution_count": 5,
      "outputs": []
    },
    {
      "cell_type": "code",
      "source": [
        "one_hot = OneHotEncoder(inputCols = [\"newsales\",\"newsalary\"], outputCols = [\"newsales_onehot\",\"newsalary_onehot\"])"
      ],
      "metadata": {
        "id": "-Nl62PQb7A6D"
      },
      "execution_count": 6,
      "outputs": []
    },
    {
      "cell_type": "code",
      "source": [
        "vec_ass = VectorAssembler(inputCols = ['satisfaction_level','last_evaluation','number_project','average_montly_hours','time_spend_company','Work_accident','promotion_last_5years','newsales_onehot','newsalary_onehot'], outputCol = \"all_features\")"
      ],
      "metadata": {
        "id": "x6g8T0tq7W8R"
      },
      "execution_count": 7,
      "outputs": []
    },
    {
      "cell_type": "code",
      "source": [
        "from pyspark.ml.classification import LogisticRegression\n",
        "lr = LogisticRegression(featuresCol= \"all_features\", labelCol = \"left\")"
      ],
      "metadata": {
        "id": "ELc5SnSO8hio"
      },
      "execution_count": 8,
      "outputs": []
    },
    {
      "cell_type": "code",
      "source": [
        "from pyspark.ml import Pipeline\n",
        "mypipeline = Pipeline(stages = [str_idx, one_hot, vec_ass, lr])"
      ],
      "metadata": {
        "id": "E2nL2QDw8mAt"
      },
      "execution_count": 9,
      "outputs": []
    },
    {
      "cell_type": "code",
      "source": [
        "training, test = data.randomSplit([0.71, 0.29])"
      ],
      "metadata": {
        "id": "Ce4H_pX78pO8"
      },
      "execution_count": 10,
      "outputs": []
    },
    {
      "cell_type": "code",
      "source": [
        "lr_model = mypipeline.fit(training)"
      ],
      "metadata": {
        "id": "CUnkwNVY8u58"
      },
      "execution_count": 11,
      "outputs": []
    },
    {
      "cell_type": "code",
      "source": [
        "result = lr_model.transform(test)"
      ],
      "metadata": {
        "id": "RrqzerhD8zE8"
      },
      "execution_count": 12,
      "outputs": []
    },
    {
      "cell_type": "code",
      "source": [
        "result.show(4, truncate = False)"
      ],
      "metadata": {
        "colab": {
          "base_uri": "https://localhost:8080/"
        },
        "id": "m_-3z0Mb85pT",
        "outputId": "a6a8ca50-1bb4-47d0-81fb-0a52c3f0ef90"
      },
      "execution_count": 13,
      "outputs": [
        {
          "output_type": "stream",
          "name": "stdout",
          "text": [
            "+------------------+---------------+--------------+--------------------+------------------+-------------+----+---------------------+-----------+------+--------+---------+---------------+----------------+--------------------------------------------------------+----------------------------------------+----------------------------------------+----------+\n",
            "|satisfaction_level|last_evaluation|number_project|average_montly_hours|time_spend_company|Work_accident|left|promotion_last_5years|sales      |salary|newsales|newsalary|newsales_onehot|newsalary_onehot|all_features                                            |rawPrediction                           |probability                             |prediction|\n",
            "+------------------+---------------+--------------+--------------------+------------------+-------------+----+---------------------+-----------+------+--------+---------+---------------+----------------+--------------------------------------------------------+----------------------------------------+----------------------------------------+----------+\n",
            "|0.09              |0.62           |6             |294                 |4                 |0            |1   |0                    |accounting |low   |8.0     |0.0      |(9,[8],[1.0])  |(2,[0],[1.0])   |(18,[0,1,2,3,4,15,16],[0.09,0.62,6.0,294.0,4.0,1.0,1.0])|[-0.906113009228541,0.906113009228541]  |[0.28779589386338533,0.7122041061366147]|1.0       |\n",
            "|0.09              |0.62           |6             |294                 |4                 |0            |1   |0                    |accounting |low   |8.0     |0.0      |(9,[8],[1.0])  |(2,[0],[1.0])   |(18,[0,1,2,3,4,15,16],[0.09,0.62,6.0,294.0,4.0,1.0,1.0])|[-0.906113009228541,0.906113009228541]  |[0.28779589386338533,0.7122041061366147]|1.0       |\n",
            "|0.09              |0.77           |5             |275                 |4                 |0            |1   |0                    |product_mng|medium|4.0     |1.0      |(9,[4],[1.0])  |(2,[1],[1.0])   |(18,[0,1,2,3,4,11,17],[0.09,0.77,5.0,275.0,4.0,1.0,1.0])|[-0.6706336468375675,0.6706336468375675]|[0.3383549711925885,0.6616450288074115] |1.0       |\n",
            "|0.09              |0.77           |6             |244                 |4                 |0            |1   |0                    |product_mng|low   |4.0     |0.0      |(9,[4],[1.0])  |(2,[0],[1.0])   |(18,[0,1,2,3,4,11,16],[0.09,0.77,6.0,244.0,4.0,1.0,1.0])|[-0.7998272517122431,0.7998272517122431]|[0.31006247261884357,0.6899375273811564]|1.0       |\n",
            "+------------------+---------------+--------------+--------------------+------------------+-------------+----+---------------------+-----------+------+--------+---------+---------------+----------------+--------------------------------------------------------+----------------------------------------+----------------------------------------+----------+\n",
            "only showing top 4 rows\n",
            "\n"
          ]
        }
      ]
    },
    {
      "cell_type": "code",
      "source": [
        "from pyspark.ml.evaluation import BinaryClassificationEvaluator\n",
        "eval = BinaryClassificationEvaluator(rawPredictionCol=\"rawPrediction\", labelCol = \"left\")"
      ],
      "metadata": {
        "id": "k1VrpcNq87h8"
      },
      "execution_count": 14,
      "outputs": []
    },
    {
      "cell_type": "code",
      "source": [
        "eval.evaluate(result)"
      ],
      "metadata": {
        "colab": {
          "base_uri": "https://localhost:8080/"
        },
        "id": "Gt4u4iAB9Bcc",
        "outputId": "9ce7ea0a-3b49-4eaf-c1fe-79bcfc36ec7a"
      },
      "execution_count": 15,
      "outputs": [
        {
          "output_type": "execute_result",
          "data": {
            "text/plain": [
              "0.8297104126919155"
            ]
          },
          "metadata": {},
          "execution_count": 15
        }
      ]
    }
  ]
}