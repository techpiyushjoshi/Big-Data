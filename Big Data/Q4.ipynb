{
 "cells": [
  {
   "cell_type": "code",
   "execution_count": null,
   "metadata": {},
   "outputs": [],
   "source": [
    "# Connecting To The MongoDB "
   ]
  },
  {
   "cell_type": "code",
   "execution_count": 3,
   "metadata": {},
   "outputs": [
    {
     "data": {
      "text/plain": [
       "MongoClient(host=['localhost:27017'], document_class=dict, tz_aware=False, connect=True)"
      ]
     },
     "execution_count": 3,
     "metadata": {},
     "output_type": "execute_result"
    }
   ],
   "source": [
    "import pymongo  # DS5B 2112\n",
    "client = pymongo.MongoClient(\"mongodb://localhost:27017/\")\n",
    "client"
   ]
  },
  {
   "cell_type": "code",
   "execution_count": null,
   "metadata": {},
   "outputs": [],
   "source": [
    "# Databases List"
   ]
  },
  {
   "cell_type": "code",
   "execution_count": 4,
   "metadata": {},
   "outputs": [
    {
     "data": {
      "text/plain": [
       "['admin', 'config', 'local']"
      ]
     },
     "execution_count": 4,
     "metadata": {},
     "output_type": "execute_result"
    }
   ],
   "source": [
    "client.list_database_names() # DS5B 2112"
   ]
  },
  {
   "cell_type": "code",
   "execution_count": null,
   "metadata": {},
   "outputs": [],
   "source": [
    "# DB Create"
   ]
  },
  {
   "cell_type": "code",
   "execution_count": 5,
   "metadata": {},
   "outputs": [],
   "source": [
    "mydb = client[\"admin\"]  # the DB will not show in list untill unless data is inserted into it # DS5B 2112"
   ]
  },
  {
   "cell_type": "code",
   "execution_count": null,
   "metadata": {},
   "outputs": [],
   "source": [
    "# Creating Collection inside DB"
   ]
  },
  {
   "cell_type": "code",
   "execution_count": 6,
   "metadata": {},
   "outputs": [],
   "source": [
    "collection1 = mydb[\"New_Patient\"]"
   ]
  },
  {
   "cell_type": "code",
   "execution_count": null,
   "metadata": {},
   "outputs": [],
   "source": [
    "# Inserting a Single record "
   ]
  },
  {
   "cell_type": "code",
   "execution_count": 7,
   "metadata": {},
   "outputs": [
    {
     "data": {
      "text/plain": [
       "<pymongo.results.InsertOneResult at 0x22630387340>"
      ]
     },
     "execution_count": 7,
     "metadata": {},
     "output_type": "execute_result"
    }
   ],
   "source": [
    "record = {\"Patient1\": {\n",
    "    \"Name\": \"Piyush Joshi\",\n",
    "    \"Age\": 22,\n",
    "    \"Address\": {\n",
    "      \"City\": \"Indore\",\n",
    "      \"State\": \"Madhya Pradesh\",\n",
    "      \"Country\": \"India\"\n",
    "    },\n",
    "    \"Mobile Number\": [\n",
    "      7047436645,\n",
    "      8982161294\n",
    "    ],\n",
    "    \"Assigned_Doctor\": {\n",
    "      \"D_name\": \"Kuku Joshi\",\n",
    "      \"D_age\": 54,\n",
    "      \"D_Specialisation\": \"Cardiologist\"\n",
    "    },\n",
    "    \"Diagonosis_For\": \"Cardiac Arrest\",\n",
    "    \"Stay_Days\": 5,\n",
    "    \"Bill\": 5000}}\n",
    "collection1.insert_one(record)"
   ]
  },
  {
   "cell_type": "code",
   "execution_count": null,
   "metadata": {},
   "outputs": [],
   "source": [
    "# Deleting A Record"
   ]
  },
  {
   "cell_type": "code",
   "execution_count": 8,
   "metadata": {},
   "outputs": [
    {
     "data": {
      "text/plain": [
       "<pymongo.results.DeleteResult at 0x226314e90f0>"
      ]
     },
     "execution_count": 8,
     "metadata": {},
     "output_type": "execute_result"
    }
   ],
   "source": [
    "collection1.delete_one({\"Patient1.Diagonosis_For\":\"Cardiac Arrest\"})"
   ]
  },
  {
   "cell_type": "code",
   "execution_count": null,
   "metadata": {},
   "outputs": [],
   "source": [
    "# Updating A Record"
   ]
  },
  {
   "cell_type": "code",
   "execution_count": 16,
   "metadata": {},
   "outputs": [
    {
     "data": {
      "text/plain": [
       "<pymongo.results.UpdateResult at 0x2263155d180>"
      ]
     },
     "execution_count": 16,
     "metadata": {},
     "output_type": "execute_result"
    }
   ],
   "source": [
    "collection1.update_one({\"Patient1.Age\":22}, {\"$set\":{\"Patient1.Age\":25}})"
   ]
  },
  {
   "cell_type": "code",
   "execution_count": 17,
   "metadata": {},
   "outputs": [
    {
     "name": "stdout",
     "output_type": "stream",
     "text": [
      "{'_id': ObjectId('62930b0eefef3d573bd5005b'), 'Patient1': {'Name': 'Piyush Joshi', 'Age': 25, 'Address': {'City': 'Indore', 'State': 'Madhya Pradesh', 'Country': 'India'}, 'Mobile Number': [7047436645, 8982161294], 'Assigned_Doctor': {'D_name': 'Kuku Joshi', 'D_age': 54, 'D_Specialisation': 'Cardiologist'}, 'Diagonosis_For': 'Cardiac Arrest', 'Stay_Days': 5, 'Bill': 5000}}\n"
     ]
    }
   ],
   "source": [
    "for i in collection1.find():\n",
    "    print(i)"
   ]
  },
  {
   "cell_type": "code",
   "execution_count": null,
   "metadata": {},
   "outputs": [],
   "source": [
    "# Finding a record"
   ]
  },
  {
   "cell_type": "code",
   "execution_count": 12,
   "metadata": {},
   "outputs": [
    {
     "name": "stdout",
     "output_type": "stream",
     "text": [
      "{'_id': ObjectId('62930b0eefef3d573bd5005b'), 'Patient1': {'Name': 'Piyush Joshi', 'Age': 22, 'Address': {'City': 'Indore', 'State': 'Madhya Pradesh', 'Country': 'India'}, 'Mobile Number': [7047436645, 8982161294], 'Assigned_Doctor': {'D_name': 'Kuku Joshi', 'D_age': 54, 'D_Specialisation': 'Cardiologist'}, 'Diagonosis_For': 'Cardiac Arrest', 'Stay_Days': 5, 'Bill': 5000}}\n"
     ]
    }
   ],
   "source": [
    "query1 = {\"Patient1.Address.City\":\"Indore\"}\n",
    "\n",
    "results = collection1.find(query1)\n",
    "for data in results:\n",
    "    print(data)"
   ]
  },
  {
   "cell_type": "code",
   "execution_count": null,
   "metadata": {},
   "outputs": [],
   "source": []
  }
 ],
 "metadata": {
  "kernelspec": {
   "display_name": "Python 3 (ipykernel)",
   "language": "python",
   "name": "python3"
  },
  "language_info": {
   "codemirror_mode": {
    "name": "ipython",
    "version": 3
   },
   "file_extension": ".py",
   "mimetype": "text/x-python",
   "name": "python",
   "nbconvert_exporter": "python",
   "pygments_lexer": "ipython3",
   "version": "3.10.3"
  }
 },
 "nbformat": 4,
 "nbformat_minor": 4
}
