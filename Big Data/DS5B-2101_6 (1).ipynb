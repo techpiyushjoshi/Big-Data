{
 "cells": [
  {
   "cell_type": "markdown",
   "metadata": {
    "id": "kbgOt_QUP-bk"
   },
   "source": [
    "My Roll No. Is : DS5B-2137"
   ]
  },
  {
   "cell_type": "markdown",
   "metadata": {
    "id": "8BCF5TldN3Mh"
   },
   "source": [
    "### Install PySpark"
   ]
  },
  {
   "cell_type": "code",
   "execution_count": null,
   "metadata": {
    "colab": {
     "base_uri": "https://localhost:8080/"
    },
    "id": "lNniE_wnN0jW",
    "outputId": "1cb623ee-9cf1-4a6a-e6b1-10cd772d7d88"
   },
   "outputs": [
    {
     "name": "stdout",
     "output_type": "stream",
     "text": [
      "Looking in indexes: https://pypi.org/simple, https://us-python.pkg.dev/colab-wheels/public/simple/\n",
      "Collecting pyspark\n",
      "  Downloading pyspark-3.2.1.tar.gz (281.4 MB)\n",
      "\u001b[K     |████████████████████████████████| 281.4 MB 35 kB/s \n",
      "\u001b[?25hCollecting py4j==0.10.9.3\n",
      "  Downloading py4j-0.10.9.3-py2.py3-none-any.whl (198 kB)\n",
      "\u001b[K     |████████████████████████████████| 198 kB 52.9 MB/s \n",
      "\u001b[?25hBuilding wheels for collected packages: pyspark\n",
      "  Building wheel for pyspark (setup.py) ... \u001b[?25l\u001b[?25hdone\n",
      "  Created wheel for pyspark: filename=pyspark-3.2.1-py2.py3-none-any.whl size=281853642 sha256=232df15823e37582f73d087dbafa941492a3f5f0c3aded6975fb0ddf02d42f9a\n",
      "  Stored in directory: /root/.cache/pip/wheels/9f/f5/07/7cd8017084dce4e93e84e92efd1e1d5334db05f2e83bcef74f\n",
      "Successfully built pyspark\n",
      "Installing collected packages: py4j, pyspark\n",
      "Successfully installed py4j-0.10.9.3 pyspark-3.2.1\n"
     ]
    }
   ],
   "source": [
    "pip install pyspark"
   ]
  },
  {
   "cell_type": "markdown",
   "metadata": {
    "id": "m9A8tP2JN-gk"
   },
   "source": [
    "### Create Spark Context\n",
    "Main entry point for Spark functionality. A SparkContext represents the connection to a Spark cluster, and can be used to create RDD and broadcast variables on that cluster."
   ]
  },
  {
   "cell_type": "markdown",
   "metadata": {
    "id": "XpHEzKr6QTN1"
   },
   "source": [
    "My Roll No. Is : DS5B-2137"
   ]
  },
  {
   "cell_type": "code",
   "execution_count": null,
   "metadata": {
    "id": "vsLUDw28RNcl"
   },
   "outputs": [],
   "source": [
    "from pyspark import SparkConf, SparkContext"
   ]
  },
  {
   "cell_type": "code",
   "execution_count": null,
   "metadata": {
    "id": "IKXfjqUHSieJ"
   },
   "outputs": [],
   "source": [
    "if __name__ == \"__main__\":\n",
    "  conf = SparkConf().setAppName(\"exam\").setMaster(\"local[2]\")\n",
    "  # AppName : A name for your job, to display on the cluster web UI and Master: Cluster URL to connect to local or spark host etc and in it we can define how many cluster(partitions) we need.\n",
    "  sc = SparkContext(conf = conf)"
   ]
  },
  {
   "cell_type": "markdown",
   "metadata": {
    "id": "f8VIaQW-TFRC"
   },
   "source": [
    "### Create a RDD by reading the csv file\n",
    "A Resilient Distributed Dataset (RDD), the basic abstraction in Spark. Represents an immutable, partitioned collection of elements that can be operated on in parallel."
   ]
  },
  {
   "cell_type": "markdown",
   "metadata": {
    "id": "xRgHYjdTQUO8"
   },
   "source": [
    "My Roll No. Is : DS5B-2137"
   ]
  },
  {
   "cell_type": "code",
   "execution_count": null,
   "metadata": {
    "id": "YQTcbolDTJSU"
   },
   "outputs": [],
   "source": [
    "data = sc.textFile(\"amazon.csv\")"
   ]
  },
  {
   "cell_type": "markdown",
   "metadata": {
    "id": "xcqrf47CTudD"
   },
   "source": [
    "Print the top five raws of dataset"
   ]
  },
  {
   "cell_type": "code",
   "execution_count": null,
   "metadata": {
    "colab": {
     "base_uri": "https://localhost:8080/"
    },
    "id": "I9oJiATaTsHc",
    "outputId": "120c59b2-d4b3-4a75-ba86-bfb4d18cd789"
   },
   "outputs": [
    {
     "data": {
      "text/plain": [
       "['product name,asin,product url,brand name,image url,mrp,sale price,discount percentage,product description,date first available,number of reviews,seller name',\n",
       " 'BHAGIRATH Standard comfort Disposable Pollution/Surgical Elastic Mask Surgical Face Mask with Earloop Great for Air Pollution Virus. 1,B085GL266P,https://www.amazon.in/BHAGIRATH-Standard-Disposable-Pollution-Surgical/dp/B085GL266P/,Bhagirath fab,https://images-na.ssl-images-amazon.com/images/I/61XinzsWunL._SL1100_.jpg, 16999.00,199.00,99%,IND mask covers the user’s nose and mouth and provides a physical barrier to fluids and particulate materials. The surgical masks referenced in this guidance document include masks that are labeled as a surgical  laser  isolation  dental or medical procedure masks with or without a face shield.,2020-03-01 00:00:00,0,Bhagirath fab',\n",
       " 'SHOPPERMART urgical Face Mask Disposable - Pack of 5,B07YPSZK39,https://www.amazon.in/SHOPPERMART-urgical-Face-Mask-Disposable/dp/B07YPSZK39/,SHOPPERMART,https://images-na.ssl-images-amazon.com/images/I/61BgE1t%2BUJL._SL1000_.jpg,,,,Easy breathable  effective multiplayer bacterial filter  soft  lightweight  comfortable and easy to wear  used in medical  dental  laboratory  food sectors  school  household  industry and multi-purpose  bacteria filtration efficiency 99%  particle filtration efficiency (0.1 micron) 99%  virus filtration efficiency (0.1 micron) 99%  fluid repellent 120 mmhg  breathable < 49 0 pa fluid resistant hygienic & skin friendly ,2019-10-03 00:00:00,2,',\n",
       " 'ShopyBucket Standard 3 PCS comfort Disposable Pollution Elastic Mask Disposable 3 Ply Face Mask with Earloop Great for Air Pollution Virus Protection & Personal Health Face Mask,B0855V7MQ8,https://www.amazon.in/ShopyBucket-Standard-Disposable-Pollution-Protection/dp/B0855V7MQ8/,Shopy,https://images-na.ssl-images-amazon.com/images/I/61SPmUgDP9L._SL1100_.jpg, 798.00,510.00,36%,,2020-02-26 00:00:00,0,BasicDeal',\n",
       " \"Ivaan Disposable Earloop Medical Face Masks Two Layer Non-Woven Pack 0f 100 pcs,B082HDNJCP,https://www.amazon.in/Ivaan-Disposable-Earloop-Medical-Non-Woven/dp/B082HDNJCP/,IVAAN,https://images-na.ssl-images-amazon.com/images/I/71MXY9ud8OL._SL1500_.jpg,,,,Facemasks help limit the spread of germs. When someone talks  coughs  or sneezes they may release tiny drops into the air that can infect others. If someone is ill face masks can reduce the number of germs that the wearer releases and can protect other people from becoming sick. A face mask also protects the wearer's nose and mouth from splashes or sprays of body fluids. It is ideal for every house in day to day activities as well as doctors  surgeons  dentist  dental assistance  nurses  landscapers  contractors  plumbers  exterminators  nail technicians and many more.,2019-12-08 00:00:00,6,\"]"
      ]
     },
     "execution_count": 14,
     "metadata": {},
     "output_type": "execute_result"
    }
   ],
   "source": [
    "data.take(5)"
   ]
  },
  {
   "cell_type": "markdown",
   "metadata": {
    "id": "XxBVK2hzWeni"
   },
   "source": [
    "Count total number of raw in dataset"
   ]
  },
  {
   "cell_type": "markdown",
   "metadata": {
    "id": "BJNUH_B1QVS5"
   },
   "source": [
    "My Roll No. Is : DS5B-2137"
   ]
  },
  {
   "cell_type": "code",
   "execution_count": null,
   "metadata": {
    "colab": {
     "base_uri": "https://localhost:8080/"
    },
    "id": "bRvhN5sEWaow",
    "outputId": "dc08cd1c-aa4d-49cf-d9c1-55074898ed25"
   },
   "outputs": [
    {
     "data": {
      "text/plain": [
       "532"
      ]
     },
     "execution_count": 15,
     "metadata": {},
     "output_type": "execute_result"
    }
   ],
   "source": [
    "data.count()"
   ]
  },
  {
   "cell_type": "markdown",
   "metadata": {
    "id": "hXpQx1VuUhpB"
   },
   "source": [
    "Check the number of partitions"
   ]
  },
  {
   "cell_type": "code",
   "execution_count": null,
   "metadata": {
    "colab": {
     "base_uri": "https://localhost:8080/"
    },
    "id": "4BF3pnzqUmJb",
    "outputId": "f92efb1b-88c6-40ed-acb0-bc2640563746"
   },
   "outputs": [
    {
     "data": {
      "text/plain": [
       "2"
      ]
     },
     "execution_count": 16,
     "metadata": {},
     "output_type": "execute_result"
    }
   ],
   "source": [
    "data.getNumPartitions()"
   ]
  },
  {
   "cell_type": "markdown",
   "metadata": {
    "id": "hs4uRP2lQW44"
   },
   "source": [
    "My Roll No. Is : DS5B-2137"
   ]
  },
  {
   "cell_type": "markdown",
   "metadata": {
    "id": "GrpYuikcW1aa"
   },
   "source": [
    "### Remove Heading\n",
    "we remove heading so that we don't get any error while applying any rdd operation regarding heading raw"
   ]
  },
  {
   "cell_type": "code",
   "execution_count": null,
   "metadata": {
    "colab": {
     "base_uri": "https://localhost:8080/",
     "height": 35
    },
    "id": "oLudHC2zXHN8",
    "outputId": "deb6bec2-d520-4a21-a332-4f669570d36a"
   },
   "outputs": [
    {
     "data": {
      "application/vnd.google.colaboratory.intrinsic+json": {
       "type": "string"
      },
      "text/plain": [
       "'product name,asin,product url,brand name,image url,mrp,sale price,discount percentage,product description,date first available,number of reviews,seller name'"
      ]
     },
     "execution_count": 17,
     "metadata": {},
     "output_type": "execute_result"
    }
   ],
   "source": [
    "header = data.first()\n",
    "header"
   ]
  },
  {
   "cell_type": "code",
   "execution_count": null,
   "metadata": {
    "id": "Wo3FmhkNXP_U"
   },
   "outputs": [],
   "source": [
    "newdata = data.filter(lambda x: x!=header)"
   ]
  },
  {
   "cell_type": "code",
   "execution_count": null,
   "metadata": {
    "colab": {
     "base_uri": "https://localhost:8080/"
    },
    "id": "G3R63R4mKI9h",
    "outputId": "f0803ca4-5d95-4321-ed69-15d88749c10e"
   },
   "outputs": [
    {
     "data": {
      "text/plain": [
       "['BHAGIRATH Standard comfort Disposable Pollution/Surgical Elastic Mask Surgical Face Mask with Earloop Great for Air Pollution Virus. 1,B085GL266P,https://www.amazon.in/BHAGIRATH-Standard-Disposable-Pollution-Surgical/dp/B085GL266P/,Bhagirath fab,https://images-na.ssl-images-amazon.com/images/I/61XinzsWunL._SL1100_.jpg, 16999.00,199.00,99%,IND mask covers the user’s nose and mouth and provides a physical barrier to fluids and particulate materials. The surgical masks referenced in this guidance document include masks that are labeled as a surgical  laser  isolation  dental or medical procedure masks with or without a face shield.,2020-03-01 00:00:00,0,Bhagirath fab',\n",
       " 'SHOPPERMART urgical Face Mask Disposable - Pack of 5,B07YPSZK39,https://www.amazon.in/SHOPPERMART-urgical-Face-Mask-Disposable/dp/B07YPSZK39/,SHOPPERMART,https://images-na.ssl-images-amazon.com/images/I/61BgE1t%2BUJL._SL1000_.jpg,,,,Easy breathable  effective multiplayer bacterial filter  soft  lightweight  comfortable and easy to wear  used in medical  dental  laboratory  food sectors  school  household  industry and multi-purpose  bacteria filtration efficiency 99%  particle filtration efficiency (0.1 micron) 99%  virus filtration efficiency (0.1 micron) 99%  fluid repellent 120 mmhg  breathable < 49 0 pa fluid resistant hygienic & skin friendly ,2019-10-03 00:00:00,2,',\n",
       " 'ShopyBucket Standard 3 PCS comfort Disposable Pollution Elastic Mask Disposable 3 Ply Face Mask with Earloop Great for Air Pollution Virus Protection & Personal Health Face Mask,B0855V7MQ8,https://www.amazon.in/ShopyBucket-Standard-Disposable-Pollution-Protection/dp/B0855V7MQ8/,Shopy,https://images-na.ssl-images-amazon.com/images/I/61SPmUgDP9L._SL1100_.jpg, 798.00,510.00,36%,,2020-02-26 00:00:00,0,BasicDeal',\n",
       " \"Ivaan Disposable Earloop Medical Face Masks Two Layer Non-Woven Pack 0f 100 pcs,B082HDNJCP,https://www.amazon.in/Ivaan-Disposable-Earloop-Medical-Non-Woven/dp/B082HDNJCP/,IVAAN,https://images-na.ssl-images-amazon.com/images/I/71MXY9ud8OL._SL1500_.jpg,,,,Facemasks help limit the spread of germs. When someone talks  coughs  or sneezes they may release tiny drops into the air that can infect others. If someone is ill face masks can reduce the number of germs that the wearer releases and can protect other people from becoming sick. A face mask also protects the wearer's nose and mouth from splashes or sprays of body fluids. It is ideal for every house in day to day activities as well as doctors  surgeons  dentist  dental assistance  nurses  landscapers  contractors  plumbers  exterminators  nail technicians and many more.,2019-12-08 00:00:00,6,\"]"
      ]
     },
     "execution_count": 19,
     "metadata": {},
     "output_type": "execute_result"
    }
   ],
   "source": [
    "newdata.take(4)"
   ]
  },
  {
   "cell_type": "markdown",
   "metadata": {
    "id": "416y_AoiNBFQ"
   },
   "source": [
    "# Function 1"
   ]
  },
  {
   "cell_type": "markdown",
   "metadata": {
    "id": "uPmsrD-JN5sL"
   },
   "source": [
    "Filter product name , product brand, product url, product image url"
   ]
  },
  {
   "cell_type": "code",
   "execution_count": null,
   "metadata": {
    "id": "JMggvh06Nh72"
   },
   "outputs": [],
   "source": [
    "def fun1(x):\n",
    "  a = x.split(\",\")\n",
    "  return a[0], a[3], a[2], a[4]"
   ]
  },
  {
   "cell_type": "code",
   "execution_count": null,
   "metadata": {
    "colab": {
     "base_uri": "https://localhost:8080/"
    },
    "id": "luA86BAUKK-K",
    "outputId": "07ea277b-1c1f-46a2-e8a2-9a39914f694b"
   },
   "outputs": [
    {
     "data": {
      "text/plain": [
       "[('BHAGIRATH Standard comfort Disposable Pollution/Surgical Elastic Mask Surgical Face Mask with Earloop Great for Air Pollution Virus. 1',\n",
       "  'Bhagirath fab',\n",
       "  'https://www.amazon.in/BHAGIRATH-Standard-Disposable-Pollution-Surgical/dp/B085GL266P/',\n",
       "  'https://images-na.ssl-images-amazon.com/images/I/61XinzsWunL._SL1100_.jpg'),\n",
       " ('SHOPPERMART urgical Face Mask Disposable - Pack of 5',\n",
       "  'SHOPPERMART',\n",
       "  'https://www.amazon.in/SHOPPERMART-urgical-Face-Mask-Disposable/dp/B07YPSZK39/',\n",
       "  'https://images-na.ssl-images-amazon.com/images/I/61BgE1t%2BUJL._SL1000_.jpg'),\n",
       " ('ShopyBucket Standard 3 PCS comfort Disposable Pollution Elastic Mask Disposable 3 Ply Face Mask with Earloop Great for Air Pollution Virus Protection & Personal Health Face Mask',\n",
       "  'Shopy',\n",
       "  'https://www.amazon.in/ShopyBucket-Standard-Disposable-Pollution-Protection/dp/B0855V7MQ8/',\n",
       "  'https://images-na.ssl-images-amazon.com/images/I/61SPmUgDP9L._SL1100_.jpg'),\n",
       " ('Ivaan Disposable Earloop Medical Face Masks Two Layer Non-Woven Pack 0f 100 pcs',\n",
       "  'IVAAN',\n",
       "  'https://www.amazon.in/Ivaan-Disposable-Earloop-Medical-Non-Woven/dp/B082HDNJCP/',\n",
       "  'https://images-na.ssl-images-amazon.com/images/I/71MXY9ud8OL._SL1500_.jpg')]"
      ]
     },
     "execution_count": 24,
     "metadata": {},
     "output_type": "execute_result"
    }
   ],
   "source": [
    "newdata.map(fun1).take(4)"
   ]
  },
  {
   "cell_type": "markdown",
   "metadata": {
    "id": "6VsMvPC5OCbB"
   },
   "source": [
    "# Function 2"
   ]
  },
  {
   "cell_type": "markdown",
   "metadata": {
    "id": "ZtghIJ81P6t2"
   },
   "source": [
    "To find the max sales price"
   ]
  },
  {
   "cell_type": "code",
   "execution_count": null,
   "metadata": {
    "id": "qabGfdVvNwzN"
   },
   "outputs": [],
   "source": [
    "def fun2(x):\n",
    "  a = x.split(\",\")[-6]\n",
    "  if a == '':\n",
    "    return 0\n",
    "  else:\n",
    "    return float(a)"
   ]
  },
  {
   "cell_type": "code",
   "execution_count": null,
   "metadata": {
    "colab": {
     "base_uri": "https://localhost:8080/"
    },
    "id": "F9AlQHVqOkQp",
    "outputId": "2c613477-7714-4b44-d41d-bb355fb29ca1"
   },
   "outputs": [
    {
     "data": {
      "text/plain": [
       "22050.0"
      ]
     },
     "execution_count": 42,
     "metadata": {},
     "output_type": "execute_result"
    }
   ],
   "source": [
    "newdata.map(fun2).max()"
   ]
  },
  {
   "cell_type": "markdown",
   "metadata": {
    "id": "PGSPIRv8P3JI"
   },
   "source": [
    "# Function 3"
   ]
  },
  {
   "cell_type": "markdown",
   "metadata": {
    "id": "SRTDWlYUQcyB"
   },
   "source": [
    "To find the minimum MRP"
   ]
  },
  {
   "cell_type": "code",
   "execution_count": null,
   "metadata": {
    "id": "pWLmVrmJOqTD"
   },
   "outputs": [],
   "source": [
    "def fun2(x):\n",
    "  a = x.split(\",\")[6]\n",
    "  if a == '':\n",
    "    return \"null\"\n",
    "  else:\n",
    "    return float(a)"
   ]
  },
  {
   "cell_type": "code",
   "execution_count": null,
   "metadata": {
    "colab": {
     "base_uri": "https://localhost:8080/"
    },
    "id": "KQlMqMchQiwW",
    "outputId": "ff7c0845-4017-4838-dada-ed4aee606272"
   },
   "outputs": [
    {
     "data": {
      "text/plain": [
       "45.0"
      ]
     },
     "execution_count": 48,
     "metadata": {},
     "output_type": "execute_result"
    }
   ],
   "source": [
    "newdata.map(fun2).filter(lambda x: x != \"null\").min()"
   ]
  },
  {
   "cell_type": "markdown",
   "metadata": {
    "id": "SIiXNXECRP6_"
   },
   "source": [
    "# Function 4"
   ]
  },
  {
   "cell_type": "code",
   "execution_count": null,
   "metadata": {
    "id": "he-h2iXuQk8o"
   },
   "outputs": [],
   "source": [
    "rdd1, rdd2 = newdata.randomSplit([2, 3], 17)"
   ]
  },
  {
   "cell_type": "code",
   "execution_count": null,
   "metadata": {
    "colab": {
     "base_uri": "https://localhost:8080/"
    },
    "id": "pc0Kjy6DfSOJ",
    "outputId": "e880b0e7-75f2-4c48-ae68-33354bf696ac"
   },
   "outputs": [
    {
     "data": {
      "text/plain": [
       "212"
      ]
     },
     "execution_count": 51,
     "metadata": {},
     "output_type": "execute_result"
    }
   ],
   "source": [
    "rdd1.count()"
   ]
  },
  {
   "cell_type": "code",
   "execution_count": null,
   "metadata": {
    "colab": {
     "base_uri": "https://localhost:8080/"
    },
    "id": "sPvGJHNhfW-v",
    "outputId": "c8839324-c27c-4d66-ea1c-bf1aa8306f7a"
   },
   "outputs": [
    {
     "data": {
      "text/plain": [
       "319"
      ]
     },
     "execution_count": 52,
     "metadata": {},
     "output_type": "execute_result"
    }
   ],
   "source": [
    "rdd2.count()"
   ]
  },
  {
   "cell_type": "markdown",
   "metadata": {
    "id": "HwRCNqsrfb9N"
   },
   "source": [
    "# Function5"
   ]
  },
  {
   "cell_type": "code",
   "execution_count": null,
   "metadata": {
    "id": "t49WKqdyfYo4"
   },
   "outputs": [],
   "source": []
  }
 ],
 "metadata": {
  "colab": {
   "collapsed_sections": [],
   "name": "VQuestion_DS5B-2137.ipynb",
   "provenance": []
  },
  "kernelspec": {
   "display_name": "Python 3 (ipykernel)",
   "language": "python",
   "name": "python3"
  },
  "language_info": {
   "codemirror_mode": {
    "name": "ipython",
    "version": 3
   },
   "file_extension": ".py",
   "mimetype": "text/x-python",
   "name": "python",
   "nbconvert_exporter": "python",
   "pygments_lexer": "ipython3",
   "version": "3.10.3"
  }
 },
 "nbformat": 4,
 "nbformat_minor": 1
}
