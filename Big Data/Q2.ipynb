{
 "cells": [
  {
   "cell_type": "markdown",
   "metadata": {
    "id": "Bg9RPLXyDQQi"
   },
   "source": [
    "# Big Data Examination\n",
    "# Roll No. - DS5B-2121\n",
    "## Question 2"
   ]
  },
  {
   "cell_type": "markdown",
   "metadata": {
    "id": "hNYNgMf5eLmM"
   },
   "source": [
    "Q.II Considering the Item_Outlet_Sales as dependent variable in “Big Mart Sales” dataset, determine the accuracy of the model. Split the dataset according to your last digit of roll no. (Example: if your roll no is ending with 0, the ratio will be 70, 30; if your roll no is ending with 1, the ratio will be 71, 29; if your roll no is ending with 2, the ratio will be 72, 28; if your roll no is ending with 3, the ratio will be 73, 27 etc.)."
   ]
  },
  {
   "cell_type": "markdown",
   "metadata": {
    "id": "L3-Fta-tgYY6"
   },
   "source": [
    "### Importing Pyspark Library"
   ]
  },
  {
   "cell_type": "code",
   "execution_count": null,
   "metadata": {
    "colab": {
     "base_uri": "https://localhost:8080/"
    },
    "id": "YfCBmnSjeqod",
    "outputId": "73f6f3d7-e269-4e10-c746-e6aac33f36cb"
   },
   "outputs": [
    {
     "name": "stdout",
     "output_type": "stream",
     "text": [
      "Looking in indexes: https://pypi.org/simple, https://us-python.pkg.dev/colab-wheels/public/simple/\n",
      "Collecting pyspark\n",
      "  Downloading pyspark-3.2.1.tar.gz (281.4 MB)\n",
      "\u001b[K     |████████████████████████████████| 281.4 MB 32 kB/s \n",
      "\u001b[?25hCollecting py4j==0.10.9.3\n",
      "  Downloading py4j-0.10.9.3-py2.py3-none-any.whl (198 kB)\n",
      "\u001b[K     |████████████████████████████████| 198 kB 69.0 MB/s \n",
      "\u001b[?25hBuilding wheels for collected packages: pyspark\n",
      "  Building wheel for pyspark (setup.py) ... \u001b[?25l\u001b[?25hdone\n",
      "  Created wheel for pyspark: filename=pyspark-3.2.1-py2.py3-none-any.whl size=281853642 sha256=bf2c426d86882346b14a6fc9d4f4fe8f8f6c664e20345f63052db0e57c752d41\n",
      "  Stored in directory: /root/.cache/pip/wheels/9f/f5/07/7cd8017084dce4e93e84e92efd1e1d5334db05f2e83bcef74f\n",
      "Successfully built pyspark\n",
      "Installing collected packages: py4j, pyspark\n",
      "Successfully installed py4j-0.10.9.3 pyspark-3.2.1\n"
     ]
    }
   ],
   "source": [
    "pip install pyspark"
   ]
  },
  {
   "cell_type": "markdown",
   "metadata": {
    "id": "yR7EvykviV6Y"
   },
   "source": [
    "## Import Library and Creating Session"
   ]
  },
  {
   "cell_type": "code",
   "execution_count": null,
   "metadata": {
    "id": "f9ny23z6m4af"
   },
   "outputs": [],
   "source": [
    "from pyspark.sql import SparkSession"
   ]
  },
  {
   "cell_type": "code",
   "execution_count": null,
   "metadata": {
    "id": "1ZRE8ENCiViN"
   },
   "outputs": [],
   "source": [
    "session = SparkSession.builder.appName(\"Big_Mart_Sales_Dataset\").master(\"local\").getOrCreate()\n",
    "#we reassign value of __name__ (inbuilt variable) to \"__main__\" and main is used as entry point in many languages like C++ and Java,\n",
    "# else the value of name might be different"
   ]
  },
  {
   "cell_type": "markdown",
   "metadata": {
    "id": "9DRI5idoN4pj"
   },
   "source": [
    "## Reading the Data From CSV"
   ]
  },
  {
   "cell_type": "code",
   "execution_count": null,
   "metadata": {
    "id": "-90mYa1RnuGW"
   },
   "outputs": [],
   "source": [
    "data = session.read.csv(\"Big Mart Sale.csv\", header = True, inferSchema=True)"
   ]
  },
  {
   "cell_type": "markdown",
   "metadata": {
    "id": "jMYv_3Mp6oTK"
   },
   "source": [
    "To print top 10 raw in dataset"
   ]
  },
  {
   "cell_type": "code",
   "execution_count": null,
   "metadata": {
    "colab": {
     "base_uri": "https://localhost:8080/"
    },
    "id": "8-lEP4w_n6SN",
    "outputId": "61d784a5-f197-4fec-c8f3-20c4f4258caf"
   },
   "outputs": [
    {
     "name": "stdout",
     "output_type": "stream",
     "text": [
      "+---------------+-----------+----------------+---------------+--------------------+--------+-----------------+-------------------------+-----------+--------------------+-----------------+-----------------+\n",
      "|Item_Identifier|Item_Weight|Item_Fat_Content|Item_Visibility|           Item_Type|Item_MRP|Outlet_Identifier|Outlet_Establishment_Year|Outlet_Size|Outlet_Location_Type|      Outlet_Type|Item_Outlet_Sales|\n",
      "+---------------+-----------+----------------+---------------+--------------------+--------+-----------------+-------------------------+-----------+--------------------+-----------------+-----------------+\n",
      "|          FDA15|        9.3|         Low Fat|    0.016047301|               Dairy|249.8092|           OUT049|                     1999|     Medium|              Tier 1|Supermarket Type1|         3735.138|\n",
      "|          DRC01|       5.92|         Regular|    0.019278216|         Soft Drinks| 48.2692|           OUT018|                     2009|     Medium|              Tier 3|Supermarket Type2|         443.4228|\n",
      "|          FDN15|       17.5|         Low Fat|    0.016760075|                Meat| 141.618|           OUT049|                     1999|     Medium|              Tier 1|Supermarket Type1|          2097.27|\n",
      "|          FDX07|       19.2|         Regular|            0.0|Fruits and Vegeta...| 182.095|           OUT010|                     1998|       null|              Tier 3|    Grocery Store|           732.38|\n",
      "|          NCD19|       8.93|         Low Fat|            0.0|           Household| 53.8614|           OUT013|                     1987|       High|              Tier 3|Supermarket Type1|         994.7052|\n",
      "|          FDP36|     10.395|         Regular|            0.0|        Baking Goods| 51.4008|           OUT018|                     2009|     Medium|              Tier 3|Supermarket Type2|         556.6088|\n",
      "|          FDO10|      13.65|         Regular|    0.012741089|         Snack Foods| 57.6588|           OUT013|                     1987|       High|              Tier 3|Supermarket Type1|         343.5528|\n",
      "|          FDP10|       null|         Low Fat|    0.127469857|         Snack Foods|107.7622|           OUT027|                     1985|     Medium|              Tier 3|Supermarket Type3|        4022.7636|\n",
      "|          FDH17|       16.2|         Regular|    0.016687114|        Frozen Foods| 96.9726|           OUT045|                     2002|       null|              Tier 2|Supermarket Type1|        1076.5986|\n",
      "|          FDU28|       19.2|         Regular|     0.09444959|        Frozen Foods|187.8214|           OUT017|                     2007|       null|              Tier 2|Supermarket Type1|         4710.535|\n",
      "+---------------+-----------+----------------+---------------+--------------------+--------+-----------------+-------------------------+-----------+--------------------+-----------------+-----------------+\n",
      "only showing top 10 rows\n",
      "\n"
     ]
    }
   ],
   "source": [
    "data.show(10)"
   ]
  },
  {
   "cell_type": "markdown",
   "metadata": {
    "id": "cowJbn4e7gqY"
   },
   "source": [
    "## Check Null Values in columns"
   ]
  },
  {
   "cell_type": "code",
   "execution_count": null,
   "metadata": {
    "id": "Ij-JqIeJ7YAf"
   },
   "outputs": [],
   "source": [
    "from pyspark.sql.functions import isnan, when, count, col"
   ]
  },
  {
   "cell_type": "code",
   "execution_count": null,
   "metadata": {
    "colab": {
     "base_uri": "https://localhost:8080/"
    },
    "id": "uO1Eu7Hi6reg",
    "outputId": "5ae24cbd-6529-48cb-affd-16728f2520d3"
   },
   "outputs": [
    {
     "name": "stdout",
     "output_type": "stream",
     "text": [
      "+---------------+-----------+----------------+---------------+---------+--------+-----------------+-------------------------+-----------+--------------------+-----------+-----------------+\n",
      "|Item_Identifier|Item_Weight|Item_Fat_Content|Item_Visibility|Item_Type|Item_MRP|Outlet_Identifier|Outlet_Establishment_Year|Outlet_Size|Outlet_Location_Type|Outlet_Type|Item_Outlet_Sales|\n",
      "+---------------+-----------+----------------+---------------+---------+--------+-----------------+-------------------------+-----------+--------------------+-----------+-----------------+\n",
      "|              0|       1463|               0|              0|        0|       0|                0|                        0|       2410|                   0|          0|                0|\n",
      "+---------------+-----------+----------------+---------------+---------+--------+-----------------+-------------------------+-----------+--------------------+-----------+-----------------+\n",
      "\n"
     ]
    }
   ],
   "source": [
    "data.select([count(when(isnan(c) | col(c).isNull(), c)).alias(c) for c in data.columns]).show()"
   ]
  },
  {
   "cell_type": "markdown",
   "metadata": {
    "id": "KyqHOrxGOHQz"
   },
   "source": [
    "## Importing sql functions"
   ]
  },
  {
   "cell_type": "code",
   "execution_count": null,
   "metadata": {
    "id": "BzI9DVIn_lxY"
   },
   "outputs": [],
   "source": [
    "import pyspark.sql.functions as func "
   ]
  },
  {
   "cell_type": "code",
   "execution_count": null,
   "metadata": {
    "colab": {
     "base_uri": "https://localhost:8080/"
    },
    "id": "zCWFDGkc_myM",
    "outputId": "da665080-4e7c-4006-f779-69beba66bd31"
   },
   "outputs": [
    {
     "name": "stdout",
     "output_type": "stream",
     "text": [
      "+----+\n",
      "|mean|\n",
      "+----+\n",
      "|12.6|\n",
      "+----+\n",
      "\n"
     ]
    }
   ],
   "source": [
    "data.agg(func.percentile_approx(\"Item_Weight\", 0.5).alias(\"mean\")).show()"
   ]
  },
  {
   "cell_type": "markdown",
   "metadata": {
    "id": "Jm34lIak7luB"
   },
   "source": [
    "## Fill Null Values "
   ]
  },
  {
   "cell_type": "markdown",
   "metadata": {
    "id": "58whoQnDAUaU"
   },
   "source": []
  },
  {
   "cell_type": "code",
   "execution_count": null,
   "metadata": {
    "id": "_tdzQJ81AUH3"
   },
   "outputs": [],
   "source": [
    "# replace 12.6 in place of Null values in Item_weight column because it is mean in this column\n",
    "data = data.na.fill(value=12.6,subset=[\"Item_Weight\"])"
   ]
  },
  {
   "cell_type": "code",
   "execution_count": null,
   "metadata": {
    "id": "fA13FInX7k8G"
   },
   "outputs": [],
   "source": [
    "# return Medium in place of Null values in Outlet_Size Column Because Medium is the median in Outlet_Size Column\n",
    "data = data.na.fill(value=\"Medium\",subset=[\"Outlet_Size\"])"
   ]
  },
  {
   "cell_type": "code",
   "execution_count": null,
   "metadata": {
    "colab": {
     "base_uri": "https://localhost:8080/"
    },
    "id": "4SlFLrZBAw6U",
    "outputId": "54238b12-b8b9-4d3d-a52e-72fe664f2583"
   },
   "outputs": [
    {
     "name": "stdout",
     "output_type": "stream",
     "text": [
      "+---------------+-----------+----------------+---------------+--------------------+--------+-----------------+-------------------------+-----------+--------------------+-----------------+-----------------+\n",
      "|Item_Identifier|Item_Weight|Item_Fat_Content|Item_Visibility|           Item_Type|Item_MRP|Outlet_Identifier|Outlet_Establishment_Year|Outlet_Size|Outlet_Location_Type|      Outlet_Type|Item_Outlet_Sales|\n",
      "+---------------+-----------+----------------+---------------+--------------------+--------+-----------------+-------------------------+-----------+--------------------+-----------------+-----------------+\n",
      "|          FDA15|        9.3|         Low Fat|    0.016047301|               Dairy|249.8092|           OUT049|                     1999|     Medium|              Tier 1|Supermarket Type1|         3735.138|\n",
      "|          DRC01|       5.92|         Regular|    0.019278216|         Soft Drinks| 48.2692|           OUT018|                     2009|     Medium|              Tier 3|Supermarket Type2|         443.4228|\n",
      "|          FDN15|       17.5|         Low Fat|    0.016760075|                Meat| 141.618|           OUT049|                     1999|     Medium|              Tier 1|Supermarket Type1|          2097.27|\n",
      "|          FDX07|       19.2|         Regular|            0.0|Fruits and Vegeta...| 182.095|           OUT010|                     1998|     Medium|              Tier 3|    Grocery Store|           732.38|\n",
      "|          NCD19|       8.93|         Low Fat|            0.0|           Household| 53.8614|           OUT013|                     1987|       High|              Tier 3|Supermarket Type1|         994.7052|\n",
      "|          FDP36|     10.395|         Regular|            0.0|        Baking Goods| 51.4008|           OUT018|                     2009|     Medium|              Tier 3|Supermarket Type2|         556.6088|\n",
      "|          FDO10|      13.65|         Regular|    0.012741089|         Snack Foods| 57.6588|           OUT013|                     1987|       High|              Tier 3|Supermarket Type1|         343.5528|\n",
      "|          FDP10|       12.6|         Low Fat|    0.127469857|         Snack Foods|107.7622|           OUT027|                     1985|     Medium|              Tier 3|Supermarket Type3|        4022.7636|\n",
      "|          FDH17|       16.2|         Regular|    0.016687114|        Frozen Foods| 96.9726|           OUT045|                     2002|     Medium|              Tier 2|Supermarket Type1|        1076.5986|\n",
      "|          FDU28|       19.2|         Regular|     0.09444959|        Frozen Foods|187.8214|           OUT017|                     2007|     Medium|              Tier 2|Supermarket Type1|         4710.535|\n",
      "|          FDY07|       11.8|         Low Fat|            0.0|Fruits and Vegeta...| 45.5402|           OUT049|                     1999|     Medium|              Tier 1|Supermarket Type1|        1516.0266|\n",
      "|          FDA03|       18.5|         Regular|    0.045463773|               Dairy|144.1102|           OUT046|                     1997|      Small|              Tier 1|Supermarket Type1|         2187.153|\n",
      "|          FDX32|       15.1|         Regular|      0.1000135|Fruits and Vegeta...|145.4786|           OUT049|                     1999|     Medium|              Tier 1|Supermarket Type1|        1589.2646|\n",
      "|          FDS46|       17.6|         Regular|    0.047257328|         Snack Foods|119.6782|           OUT046|                     1997|      Small|              Tier 1|Supermarket Type1|        2145.2076|\n",
      "|          FDF32|      16.35|         Low Fat|      0.0680243|Fruits and Vegeta...|196.4426|           OUT013|                     1987|       High|              Tier 3|Supermarket Type1|         1977.426|\n",
      "|          FDP49|        9.0|         Regular|    0.069088961|           Breakfast| 56.3614|           OUT046|                     1997|      Small|              Tier 1|Supermarket Type1|        1547.3192|\n",
      "|          NCB42|       11.8|         Low Fat|    0.008596051|  Health and Hygiene|115.3492|           OUT018|                     2009|     Medium|              Tier 3|Supermarket Type2|        1621.8888|\n",
      "|          FDP49|        9.0|         Regular|    0.069196376|           Breakfast| 54.3614|           OUT049|                     1999|     Medium|              Tier 1|Supermarket Type1|         718.3982|\n",
      "|          DRI11|       12.6|         Low Fat|    0.034237682|         Hard Drinks|113.2834|           OUT027|                     1985|     Medium|              Tier 3|Supermarket Type3|         2303.668|\n",
      "|          FDU02|      13.35|         Low Fat|     0.10249212|               Dairy|230.5352|           OUT035|                     2004|      Small|              Tier 2|Supermarket Type1|        2748.4224|\n",
      "+---------------+-----------+----------------+---------------+--------------------+--------+-----------------+-------------------------+-----------+--------------------+-----------------+-----------------+\n",
      "only showing top 20 rows\n",
      "\n"
     ]
    }
   ],
   "source": [
    "data.show()"
   ]
  },
  {
   "cell_type": "markdown",
   "metadata": {
    "id": "pI21I1m0BIMy"
   },
   "source": [
    "## Exploration Of Dataset"
   ]
  },
  {
   "cell_type": "markdown",
   "metadata": {
    "id": "_TzI_Cdz63uH"
   },
   "source": [
    "To print all columns name"
   ]
  },
  {
   "cell_type": "code",
   "execution_count": null,
   "metadata": {
    "colab": {
     "base_uri": "https://localhost:8080/"
    },
    "id": "TTEOvtCsn76Y",
    "outputId": "c7d87c19-5644-4c9b-996f-0d042ca773ab"
   },
   "outputs": [
    {
     "data": {
      "text/plain": [
       "['Item_Identifier',\n",
       " 'Item_Weight',\n",
       " 'Item_Fat_Content',\n",
       " 'Item_Visibility',\n",
       " 'Item_Type',\n",
       " 'Item_MRP',\n",
       " 'Outlet_Identifier',\n",
       " 'Outlet_Establishment_Year',\n",
       " 'Outlet_Size',\n",
       " 'Outlet_Location_Type',\n",
       " 'Outlet_Type',\n",
       " 'Item_Outlet_Sales']"
      ]
     },
     "execution_count": 15,
     "metadata": {},
     "output_type": "execute_result"
    }
   ],
   "source": [
    "data.columns"
   ]
  },
  {
   "cell_type": "markdown",
   "metadata": {
    "id": "pNGfiOqZ660N"
   },
   "source": [
    "To count total numbers of raws in dataset"
   ]
  },
  {
   "cell_type": "code",
   "execution_count": null,
   "metadata": {
    "colab": {
     "base_uri": "https://localhost:8080/"
    },
    "id": "Omlt4aM8pBhl",
    "outputId": "1c78d820-a7c9-44c5-ba16-1302d8c2e461"
   },
   "outputs": [
    {
     "data": {
      "text/plain": [
       "8523"
      ]
     },
     "execution_count": 16,
     "metadata": {},
     "output_type": "execute_result"
    }
   ],
   "source": [
    "data.count()"
   ]
  },
  {
   "cell_type": "code",
   "execution_count": null,
   "metadata": {
    "colab": {
     "base_uri": "https://localhost:8080/"
    },
    "id": "afDS_hI_pIv5",
    "outputId": "9c3f1ec2-0c86-4f98-cc29-569e358f6fc3"
   },
   "outputs": [
    {
     "name": "stdout",
     "output_type": "stream",
     "text": [
      "root\n",
      " |-- Item_Identifier: string (nullable = true)\n",
      " |-- Item_Weight: double (nullable = false)\n",
      " |-- Item_Fat_Content: string (nullable = true)\n",
      " |-- Item_Visibility: double (nullable = true)\n",
      " |-- Item_Type: string (nullable = true)\n",
      " |-- Item_MRP: double (nullable = true)\n",
      " |-- Outlet_Identifier: string (nullable = true)\n",
      " |-- Outlet_Establishment_Year: integer (nullable = true)\n",
      " |-- Outlet_Size: string (nullable = false)\n",
      " |-- Outlet_Location_Type: string (nullable = true)\n",
      " |-- Outlet_Type: string (nullable = true)\n",
      " |-- Item_Outlet_Sales: double (nullable = true)\n",
      "\n"
     ]
    }
   ],
   "source": [
    "data.printSchema()"
   ]
  },
  {
   "cell_type": "markdown",
   "metadata": {
    "id": "s9EP9-0o7GfI"
   },
   "source": [
    "To know data type of each columns"
   ]
  },
  {
   "cell_type": "code",
   "execution_count": null,
   "metadata": {
    "colab": {
     "base_uri": "https://localhost:8080/"
    },
    "id": "WdGL_XbVpWcK",
    "outputId": "6618c945-25d9-455b-cb29-c67f02d56170"
   },
   "outputs": [
    {
     "data": {
      "text/plain": [
       "[('Item_Identifier', 'string'),\n",
       " ('Item_Weight', 'double'),\n",
       " ('Item_Fat_Content', 'string'),\n",
       " ('Item_Visibility', 'double'),\n",
       " ('Item_Type', 'string'),\n",
       " ('Item_MRP', 'double'),\n",
       " ('Outlet_Identifier', 'string'),\n",
       " ('Outlet_Establishment_Year', 'int'),\n",
       " ('Outlet_Size', 'string'),\n",
       " ('Outlet_Location_Type', 'string'),\n",
       " ('Outlet_Type', 'string'),\n",
       " ('Item_Outlet_Sales', 'double')]"
      ]
     },
     "execution_count": 19,
     "metadata": {},
     "output_type": "execute_result"
    }
   ],
   "source": [
    "data.dtypes"
   ]
  },
  {
   "cell_type": "markdown",
   "metadata": {
    "id": "vG6L0agw7KrH"
   },
   "source": [
    "## Data Preprocessing\n",
    "Here we convert the data into machine readable form"
   ]
  },
  {
   "cell_type": "code",
   "execution_count": null,
   "metadata": {
    "id": "ny6aT4Nlp858"
   },
   "outputs": [],
   "source": [
    "from pyspark.ml.feature import VectorAssembler, StringIndexer, OneHotEncoder\n",
    "# It is use for mapping a string columm to a index column that will be treated as a categorical column by spark.\n",
    "# It is feature transformer that combine multiple columns into a single vector column.\n",
    "# Pyspark ml models takes only one independent variable and one dependent varibale\n",
    "#but, we have multiple independent variabales, so we use vector assembler to convert them into a single list\n",
    "# of independent variables"
   ]
  },
  {
   "cell_type": "code",
   "execution_count": null,
   "metadata": {
    "id": "k90WAYtlqDky"
   },
   "outputs": [],
   "source": [
    "# Doing String Indexing\n",
    "str_index = StringIndexer(inputCols = ['Item_Identifier','Item_Fat_Content','Item_Type','Outlet_Identifier','Outlet_Establishment_Year','Outlet_Size','Outlet_Location_Type','Outlet_Type'], outputCols = ['Item_Identifier1','Item_Fat_Content1','Item_Type1','Outlet_Identifier1','Outlet_Establishment_Year1','Outlet_Size1','Outlet_Location_Type1','Outlet_Type1'], handleInvalid = \"skip\", stringOrderType= \"frequencyDesc\")"
   ]
  },
  {
   "cell_type": "code",
   "execution_count": null,
   "metadata": {
    "id": "ZU22WMRIqGW1"
   },
   "outputs": [],
   "source": [
    "# One Hot Encoding\n",
    "one_hot = OneHotEncoder(inputCols =['Item_Identifier1','Item_Fat_Content1','Item_Type1','Outlet_Identifier1','Outlet_Establishment_Year1','Outlet_Size1','Outlet_Location_Type1','Outlet_Type1'],  outputCols=['Item_Identifier2','Item_Fat_Content2','Item_Type2','Outlet_Identifier2','Outlet_Establishment_Year2','Outlet_Size2','Outlet_Location_Type2','Outlet_Type2'] )"
   ]
  },
  {
   "cell_type": "code",
   "execution_count": null,
   "metadata": {
    "id": "pI0QxGBvqIln"
   },
   "outputs": [],
   "source": [
    "# APply Vector Assembler\n",
    "vector_ass = VectorAssembler(inputCols = ['Item_Weight','Item_Fat_Content2','Item_Visibility','Item_Type2','Item_MRP','Outlet_Size2','Outlet_Location_Type2','Outlet_Type2'], outputCol = \"allfeatures\")"
   ]
  },
  {
   "cell_type": "markdown",
   "metadata": {
    "id": "xfFSKOI27f0A"
   },
   "source": [
    "## Import Linear Regression and Create Model"
   ]
  },
  {
   "cell_type": "code",
   "execution_count": null,
   "metadata": {
    "id": "g9NewnuXqLVl"
   },
   "outputs": [],
   "source": [
    "from pyspark.ml.regression import LinearRegression"
   ]
  },
  {
   "cell_type": "code",
   "execution_count": null,
   "metadata": {
    "id": "4vrsx1swqZ74"
   },
   "outputs": [],
   "source": [
    "linear = LinearRegression(featuresCol=\"allfeatures\", labelCol=\"Item_Outlet_Sales\")"
   ]
  },
  {
   "cell_type": "markdown",
   "metadata": {
    "id": "pV3ZCFptqgK6"
   },
   "source": [
    "# Create Pipeline for ML Model\n",
    "\n",
    "\n"
   ]
  },
  {
   "cell_type": "code",
   "execution_count": null,
   "metadata": {
    "id": "B7SB8rxsqmWH"
   },
   "outputs": [],
   "source": [
    "from pyspark.ml import Pipeline\n",
    "mypipeline = Pipeline(stages = [str_index, one_hot, vector_ass, linear])"
   ]
  },
  {
   "cell_type": "markdown",
   "metadata": {
    "id": "46tDUnEVqxNq"
   },
   "source": [
    "# Making Train Test Split"
   ]
  },
  {
   "cell_type": "markdown",
   "metadata": {
    "id": "RcBWtpVrPOJJ"
   },
   "source": [
    "## Splitting the Dataset\n",
    "# As my roll no is DS5B-2121 I will be using split as 0.71 and 0.29"
   ]
  },
  {
   "cell_type": "code",
   "execution_count": null,
   "metadata": {
    "id": "93iUsVZhq6My"
   },
   "outputs": [],
   "source": [
    "training, test = data.randomSplit([0.71, 0.29])"
   ]
  },
  {
   "cell_type": "markdown",
   "metadata": {
    "id": "Og4jkhDvrD3I"
   },
   "source": [
    "## Model Training"
   ]
  },
  {
   "cell_type": "code",
   "execution_count": null,
   "metadata": {
    "id": "n0uOaoqFrGJl"
   },
   "outputs": [],
   "source": [
    "lin_reg_model = mypipeline.fit(training)"
   ]
  },
  {
   "cell_type": "markdown",
   "metadata": {
    "id": "Y8VANWherVi0"
   },
   "source": [
    "## Test Model"
   ]
  },
  {
   "cell_type": "code",
   "execution_count": null,
   "metadata": {
    "id": "Q9wiIzj1rYaU"
   },
   "outputs": [],
   "source": [
    "result = lin_reg_model.transform(test)"
   ]
  },
  {
   "cell_type": "code",
   "execution_count": null,
   "metadata": {
    "colab": {
     "base_uri": "https://localhost:8080/"
    },
    "id": "-Fneoplsrbvr",
    "outputId": "02bda0ea-32c4-44d3-d29a-1a3197e92ad3"
   },
   "outputs": [
    {
     "name": "stdout",
     "output_type": "stream",
     "text": [
      "+---------------+-----------+----------------+---------------+-----------+--------+-----------------+-------------------------+-----------+--------------------+-----------------+-----------------+----------------+-----------------+----------+------------------+--------------------------+------------+---------------------+------------+-------------------+-----------------+--------------+------------------+--------------------------+-------------+---------------------+-------------+--------------------+------------------+\n",
      "|Item_Identifier|Item_Weight|Item_Fat_Content|Item_Visibility|  Item_Type|Item_MRP|Outlet_Identifier|Outlet_Establishment_Year|Outlet_Size|Outlet_Location_Type|      Outlet_Type|Item_Outlet_Sales|Item_Identifier1|Item_Fat_Content1|Item_Type1|Outlet_Identifier1|Outlet_Establishment_Year1|Outlet_Size1|Outlet_Location_Type1|Outlet_Type1|   Item_Identifier2|Item_Fat_Content2|    Item_Type2|Outlet_Identifier2|Outlet_Establishment_Year2| Outlet_Size2|Outlet_Location_Type2| Outlet_Type2|         allfeatures|        prediction|\n",
      "+---------------+-----------+----------------+---------------+-----------+--------+-----------------+-------------------------+-----------+--------------------+-----------------+-----------------+----------------+-----------------+----------+------------------+--------------------------+------------+---------------------+------------+-------------------+-----------------+--------------+------------------+--------------------------+-------------+---------------------+-------------+--------------------+------------------+\n",
      "|          DRA12|       11.6|         Low Fat|            0.0|Soft Drinks|141.6154|           OUT045|                     2002|     Medium|              Tier 2|Supermarket Type1|        3829.0158|           521.0|              0.0|       8.0|               1.0|                       2.0|         0.0|                  1.0|         0.0| (1543,[521],[1.0])|    (4,[0],[1.0])|(15,[8],[1.0])|     (9,[1],[1.0])|             (8,[2],[1.0])|(2,[0],[1.0])|        (2,[1],[1.0])|(3,[0],[1.0])|(29,[0,1,14,21,22...|2225.0090020780335|\n",
      "|          DRA12|       11.6|         Low Fat|    0.040911824|Soft Drinks|142.3154|           OUT013|                     1987|       High|              Tier 3|Supermarket Type1|        2552.6772|           521.0|              0.0|       8.0|               6.0|                       6.0|         2.0|                  0.0|         0.0| (1543,[521],[1.0])|    (4,[0],[1.0])|(15,[8],[1.0])|     (9,[6],[1.0])|             (8,[6],[1.0])|    (2,[],[])|        (2,[0],[1.0])|(3,[0],[1.0])|(29,[0,1,5,14,21,...| 2224.685214756014|\n",
      "|          DRA24|      19.35|         Regular|    0.039895009|Soft Drinks|162.4868|           OUT013|                     1987|       High|              Tier 3|Supermarket Type1|        4422.2436|            77.0|              1.0|       8.0|               6.0|                       6.0|         2.0|                  0.0|         0.0|  (1543,[77],[1.0])|    (4,[1],[1.0])|(15,[8],[1.0])|     (9,[6],[1.0])|             (8,[6],[1.0])|    (2,[],[])|        (2,[0],[1.0])|(3,[0],[1.0])|(29,[0,2,5,14,21,...| 2597.340924578537|\n",
      "|          DRA59|       8.27|         Regular|    0.127927931|Soft Drinks|184.8924|           OUT046|                     1997|      Small|              Tier 1|Supermarket Type1|        4442.2176|            78.0|              1.0|       8.0|               2.0|                       3.0|         1.0|                  2.0|         0.0|  (1543,[78],[1.0])|    (4,[1],[1.0])|(15,[8],[1.0])|     (9,[2],[1.0])|             (8,[3],[1.0])|(2,[1],[1.0])|            (2,[],[])|(3,[0],[1.0])|(29,[0,2,5,14,21,...|2982.1821632476695|\n",
      "|          DRA59|       12.6|         Regular|    0.127308434|Soft Drinks|186.6924|           OUT027|                     1985|     Medium|              Tier 3|Supermarket Type3|        7033.5112|            78.0|              1.0|       8.0|               4.0|                       0.0|         0.0|                  0.0|         3.0|  (1543,[78],[1.0])|    (4,[1],[1.0])|(15,[8],[1.0])|     (9,[4],[1.0])|             (8,[0],[1.0])|(2,[0],[1.0])|        (2,[0],[1.0])|    (3,[],[])|(29,[0,2,5,14,21,...| 4331.305955126552|\n",
      "|          DRB01|       7.39|         Low Fat|    0.082170947|Soft Drinks| 190.953|           OUT013|                     1987|       High|              Tier 3|Supermarket Type1|         2466.789|          1271.0|              0.0|       8.0|               6.0|                       6.0|         2.0|                  0.0|         0.0|(1543,[1271],[1.0])|    (4,[0],[1.0])|(15,[8],[1.0])|     (9,[6],[1.0])|             (8,[6],[1.0])|    (2,[],[])|        (2,[0],[1.0])|(3,[0],[1.0])|(29,[0,1,5,14,21,...|2966.2617325300225|\n",
      "|          DRB13|      6.115|         Regular|    0.007055292|Soft Drinks| 188.653|           OUT049|                     1999|     Medium|              Tier 1|Supermarket Type1|         3605.307|           522.0|              1.0|       8.0|               5.0|                       5.0|         0.0|                  2.0|         0.0| (1543,[522],[1.0])|    (4,[1],[1.0])|(15,[8],[1.0])|     (9,[5],[1.0])|             (8,[5],[1.0])|(2,[0],[1.0])|            (2,[],[])|(3,[0],[1.0])|(29,[0,2,5,14,21,...| 2973.506639206491|\n",
      "|          DRB24|      8.785|         Low Fat|    0.020609218|Soft Drinks|155.1656|           OUT049|                     1999|     Medium|              Tier 1|Supermarket Type1|        4016.1056|           906.0|              0.0|       8.0|               5.0|                       5.0|         0.0|                  2.0|         0.0| (1543,[906],[1.0])|    (4,[0],[1.0])|(15,[8],[1.0])|     (9,[5],[1.0])|             (8,[5],[1.0])|(2,[0],[1.0])|            (2,[],[])|(3,[0],[1.0])|(29,[0,1,5,14,21,...|2420.7896947929494|\n",
      "|          DRB25|       12.6|         Low Fat|     0.06912336|Soft Drinks|106.0938|           OUT027|                     1985|     Medium|              Tier 3|Supermarket Type3|        2787.0388|           247.0|              0.0|       8.0|               4.0|                       0.0|         0.0|                  0.0|         3.0| (1543,[247],[1.0])|    (4,[0],[1.0])|(15,[8],[1.0])|     (9,[4],[1.0])|             (8,[0],[1.0])|(2,[0],[1.0])|        (2,[0],[1.0])|    (3,[],[])|(29,[0,1,5,14,21,...|3046.1042772127885|\n",
      "|          DRB48|       12.6|         Regular|    0.024733134|Soft Drinks| 40.2822|           OUT027|                     1985|     Medium|              Tier 3|Supermarket Type3|        1296.3126|           248.0|              1.0|       8.0|               4.0|                       0.0|         0.0|                  0.0|         3.0| (1543,[248],[1.0])|    (4,[1],[1.0])|(15,[8],[1.0])|     (9,[4],[1.0])|             (8,[0],[1.0])|(2,[0],[1.0])|        (2,[0],[1.0])|    (3,[],[])|(29,[0,2,5,14,21,...| 2058.027429105631|\n",
      "|          DRB48|      16.75|         Regular|    0.024832806|Soft Drinks| 38.7822|           OUT013|                     1987|       High|              Tier 3|Supermarket Type1|         667.7974|           248.0|              1.0|       8.0|               6.0|                       6.0|         2.0|                  0.0|         0.0| (1543,[248],[1.0])|    (4,[1],[1.0])|(15,[8],[1.0])|     (9,[6],[1.0])|             (8,[6],[1.0])|    (2,[],[])|        (2,[0],[1.0])|(3,[0],[1.0])|(29,[0,2,5,14,21,...| 656.3620458837856|\n",
      "|          DRC01|       5.92|         Regular|    0.019184026|Soft Drinks| 50.3692|           OUT013|                     1987|       High|              Tier 3|Supermarket Type1|         591.2304|           907.0|              1.0|       8.0|               6.0|                       6.0|         2.0|                  0.0|         0.0| (1543,[907],[1.0])|    (4,[1],[1.0])|(15,[8],[1.0])|     (9,[6],[1.0])|             (8,[6],[1.0])|    (2,[],[])|        (2,[0],[1.0])|(3,[0],[1.0])|(29,[0,2,5,14,21,...| 806.9476679936189|\n",
      "|          DRC01|       5.92|         Regular|    0.019238942|Soft Drinks| 49.8692|           OUT045|                     2002|     Medium|              Tier 2|Supermarket Type1|        1133.1916|           907.0|              1.0|       8.0|               1.0|                       2.0|         0.0|                  1.0|         0.0| (1543,[907],[1.0])|    (4,[1],[1.0])|(15,[8],[1.0])|     (9,[1],[1.0])|             (8,[2],[1.0])|(2,[0],[1.0])|        (2,[1],[1.0])|(3,[0],[1.0])|(29,[0,2,5,14,21,...| 803.1797886168849|\n",
      "|          DRC01|       5.92|         Regular|    0.019308607|Soft Drinks| 49.0692|           OUT017|                     2007|     Medium|              Tier 2|Supermarket Type1|         1478.076|           907.0|              1.0|       8.0|               7.0|                       7.0|         0.0|                  1.0|         0.0| (1543,[907],[1.0])|    (4,[1],[1.0])|(15,[8],[1.0])|     (9,[7],[1.0])|             (8,[7],[1.0])|(2,[0],[1.0])|        (2,[1],[1.0])|(3,[0],[1.0])|(29,[0,2,5,14,21,...| 790.6472831235122|\n",
      "|          DRC12|      17.85|         Low Fat|    0.037826873|Soft Drinks|189.7188|           OUT046|                     1997|      Small|              Tier 1|Supermarket Type1|        2285.0256|           908.0|              0.0|       8.0|               2.0|                       3.0|         1.0|                  2.0|         0.0| (1543,[908],[1.0])|    (4,[0],[1.0])|(15,[8],[1.0])|     (9,[2],[1.0])|             (8,[3],[1.0])|(2,[1],[1.0])|            (2,[],[])|(3,[0],[1.0])|(29,[0,1,5,14,21,...|3067.6173482995546|\n",
      "|          DRC25|       5.73|         Low Fat|    0.045334098|Soft Drinks| 87.0882|           OUT013|                     1987|       High|              Tier 3|Supermarket Type1|        1803.6522|            79.0|              0.0|       8.0|               6.0|                       6.0|         2.0|                  0.0|         0.0|  (1543,[79],[1.0])|    (4,[0],[1.0])|(15,[8],[1.0])|     (9,[6],[1.0])|             (8,[6],[1.0])|    (2,[],[])|        (2,[0],[1.0])|(3,[0],[1.0])|(29,[0,1,5,14,21,...|1342.3755568793158|\n",
      "|          DRC27|       13.8|         Low Fat|    0.058091482|      Dairy|245.1802|           OUT035|                     2004|      Small|              Tier 2|Supermarket Type1|        5650.6446|          1272.0|              0.0|       4.0|               3.0|                       4.0|         1.0|                  1.0|         0.0|(1543,[1272],[1.0])|    (4,[0],[1.0])|(15,[4],[1.0])|     (9,[3],[1.0])|             (8,[4],[1.0])|(2,[1],[1.0])|        (2,[1],[1.0])|(3,[0],[1.0])|(29,[0,1,5,10,21,...|3999.3506683213764|\n",
      "|          DRC27|       13.8|         Low Fat|    0.058192802|      Dairy|246.9802|           OUT049|                     1999|     Medium|              Tier 1|Supermarket Type1|        5896.3248|          1272.0|              0.0|       4.0|               5.0|                       5.0|         0.0|                  2.0|         0.0|(1543,[1272],[1.0])|    (4,[0],[1.0])|(15,[4],[1.0])|     (9,[5],[1.0])|             (8,[5],[1.0])|(2,[0],[1.0])|            (2,[],[])|(3,[0],[1.0])|(29,[0,1,5,10,21,...|3940.5852931316194|\n",
      "|          DRC27|       13.8|         Low Fat|    0.058339153|      Dairy|246.2802|           OUT018|                     2009|     Medium|              Tier 3|Supermarket Type2|         1228.401|          1272.0|              0.0|       4.0|               0.0|                       1.0|         0.0|                  0.0|         2.0|(1543,[1272],[1.0])|    (4,[0],[1.0])|(15,[4],[1.0])|     (9,[0],[1.0])|             (8,[1],[1.0])|(2,[0],[1.0])|        (2,[0],[1.0])|(3,[2],[1.0])|(29,[0,1,5,10,21,...|  3612.24217303598|\n",
      "|          DRC27|       13.8|         Low Fat|    0.097251621|      Dairy|245.7802|           OUT010|                     1998|     Medium|              Tier 3|    Grocery Store|         245.6802|          1272.0|              0.0|       4.0|               8.0|                       8.0|         0.0|                  0.0|         1.0|(1543,[1272],[1.0])|    (4,[0],[1.0])|(15,[4],[1.0])|     (9,[8],[1.0])|                 (8,[],[])|(2,[0],[1.0])|        (2,[0],[1.0])|(3,[1],[1.0])|(29,[0,1,5,10,21,...|1972.0395500213303|\n",
      "+---------------+-----------+----------------+---------------+-----------+--------+-----------------+-------------------------+-----------+--------------------+-----------------+-----------------+----------------+-----------------+----------+------------------+--------------------------+------------+---------------------+------------+-------------------+-----------------+--------------+------------------+--------------------------+-------------+---------------------+-------------+--------------------+------------------+\n",
      "only showing top 20 rows\n",
      "\n"
     ]
    }
   ],
   "source": [
    "result.show()"
   ]
  },
  {
   "cell_type": "markdown",
   "metadata": {
    "id": "p468CB2VrmkB"
   },
   "source": [
    "## Evaluate Model"
   ]
  },
  {
   "cell_type": "code",
   "execution_count": null,
   "metadata": {
    "id": "WzOJ7c0MFVVF"
   },
   "outputs": [],
   "source": [
    "from pyspark.ml.evaluation import RegressionEvaluator"
   ]
  },
  {
   "cell_type": "code",
   "execution_count": null,
   "metadata": {
    "colab": {
     "base_uri": "https://localhost:8080/"
    },
    "id": "A85kcDf8Bl0C",
    "outputId": "f22a4932-5118-48d6-ffab-8d55ea86d781"
   },
   "outputs": [
    {
     "name": "stdout",
     "output_type": "stream",
     "text": [
      "The R-Square or Accuracy of Model is 0.5544914690571232\n",
      "The Root Mean Square Error of Model is 1159.6628884131828\n",
      "The Mean Square Error of Model is 1344818.0147628062\n",
      "The Mean Absolute Error of Model is 853.5910257087111\n"
     ]
    }
   ],
   "source": [
    "errors = [\"r2\", \"rmse\", \"mse\", \"mae\"]\n",
    "name = [\"R-Square or Accuracy\", \"Root Mean Square Error\", \"Mean Square Error\", \"Mean Absolute Error\"]\n",
    "\n",
    "for i in range(len(errors)):\n",
    "  eval = RegressionEvaluator(predictionCol=\"prediction\", labelCol='Item_Outlet_Sales', metricName=errors[i])\n",
    "  print(\"The {} of Model is {}\".format(name[i],eval.evaluate(result)))"
   ]
  },
  {
   "cell_type": "code",
   "execution_count": null,
   "metadata": {
    "id": "EFhFHXfbrn2k"
   },
   "outputs": [],
   "source": []
  }
 ],
 "metadata": {
  "colab": {
   "collapsed_sections": [],
   "name": "Q2.ipynb",
   "provenance": []
  },
  "kernelspec": {
   "display_name": "Python 3 (ipykernel)",
   "language": "python",
   "name": "python3"
  },
  "language_info": {
   "codemirror_mode": {
    "name": "ipython",
    "version": 3
   },
   "file_extension": ".py",
   "mimetype": "text/x-python",
   "name": "python",
   "nbconvert_exporter": "python",
   "pygments_lexer": "ipython3",
   "version": "3.10.3"
  }
 },
 "nbformat": 4,
 "nbformat_minor": 1
}
