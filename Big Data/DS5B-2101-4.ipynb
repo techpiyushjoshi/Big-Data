{
 "cells": [
  {
   "cell_type": "markdown",
   "metadata": {},
   "source": [
    "# Connecting To The MongoDB Compass"
   ]
  },
  {
   "cell_type": "code",
   "execution_count": 2,
   "metadata": {},
   "outputs": [
    {
     "data": {
      "text/plain": [
       "MongoClient(host=['localhost:27017'], document_class=dict, tz_aware=False, connect=True)"
      ]
     },
     "execution_count": 2,
     "metadata": {},
     "output_type": "execute_result"
    }
   ],
   "source": [
    "import pymongo  ####Roll no:- DS5B-2101\n",
    "client = pymongo.MongoClient(\"mongodb://localhost:27017/\")\n",
    "client"
   ]
  },
  {
   "cell_type": "markdown",
   "metadata": {},
   "source": [
    "# List Of Databases "
   ]
  },
  {
   "cell_type": "code",
   "execution_count": 3,
   "metadata": {},
   "outputs": [
    {
     "data": {
      "text/plain": [
       "['BDexam', 'admin', 'config', 'local']"
      ]
     },
     "execution_count": 3,
     "metadata": {},
     "output_type": "execute_result"
    }
   ],
   "source": [
    "client.list_database_names() ####Roll no:- DS5B-2101"
   ]
  },
  {
   "cell_type": "markdown",
   "metadata": {},
   "source": [
    "# Create DB"
   ]
  },
  {
   "cell_type": "code",
   "execution_count": 4,
   "metadata": {},
   "outputs": [],
   "source": [
    "mydb = client[\"BDexam\"]  # the DB will not show in list untill unless data is inserted into it ####Roll no:- DS5B-2101"
   ]
  },
  {
   "cell_type": "markdown",
   "metadata": {},
   "source": [
    "# Creating Collection inside DB"
   ]
  },
  {
   "cell_type": "code",
   "execution_count": 5,
   "metadata": {},
   "outputs": [],
   "source": [
    "collection1 = mydb[\"hospital\"]"
   ]
  },
  {
   "cell_type": "markdown",
   "metadata": {},
   "source": [
    "# Inserting a Single record "
   ]
  },
  {
   "cell_type": "code",
   "execution_count": 16,
   "metadata": {},
   "outputs": [
    {
     "data": {
      "text/plain": [
       "<pymongo.results.InsertOneResult at 0x18910c08f40>"
      ]
     },
     "execution_count": 16,
     "metadata": {},
     "output_type": "execute_result"
    }
   ],
   "source": [
    "record = {\n",
    "\"Patient_no3\":{\"Name\":\"Ayushman\",\n",
    "             \"Age\":24,\n",
    "             \"blood group\":\"O-\",\n",
    "             \"dieseas\":\"alzimar\",\n",
    "             \"contact info\":8989898989,\n",
    "             \"relative\":{\"name\":\"rani\", \"relation\":\"casuin\"},\n",
    "             \"condition\":\"critical\"}}\n",
    "collection1.insert_one(record)"
   ]
  },
  {
   "cell_type": "markdown",
   "metadata": {},
   "source": [
    "# Deleting A Record"
   ]
  },
  {
   "cell_type": "code",
   "execution_count": 7,
   "metadata": {},
   "outputs": [
    {
     "data": {
      "text/plain": [
       "<pymongo.results.DeleteResult at 0x18910880d90>"
      ]
     },
     "execution_count": 7,
     "metadata": {},
     "output_type": "execute_result"
    }
   ],
   "source": [
    "collection1.delete_one({\"Patient_mo.2.Age\":24})"
   ]
  },
  {
   "cell_type": "markdown",
   "metadata": {},
   "source": [
    "# Updating A Record"
   ]
  },
  {
   "cell_type": "code",
   "execution_count": 11,
   "metadata": {},
   "outputs": [
    {
     "data": {
      "text/plain": [
       "<pymongo.results.UpdateResult at 0x18910c0b0a0>"
      ]
     },
     "execution_count": 11,
     "metadata": {},
     "output_type": "execute_result"
    }
   ],
   "source": [
    "collection1.update_one({\"Patient_no.1.Age\":25}, {\"$set\":{\"Patient_no.1.Age\":52}})"
   ]
  },
  {
   "cell_type": "code",
   "execution_count": 17,
   "metadata": {},
   "outputs": [
    {
     "name": "stdout",
     "output_type": "stream",
     "text": [
      "{'_id': ObjectId('62930d06b26a1cfe61265d2a'), 'Patient_no.1': {'Name': 'manvi rane', 'Age': 52, 'blood group': 'B+', 'dieseas': 'myopia', 'contact info': 9898989898, 'relative': {'name': 'raj', 'relation': 'son'}, 'condition': 'critical'}}\n",
      "{'_id': ObjectId('629312f73cb6073138d0fa61'), 'Patient_no.2': {'Name': 'Ayushman', 'Age': 24, 'blood group': 'O-', 'dieseas': 'alzimar', 'contact info': 8989898989, 'relative': {'name': 'rani', 'relation': 'casuin'}, 'condition': 'critical'}}\n",
      "{'_id': ObjectId('629314133cb6073138d0fa62'), 'Patient_no3': {'Name': 'Ayushman', 'Age': 24, 'blood group': 'O-', 'dieseas': 'alzimar', 'contact info': 8989898989, 'relative': {'name': 'rani', 'relation': 'casuin'}, 'condition': 'critical'}}\n"
     ]
    }
   ],
   "source": [
    "for i in collection1.find():\n",
    "    print(i)"
   ]
  },
  {
   "cell_type": "markdown",
   "metadata": {},
   "source": [
    "# Finding a record"
   ]
  },
  {
   "cell_type": "code",
   "execution_count": 18,
   "metadata": {},
   "outputs": [
    {
     "name": "stdout",
     "output_type": "stream",
     "text": [
      "{'_id': ObjectId('629314133cb6073138d0fa62'), 'Patient_no3': {'Name': 'Ayushman', 'Age': 24, 'blood group': 'O-', 'dieseas': 'alzimar', 'contact info': 8989898989, 'relative': {'name': 'rani', 'relation': 'casuin'}, 'condition': 'critical'}}\n"
     ]
    }
   ],
   "source": [
    "query1 = {\"Patient_no3.Name\":\"Ayushman\"}\n",
    "\n",
    "results = collection1.find(query1)\n",
    "for data in results:\n",
    "    print(data)"
   ]
  },
  {
   "cell_type": "code",
   "execution_count": null,
   "metadata": {},
   "outputs": [],
   "source": []
  }
 ],
 "metadata": {
  "interpreter": {
   "hash": "a9cff5a362bc38ef45d817ae74b1af54d6a076e3d773891282bce078b815ba34"
  },
  "kernelspec": {
   "display_name": "Python 3 (ipykernel)",
   "language": "python",
   "name": "python3"
  },
  "language_info": {
   "codemirror_mode": {
    "name": "ipython",
    "version": 3
   },
   "file_extension": ".py",
   "mimetype": "text/x-python",
   "name": "python",
   "nbconvert_exporter": "python",
   "pygments_lexer": "ipython3",
   "version": "3.10.3"
  }
 },
 "nbformat": 4,
 "nbformat_minor": 4
}
