{
 "cells": [
  {
   "cell_type": "markdown",
   "id": "6458d4bc",
   "metadata": {},
   "source": [
    "# Connecting to MongoDB\n",
    "## DS5B 2121"
   ]
  },
  {
   "cell_type": "code",
   "execution_count": 1,
   "id": "16530ce8",
   "metadata": {},
   "outputs": [
    {
     "data": {
      "text/plain": [
       "MongoClient(host=['localhost:27017'], document_class=dict, tz_aware=False, connect=True)"
      ]
     },
     "execution_count": 1,
     "metadata": {},
     "output_type": "execute_result"
    }
   ],
   "source": [
    "import pymongo  \n",
    "client = pymongo.MongoClient(\"mongodb://localhost:27017/\")\n",
    "client"
   ]
  },
  {
   "cell_type": "code",
   "execution_count": 7,
   "id": "4c3d5e14",
   "metadata": {},
   "outputs": [
    {
     "data": {
      "text/plain": [
       "['admin', 'config', 'local']"
      ]
     },
     "execution_count": 7,
     "metadata": {},
     "output_type": "execute_result"
    }
   ],
   "source": [
    "# Database List\n",
    "client.list_database_names() # DS5B 2121"
   ]
  },
  {
   "cell_type": "code",
   "execution_count": 8,
   "id": "bfb77eba",
   "metadata": {},
   "outputs": [],
   "source": [
    "mydb = client[\"admin\"]"
   ]
  },
  {
   "cell_type": "code",
   "execution_count": 10,
   "id": "c6e0cbe2",
   "metadata": {},
   "outputs": [],
   "source": [
    "collection1 = mydb[\"New_Patient\"]"
   ]
  },
  {
   "cell_type": "code",
   "execution_count": null,
   "id": "bf2cfe68",
   "metadata": {},
   "outputs": [],
   "source": [
    "{\n",
    "  \"Patient1\": {\n",
    "    \"Name\": \"Piyush Joshi\",\n",
    "    \"Age\": 22,\n",
    "    \"Address\": {\n",
    "      \"City\": \"Indore\",\n",
    "      \"State\": \"Madhya Pradesh\",\n",
    "      \"Country\": \"India\"\n",
    "    },\n",
    "    \"Mobile Number\": [\n",
    "      7047436645,\n",
    "      8982161294\n",
    "    ],\n",
    "    \"Assigned_Doctor\": {\n",
    "      \"D_name\": \"Kuku Joshi\",\n",
    "      \"D_age\": 54,\n",
    "      \"D_Specialisation\": \"Cardiologist\"\n",
    "    },\n",
    "    \"Diagonosis_For\": \"Cardiac Arrest\",\n",
    "    \"Stay_Days\": 5,\n",
    "    \"Bill\": 5000\n",
    "  }"
   ]
  }
 ],
 "metadata": {
  "kernelspec": {
   "display_name": "Python 3 (ipykernel)",
   "language": "python",
   "name": "python3"
  },
  "language_info": {
   "codemirror_mode": {
    "name": "ipython",
    "version": 3
   },
   "file_extension": ".py",
   "mimetype": "text/x-python",
   "name": "python",
   "nbconvert_exporter": "python",
   "pygments_lexer": "ipython3",
   "version": "3.10.3"
  }
 },
 "nbformat": 4,
 "nbformat_minor": 5
}
