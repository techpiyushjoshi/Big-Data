{
  "cells": [
    {
      "cell_type": "code",
      "execution_count": null,
      "metadata": {
        "colab": {
          "base_uri": "https://localhost:8080/"
        },
        "id": "mg4Xol7Jf_Et",
        "outputId": "18839a5c-d56b-41cc-bbfb-0bc39e66ba06"
      },
      "outputs": [
        {
          "output_type": "stream",
          "name": "stdout",
          "text": [
            "Collecting pyspark\n",
            "  Downloading pyspark-3.2.1.tar.gz (281.4 MB)\n",
            "\u001b[K     |████████████████████████████████| 281.4 MB 37 kB/s \n",
            "\u001b[?25hCollecting py4j==0.10.9.3\n",
            "  Downloading py4j-0.10.9.3-py2.py3-none-any.whl (198 kB)\n",
            "\u001b[K     |████████████████████████████████| 198 kB 60.2 MB/s \n",
            "\u001b[?25hBuilding wheels for collected packages: pyspark\n",
            "  Building wheel for pyspark (setup.py) ... \u001b[?25l\u001b[?25hdone\n",
            "  Created wheel for pyspark: filename=pyspark-3.2.1-py2.py3-none-any.whl size=281853642 sha256=49336e2b0b4d3d4031df9a732e55569cfa88bcf2d0ac6491dee2c9843199be15\n",
            "  Stored in directory: /root/.cache/pip/wheels/9f/f5/07/7cd8017084dce4e93e84e92efd1e1d5334db05f2e83bcef74f\n",
            "Successfully built pyspark\n",
            "Installing collected packages: py4j, pyspark\n",
            "Successfully installed py4j-0.10.9.3 pyspark-3.2.1\n"
          ]
        }
      ],
      "source": [
        "!pip install pyspark"
      ]
    },
    {
      "cell_type": "code",
      "execution_count": null,
      "metadata": {
        "id": "bbzUEimsgAbv"
      },
      "outputs": [],
      "source": [
        "from pyspark import SparkConf, SparkContext"
      ]
    },
    {
      "cell_type": "code",
      "execution_count": null,
      "metadata": {
        "id": "E65zwOpjgFuk"
      },
      "outputs": [],
      "source": [
        "if __name__ == \"__main__\":\n",
        "  conf = SparkConf().setAppName(\"WaterQuality\").setMaster(\"local[2]\")\n",
        "  sc = SparkContext(conf = conf)"
      ]
    },
    {
      "cell_type": "code",
      "source": [
        "raw_data = sc.textFile(\"waterquality.csv\")\n",
        "raw_data.take(5)"
      ],
      "metadata": {
        "colab": {
          "base_uri": "https://localhost:8080/"
        },
        "id": "WLfLC3z2hyZE",
        "outputId": "e4651a9c-7e04-4d9d-bef8-7d85da1132c9"
      },
      "execution_count": null,
      "outputs": [
        {
          "output_type": "execute_result",
          "data": {
            "text/plain": [
              "['STATION CODE,LOCATIONS,STATE,TEMP,DO,pH,CONDUCTIVITY,BOD,NITRATE_N_NITRITE_N,FECAL_COLIFORM,TOTAL_COLIFORM',\n",
              " '1312,GODAVARI AT JAYAKWADI DAM  AURNAGABAD MAHARASHTRA,MAHARASHTRA,29.2,6.4,8.1,735,3.4,2,3,73',\n",
              " '2177,GODAVARI RIVER NEAR SOMESHWAR TEMPLE.,MAHARASHTRA,24.5,6,8,270,3.1,2,72,182',\n",
              " '2182,GODAVARI RIVER AT SAIKHEDA.,MAHARASHTRA,25.8,5.5,7.8,355,4.2,9,59,133',\n",
              " '2179,GODAVARI RIVER AT HANUMAN GHAT  NASHIK CITY.,MAHARASHTRA,24.8,5.5,7.8,371,5.6,3.55,90,283']"
            ]
          },
          "metadata": {},
          "execution_count": 49
        }
      ]
    },
    {
      "cell_type": "code",
      "source": [
        "header = raw_data.first()\n",
        "header"
      ],
      "metadata": {
        "colab": {
          "base_uri": "https://localhost:8080/",
          "height": 35
        },
        "id": "ei3qwUXEi8Rs",
        "outputId": "baa3ac87-12bf-4a8c-942e-4fe1ca4432f5"
      },
      "execution_count": null,
      "outputs": [
        {
          "output_type": "execute_result",
          "data": {
            "text/plain": [
              "'STATION CODE,LOCATIONS,STATE,TEMP,DO,pH,CONDUCTIVITY,BOD,NITRATE_N_NITRITE_N,FECAL_COLIFORM,TOTAL_COLIFORM'"
            ],
            "application/vnd.google.colaboratory.intrinsic+json": {
              "type": "string"
            }
          },
          "metadata": {},
          "execution_count": 50
        }
      ]
    },
    {
      "cell_type": "code",
      "source": [
        "data = raw_data.filter(lambda x: x!= header)\n",
        "data.top(5)"
      ],
      "metadata": {
        "colab": {
          "base_uri": "https://localhost:8080/"
        },
        "id": "ZoRGyTKMjgq8",
        "outputId": "f0b97369-983f-4cbe-a161-697811bd55fc"
      },
      "execution_count": null,
      "outputs": [
        {
          "output_type": "execute_result",
          "data": {
            "text/plain": [
              "['41,KABBANI AT CAUSE WAY��SATTUR  KARNATAKA,KARNATAKA,25.8,7.2,7.9,299,1.4,0.3,310,1357',\n",
              " '39,KRISHNA AT GADWAL BRIDGE  A.P.,ANDHRA PRADESH,17.2,5.6,8.1,870,9.5,0,NA,NA',\n",
              " '38,TUNGHABHADRA AT HONNALI BRIDGE  KARNATAKA,KARNATAKA,25.8,7.2,7.9,286,2.4,0.1,71,157',\n",
              " '37,KRISHNA AT SANGLI  MAHARASHTRA,MAHARASHTRA,23.7,7,7.5,711,3,1.4,NA,90',\n",
              " '36,KRISHNA AT KRISHNA BRIDGE  KARAD  MAHARASHTRA,MAHARASHTRA,23.8,6,8.2,262,5.1,1.8,149,1357']"
            ]
          },
          "metadata": {},
          "execution_count": 51
        }
      ]
    },
    {
      "cell_type": "code",
      "source": [
        "data.count()"
      ],
      "metadata": {
        "colab": {
          "base_uri": "https://localhost:8080/"
        },
        "id": "jALPkotwk2Cp",
        "outputId": "99c4c20a-f5e3-4c07-eabb-261db403c30b"
      },
      "execution_count": null,
      "outputs": [
        {
          "output_type": "execute_result",
          "data": {
            "text/plain": [
              "534"
            ]
          },
          "metadata": {},
          "execution_count": 52
        }
      ]
    },
    {
      "cell_type": "code",
      "source": [
        "def get_river_names(x):\n",
        "  name = x.split(',')[1]\n",
        "  name = name.split(' ')[0]\n",
        "  return name"
      ],
      "metadata": {
        "id": "lICAoyT7iSi2"
      },
      "execution_count": null,
      "outputs": []
    },
    {
      "cell_type": "code",
      "source": [
        "rivers = data.map(get_river_names)\n",
        "rivers.take(10)"
      ],
      "metadata": {
        "colab": {
          "base_uri": "https://localhost:8080/"
        },
        "id": "UNnMyklAiwaU",
        "outputId": "529a1acf-3ec1-49d2-9dd5-c920bad7bb31"
      },
      "execution_count": null,
      "outputs": [
        {
          "output_type": "execute_result",
          "data": {
            "text/plain": [
              "['GODAVARI',\n",
              " 'GODAVARI',\n",
              " 'GODAVARI',\n",
              " 'GODAVARI',\n",
              " 'GODAVARI',\n",
              " 'GODAVARI',\n",
              " 'GODAVARI',\n",
              " 'GODAVARI',\n",
              " 'GODAVARI',\n",
              " 'GODAVARI']"
            ]
          },
          "metadata": {},
          "execution_count": 54
        }
      ]
    },
    {
      "cell_type": "code",
      "source": [
        "rivers.distinct().collect()"
      ],
      "metadata": {
        "colab": {
          "base_uri": "https://localhost:8080/"
        },
        "id": "3uxYhfT6mfQt",
        "outputId": "c8b8b3da-b7e8-4ce5-a964-c3b68ca9b792"
      },
      "execution_count": null,
      "outputs": [
        {
          "output_type": "execute_result",
          "data": {
            "text/plain": [
              "['GODAVARI',\n",
              " 'GODAVARI��AT',\n",
              " 'SHUKRA',\n",
              " 'TRIBENI',\n",
              " 'BRAHMPUTRA',\n",
              " 'BRAHMAPUTRA',\n",
              " 'KRISHNA',\n",
              " 'VEDADRI',\n",
              " 'AMARAVATI',\n",
              " 'HAMSALA',\n",
              " 'SHIMSHA',\n",
              " 'KABINI',\n",
              " 'D/S',\n",
              " 'ASHWANI',\n",
              " 'BATTA',\n",
              " 'HINDON',\n",
              " 'BETWA',\n",
              " 'PARVATI',\n",
              " 'KSHIPRA',\n",
              " 'KALI',\n",
              " 'SINDH',\n",
              " 'SANKH',\n",
              " 'JAMUNI',\n",
              " 'SONE',\n",
              " 'BANAS',\n",
              " 'DIKHOW',\n",
              " 'RANGA',\n",
              " 'KAPILI',\n",
              " 'SANKOSH',\n",
              " 'KALJANI',\n",
              " 'PANCHNAI',\n",
              " 'SUSWA',\n",
              " 'BHALLA',\n",
              " 'SAI',\n",
              " 'GOMTI',\n",
              " 'RAPTI',\n",
              " 'GHAGHARA',\n",
              " 'GHAGHRA',\n",
              " 'RIHAND',\n",
              " 'GANDAK',\n",
              " 'BURHI',\n",
              " 'HARBORA',\n",
              " 'KAMALA',\n",
              " 'RAM',\n",
              " 'PUNPUN',\n",
              " 'SIRSIA',\n",
              " 'RIVER',\n",
              " 'MARKANDA',\n",
              " 'BHATSA',\n",
              " 'KAN',\n",
              " 'KUNDALIKA',\n",
              " 'MITHI',\n",
              " 'MUCHKUNDI',\n",
              " 'PATALGANGA',\n",
              " 'ULHAS',\n",
              " 'VAITARNA',\n",
              " 'VASHISTI',\n",
              " 'VASHISHTI',\n",
              " 'PANCHAGANGA',\n",
              " 'MANDOVI',\n",
              " 'WARDHA',\n",
              " 'KOLAR',\n",
              " 'KANHAN',\n",
              " 'PURNA',\n",
              " 'NIRA',\n",
              " 'KINNERASANI',\n",
              " 'BINDUSARA',\n",
              " 'WENA',\n",
              " 'GHATPRABHA',\n",
              " 'MALPRABHA',\n",
              " 'TUNGABHADRA',\n",
              " 'TUNGHA',\n",
              " 'BHADRA',\n",
              " 'MUSI',\n",
              " 'PALLERU',\n",
              " 'KAGINA',\n",
              " 'ASANGI',\n",
              " 'SALAULIM',\n",
              " 'ANJUNEM',\n",
              " 'CARAMBOLIM',\n",
              " 'SAIPEM',\n",
              " 'CURTORIM',\n",
              " 'CITY',\n",
              " 'AHMEDABAD',\n",
              " 'AJWAH',\n",
              " 'SURSAGAR',\n",
              " 'NALSAROVAR',\n",
              " 'SAHASTRALING',\n",
              " 'LAKHOTA',\n",
              " 'NARSINHMEHTA',\n",
              " 'MALAV',\n",
              " 'MOTICHER',\n",
              " 'KUWADAVA',\n",
              " 'OLPAD',\n",
              " 'THOL',\n",
              " 'GOVINDGARH',\n",
              " 'SHAHPURA',\n",
              " 'RANITAL',\n",
              " 'PICHOLA',\n",
              " 'PUSHKAR',\n",
              " 'KAYALANA',\n",
              " 'LAKE',\n",
              " 'LODHA',\n",
              " 'ALKANANDA',\n",
              " 'MANDAKINI',\n",
              " 'BHAGIRATHI',\n",
              " 'GANGA',\n",
              " 'UPPER',\n",
              " 'GANGA��AT',\n",
              " 'NABADIP',\n",
              " 'BRAHAMPUTRA',\n",
              " 'THANGADI',\n",
              " 'YAMUNA',\n",
              " 'YAGACHI',\n",
              " 'HEMAVATI',\n",
              " 'ARKAVATHI',\n",
              " 'LAKSHMANTIRTHA��AT',\n",
              " 'KABBANI',\n",
              " 'BHAVANI',\n",
              " 'U/S',\n",
              " 'TONS',\n",
              " 'GIRI',\n",
              " 'PABBAR',\n",
              " 'CHAMBAL',\n",
              " 'GOHAD',\n",
              " 'KHAN',\n",
              " 'BICHIA',\n",
              " 'CHHAPI',\n",
              " 'UJAD',\n",
              " 'TEESTA',\n",
              " 'KUNDLI',\n",
              " 'KOHORA',\n",
              " 'BOGINADI',\n",
              " 'BEKI',\n",
              " 'BARAK',\n",
              " 'SONAI',\n",
              " 'KUSHIARA',\n",
              " 'KAROLA',\n",
              " 'GOLA',\n",
              " 'DHELA',\n",
              " 'KOSI',\n",
              " 'RAMGANGA',\n",
              " 'KALINADI',\n",
              " 'VARUNA',\n",
              " 'SARYU',\n",
              " 'SIKRAHNA',\n",
              " 'SIKRANA',\n",
              " 'MANUSMAR',\n",
              " 'KOSHI',\n",
              " 'DAHA',\n",
              " 'DHOUS',\n",
              " 'FARMAR',\n",
              " 'SIRSA',\n",
              " 'BAGMATI',\n",
              " 'GHAGGAR',\n",
              " 'GHAGGER',\n",
              " 'GAGGAR',\n",
              " 'KODRA',\n",
              " 'AMBA',\n",
              " 'KALU',\n",
              " 'PEHLAR',\n",
              " 'SAVITRI',\n",
              " 'SURYA',\n",
              " 'TANSA',\n",
              " 'BHIMA',\n",
              " 'ZUARI',\n",
              " 'INDRAVATI',\n",
              " 'SHANKNI',\n",
              " 'MANJRA',\n",
              " 'MANJEERA',\n",
              " 'MANJERA',\n",
              " 'MANER',\n",
              " 'WAINGANGA',\n",
              " 'SABARI',\n",
              " 'DARNA',\n",
              " 'PENGANGA',\n",
              " 'TUNGHABHADRA',\n",
              " 'CONFLUENCE',\n",
              " 'MUNERU',\n",
              " 'MAYEM',\n",
              " 'RUMDER',\n",
              " 'RAIA',\n",
              " 'BINDUSAROVAR',\n",
              " 'HAMISAR',\n",
              " 'RANJITNAGAR',\n",
              " 'MAHI',\n",
              " 'VHERAIMATA',\n",
              " 'DHUDHIA',\n",
              " 'LOWER',\n",
              " 'MULTAI',\n",
              " 'KHANDARI',\n",
              " 'PERIAT',\n",
              " 'KERWA',\n",
              " 'JANUNIA',\n",
              " 'HANUMANTAL',\n",
              " 'MOTI',\n",
              " 'RANI',\n",
              " 'NEHRU',\n",
              " 'HITKASA',\n",
              " 'UDAISAGAR',\n",
              " 'FATEH',\n",
              " 'NAKKI',\n",
              " 'JAISAMAND',\n",
              " 'GAPE-',\n",
              " 'JALMAHAL']"
            ]
          },
          "metadata": {},
          "execution_count": 55
        }
      ]
    },
    {
      "cell_type": "code",
      "source": [
        "state_groups = data.groupBy(lambda x:x[2])\n",
        "state_groups.collect()"
      ],
      "metadata": {
        "colab": {
          "base_uri": "https://localhost:8080/"
        },
        "id": "ypLWZt93m6DL",
        "outputId": "855a7d79-7cd4-4dc4-f142-1dc60acc4482"
      },
      "execution_count": null,
      "outputs": [
        {
          "output_type": "execute_result",
          "data": {
            "text/plain": [
              "[('1', <pyspark.resultiterable.ResultIterable at 0x7f4e5efefb90>),\n",
              " ('8', <pyspark.resultiterable.ResultIterable at 0x7f4e5efef890>),\n",
              " ('9', <pyspark.resultiterable.ResultIterable at 0x7f4e5efef690>),\n",
              " ('0', <pyspark.resultiterable.ResultIterable at 0x7f4e5efefe50>),\n",
              " ('4', <pyspark.resultiterable.ResultIterable at 0x7f4e5eff2d90>),\n",
              " ('7', <pyspark.resultiterable.ResultIterable at 0x7f4e5efefc50>),\n",
              " ('6', <pyspark.resultiterable.ResultIterable at 0x7f4e5efef950>),\n",
              " ('5', <pyspark.resultiterable.ResultIterable at 0x7f4e5eff2150>),\n",
              " (',', <pyspark.resultiterable.ResultIterable at 0x7f4e5efefa50>),\n",
              " ('2', <pyspark.resultiterable.ResultIterable at 0x7f4e5e85be90>),\n",
              " ('3', <pyspark.resultiterable.ResultIterable at 0x7f4e5e85be10>)]"
            ]
          },
          "metadata": {},
          "execution_count": 56
        }
      ]
    },
    {
      "cell_type": "code",
      "source": [
        "def concate_address(x):\n",
        "  data = x.split(',')\n",
        "  add = data[1] +' - '+ data[2] +' - '+ data[0]\n",
        "  return add\n"
      ],
      "metadata": {
        "colab": {
          "base_uri": "https://localhost:8080/"
        },
        "id": "Vut-xiUHomqs",
        "outputId": "6f63ad33-8274-41e4-93d0-9c7fee9ea278"
      },
      "execution_count": null,
      "outputs": [
        {
          "output_type": "execute_result",
          "data": {
            "text/plain": [
              "['GODAVARI AT JAYAKWADI DAM  AURNAGABAD MAHARASHTRA - MAHARASHTRA - 1312',\n",
              " 'GODAVARI RIVER NEAR SOMESHWAR TEMPLE. - MAHARASHTRA - 2177',\n",
              " 'GODAVARI RIVER AT SAIKHEDA. - MAHARASHTRA - 2182',\n",
              " 'GODAVARI RIVER AT HANUMAN GHAT  NASHIK CITY. - MAHARASHTRA - 2179',\n",
              " 'GODAVARI RIVER AT NANDUR- MADMESHWAR DAM. - MAHARASHTRA - 2183']"
            ]
          },
          "metadata": {},
          "execution_count": 66
        }
      ]
    },
    {
      "cell_type": "code",
      "source": [
        "temp = data.map(concate_address)\n",
        "temp.take(5)"
      ],
      "metadata": {
        "id": "erVWkH0U0IM_"
      },
      "execution_count": null,
      "outputs": []
    },
    {
      "cell_type": "code",
      "source": [
        "def convert_dtype(x):\n",
        "  data = x.split(',')\n",
        "  temp = []\n",
        "\n",
        "  for i in data:\n",
        "    if i.isdigit():\n",
        "      temp.append(int(i))\n",
        "    elif i.isalnum():\n",
        "      temp.append(str(i))\n",
        "    # else:\n",
        "    #   temp.append(float(i))\n",
        "\n",
        "\n",
        "  return temp"
      ],
      "metadata": {
        "id": "kg0JioBO2_rk"
      },
      "execution_count": null,
      "outputs": []
    },
    {
      "cell_type": "code",
      "source": [
        "temp = data.map(convert_dtype)\n",
        "temp.take(5)"
      ],
      "metadata": {
        "colab": {
          "base_uri": "https://localhost:8080/"
        },
        "id": "Tf31C20Y3Mh3",
        "outputId": "44129765-f138-44e6-f896-865f422c4baf"
      },
      "execution_count": null,
      "outputs": [
        {
          "output_type": "execute_result",
          "data": {
            "text/plain": [
              "[[1312, 'MAHARASHTRA', 735, 2, 3, 73],\n",
              " [2177, 'MAHARASHTRA', 6, 8, 270, 2, 72, 182],\n",
              " [2182, 'MAHARASHTRA', 355, 9, 59, 133],\n",
              " [2179, 'MAHARASHTRA', 371, 90, 283],\n",
              " [2183, 'MAHARASHTRA', 294, 45, 132]]"
            ]
          },
          "metadata": {},
          "execution_count": 90
        }
      ]
    },
    {
      "cell_type": "code",
      "source": [
        "def temperature_convertor(x):\n",
        "  celsius = x.split(',')[3]\n",
        "  fahrenheit = float(celsius) * 1.8 + 32\n",
        "  return fahrenheit"
      ],
      "metadata": {
        "id": "1qPzZ-hL3Pw3"
      },
      "execution_count": null,
      "outputs": []
    },
    {
      "cell_type": "code",
      "source": [
        "temp = data.map(temperature_convertor)\n",
        "temp.take(5)"
      ],
      "metadata": {
        "colab": {
          "base_uri": "https://localhost:8080/"
        },
        "id": "eomfx4lz7w_A",
        "outputId": "1c369940-b45a-45bc-f75d-b9d88548fdc3"
      },
      "execution_count": null,
      "outputs": [
        {
          "output_type": "execute_result",
          "data": {
            "text/plain": [
              "[84.56, 76.1, 78.44, 76.64, 78.25999999999999]"
            ]
          },
          "metadata": {},
          "execution_count": 94
        }
      ]
    },
    {
      "cell_type": "code",
      "source": [
        "def set_water_quality_index(x):\n",
        "  data = {}\n",
        "  df = x.split(',')\n",
        "  data['npH']=(100 if (8.5>=float(df[5]) and float(df[5])>=7)  \n",
        "                                 else(80 if  (8.6>=float(df[5]) and float(df[5])>=8.5) or (6.9>=float(df[5]) and float(df[5])>=6.8) \n",
        "                                      else(60 if (8.8>=float(df[5]) and float(df[5])>=8.6) or (6.8>=float(df[5]) and float(df[5]) >=6.7) \n",
        "                                          else(40 if (9>=float(df[5]) and float(df[5])>=8.8) or (6.7>=float(df[5]) and float(df[5])>=6.5)\n",
        "                                              else 0))))\n",
        "  data['ndo']=(100 if (float(df[4])>=6)  \n",
        "                                 else(80 if  (6>=float(df[4]) and float(df[4])>=5.1) \n",
        "                                      else(60 if (5>=float(df[4]) and float(df[4])>=4.1)\n",
        "                                          else(40 if (4>=float(df[4]) and float(df[4])>=3) \n",
        "                                              else 0))))\n",
        "  data['nco']=(100 if (5>=float(df[9]) and float(df[9])>=0)  \n",
        "                                 else(80 if  (50>=float(df[9]) and float(df[9])>=5) \n",
        "                                      else(60 if (500>=float(df[9]) and float(df[9])>=50)\n",
        "                                          else(40 if (10000>=float(df[9]) and float(df[9])>=500) \n",
        "                                              else 0))))\n",
        "  data['nbdo']=(100 if (3>=float(df[7]) and float(df[7])>=0)  \n",
        "                                 else(80 if  (6>=float(df[7]) and float(df[7])>=3) \n",
        "                                      else(60 if (80>=float(df[7]) and float(df[7])>=6)\n",
        "                                          else(40 if (125>=float(df[7]) and float(df[7])>=80) \n",
        "                                              else 0))))\n",
        "  data['nec']=(100 if (75>=float(df[6]) and float(df[6])>=0)  \n",
        "                                 else(80 if  (150>=float(df[6]) and float(df[6])>=75) \n",
        "                                      else(60 if (225>=float(df[6]) and float(df[6])>=150)\n",
        "                                          else(40 if (300>=float(df[6]) and float(df[6])>=225) \n",
        "                                              else 0))))\n",
        "  data['nna']=(100 if (20>=float(df[8]) and float(df[8])>=0)  \n",
        "                                 else(80 if  (50>=float(df[8]) and float(df[8])>=20) \n",
        "                                      else(60 if (100>=float(df[8]) and float(df[8])>=50)\n",
        "                                          else(40 if (200>=float(df[8]) and float(df[8])>=100) \n",
        "                                              else 0))))\n",
        "  \n",
        "  return data"
      ],
      "metadata": {
        "id": "tpDMK7v970wS"
      },
      "execution_count": null,
      "outputs": []
    },
    {
      "cell_type": "code",
      "source": [
        "wqi = data.map(set_water_quality_index)\n",
        "wqi.take(10)"
      ],
      "metadata": {
        "colab": {
          "base_uri": "https://localhost:8080/"
        },
        "id": "tcXK4uaJ84ww",
        "outputId": "54c1aec1-e75a-4fa1-d8ff-3a9b4e61b56c"
      },
      "execution_count": null,
      "outputs": [
        {
          "output_type": "execute_result",
          "data": {
            "text/plain": [
              "[{'nbdo': 80, 'nco': 100, 'ndo': 100, 'nec': 0, 'nna': 100, 'npH': 100},\n",
              " {'nbdo': 80, 'nco': 60, 'ndo': 100, 'nec': 40, 'nna': 100, 'npH': 100},\n",
              " {'nbdo': 80, 'nco': 60, 'ndo': 80, 'nec': 0, 'nna': 100, 'npH': 100},\n",
              " {'nbdo': 80, 'nco': 60, 'ndo': 80, 'nec': 0, 'nna': 100, 'npH': 100},\n",
              " {'nbdo': 80, 'nco': 80, 'ndo': 80, 'nec': 40, 'nna': 100, 'npH': 100},\n",
              " {'nbdo': 60, 'nco': 60, 'ndo': 60, 'nec': 0, 'nna': 100, 'npH': 100},\n",
              " {'nbdo': 60, 'nco': 60, 'ndo': 80, 'nec': 0, 'nna': 100, 'npH': 100},\n",
              " {'nbdo': 80, 'nco': 60, 'ndo': 80, 'nec': 0, 'nna': 100, 'npH': 100},\n",
              " {'nbdo': 80, 'nco': 60, 'ndo': 80, 'nec': 0, 'nna': 100, 'npH': 100},\n",
              " {'nbdo': 100, 'nco': 80, 'ndo': 100, 'nec': 60, 'nna': 100, 'npH': 100}]"
            ]
          },
          "metadata": {},
          "execution_count": 106
        }
      ]
    },
    {
      "cell_type": "code",
      "source": [
        "def calculate_water_quality_index(x):\n",
        "  df = {}\n",
        "  df['wph']=x['npH'] * 0.165\n",
        "  df['wdo']=x['ndo'] * 0.281\n",
        "  df['wbdo']=x['nbdo'] * 0.234\n",
        "  df['wec']=x['nec']* 0.009\n",
        "  df['wna']=x['nna'] * 0.028\n",
        "  df['wco']=x['nco'] * 0.281\n",
        "  df['wqi']=df['wph']+df['wdo']+df['wbdo']+df['wec']+df['wna']+df['wco']\n",
        "  return df"
      ],
      "metadata": {
        "id": "EJ77eL2B9CBU"
      },
      "execution_count": null,
      "outputs": []
    },
    {
      "cell_type": "code",
      "source": [
        "final_wqi = wqi.map(calculate_water_quality_index)\n",
        "final_wqi.take(10)"
      ],
      "metadata": {
        "colab": {
          "base_uri": "https://localhost:8080/"
        },
        "id": "4NQp6fe2DSqm",
        "outputId": "899e7fc0-7f6f-4d4e-f8b1-733fea91bef4"
      },
      "execution_count": null,
      "outputs": [
        {
          "output_type": "execute_result",
          "data": {
            "text/plain": [
              "[{'wbdo': 18.720000000000002,\n",
              "  'wco': 28.1,\n",
              "  'wdo': 28.1,\n",
              "  'wec': 0.0,\n",
              "  'wna': 2.8000000000000003,\n",
              "  'wph': 16.5,\n",
              "  'wqi': 94.22},\n",
              " {'wbdo': 18.720000000000002,\n",
              "  'wco': 16.860000000000003,\n",
              "  'wdo': 28.1,\n",
              "  'wec': 0.36,\n",
              "  'wna': 2.8000000000000003,\n",
              "  'wph': 16.5,\n",
              "  'wqi': 83.34},\n",
              " {'wbdo': 18.720000000000002,\n",
              "  'wco': 16.860000000000003,\n",
              "  'wdo': 22.480000000000004,\n",
              "  'wec': 0.0,\n",
              "  'wna': 2.8000000000000003,\n",
              "  'wph': 16.5,\n",
              "  'wqi': 77.36},\n",
              " {'wbdo': 18.720000000000002,\n",
              "  'wco': 16.860000000000003,\n",
              "  'wdo': 22.480000000000004,\n",
              "  'wec': 0.0,\n",
              "  'wna': 2.8000000000000003,\n",
              "  'wph': 16.5,\n",
              "  'wqi': 77.36},\n",
              " {'wbdo': 18.720000000000002,\n",
              "  'wco': 22.480000000000004,\n",
              "  'wdo': 22.480000000000004,\n",
              "  'wec': 0.36,\n",
              "  'wna': 2.8000000000000003,\n",
              "  'wph': 16.5,\n",
              "  'wqi': 83.34},\n",
              " {'wbdo': 14.040000000000001,\n",
              "  'wco': 16.860000000000003,\n",
              "  'wdo': 16.860000000000003,\n",
              "  'wec': 0.0,\n",
              "  'wna': 2.8000000000000003,\n",
              "  'wph': 16.5,\n",
              "  'wqi': 67.06},\n",
              " {'wbdo': 14.040000000000001,\n",
              "  'wco': 16.860000000000003,\n",
              "  'wdo': 22.480000000000004,\n",
              "  'wec': 0.0,\n",
              "  'wna': 2.8000000000000003,\n",
              "  'wph': 16.5,\n",
              "  'wqi': 72.68},\n",
              " {'wbdo': 18.720000000000002,\n",
              "  'wco': 16.860000000000003,\n",
              "  'wdo': 22.480000000000004,\n",
              "  'wec': 0.0,\n",
              "  'wna': 2.8000000000000003,\n",
              "  'wph': 16.5,\n",
              "  'wqi': 77.36},\n",
              " {'wbdo': 18.720000000000002,\n",
              "  'wco': 16.860000000000003,\n",
              "  'wdo': 22.480000000000004,\n",
              "  'wec': 0.0,\n",
              "  'wna': 2.8000000000000003,\n",
              "  'wph': 16.5,\n",
              "  'wqi': 77.36},\n",
              " {'wbdo': 23.400000000000002,\n",
              "  'wco': 22.480000000000004,\n",
              "  'wdo': 28.1,\n",
              "  'wec': 0.5399999999999999,\n",
              "  'wna': 2.8000000000000003,\n",
              "  'wph': 16.5,\n",
              "  'wqi': 93.82000000000001}]"
            ]
          },
          "metadata": {},
          "execution_count": 113
        }
      ]
    },
    {
      "cell_type": "code",
      "source": [
        "def classify_wqi(x):\n",
        "  df = {}\n",
        "  df['quality']=('Excellent' if (25>=x['wqi'] and x['wqi']>=0)  \n",
        "                                 else('Good' if  (50>=x['wqi'] and x['wqi']>=26) \n",
        "                                      else('Poor' if (75>=x['wqi'] and x['wqi']>=51)\n",
        "                                          else('Very Poor' if (100>=x['wqi'] and x['wqi']>=76) \n",
        "                                              else 'Unsuitable'))))\n",
        "  return df"
      ],
      "metadata": {
        "id": "sJCIadVCDfoe"
      },
      "execution_count": null,
      "outputs": []
    },
    {
      "cell_type": "code",
      "source": [
        "c_wqi = final_wqi.map(classify_wqi)\n",
        "c_wqi.take(10)"
      ],
      "metadata": {
        "colab": {
          "base_uri": "https://localhost:8080/"
        },
        "id": "7J8Jznn0FYzr",
        "outputId": "db740433-3b8f-4696-c9d7-290b0603170e"
      },
      "execution_count": null,
      "outputs": [
        {
          "output_type": "execute_result",
          "data": {
            "text/plain": [
              "[{'quality': 'Very Poor'},\n",
              " {'quality': 'Very Poor'},\n",
              " {'quality': 'Very Poor'},\n",
              " {'quality': 'Very Poor'},\n",
              " {'quality': 'Very Poor'},\n",
              " {'quality': 'Poor'},\n",
              " {'quality': 'Poor'},\n",
              " {'quality': 'Very Poor'},\n",
              " {'quality': 'Very Poor'},\n",
              " {'quality': 'Very Poor'}]"
            ]
          },
          "metadata": {},
          "execution_count": 117
        }
      ]
    }
  ],
  "metadata": {
    "colab": {
      "name": "waterQuality.ipynb",
      "provenance": [],
      "collapsed_sections": []
    },
    "kernelspec": {
      "display_name": "Python 3",
      "name": "python3"
    },
    "language_info": {
      "name": "python"
    }
  },
  "nbformat": 4,
  "nbformat_minor": 0
}