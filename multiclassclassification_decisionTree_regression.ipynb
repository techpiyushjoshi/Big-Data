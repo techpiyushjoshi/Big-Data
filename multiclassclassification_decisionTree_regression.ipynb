{
  "nbformat": 4,
  "nbformat_minor": 0,
  "metadata": {
    "colab": {
      "name": "multiclassclassification_decisionTree_regression.ipynb",
      "provenance": [],
      "collapsed_sections": []
    },
    "kernelspec": {
      "name": "python3",
      "display_name": "Python 3"
    },
    "language_info": {
      "name": "python"
    }
  },
  "cells": [
    {
      "cell_type": "code",
      "execution_count": 2,
      "metadata": {
        "colab": {
          "base_uri": "https://localhost:8080/"
        },
        "id": "3MPdxy1Tsh0Y",
        "outputId": "e054def7-2a07-4072-88c1-3f4475bdd599"
      },
      "outputs": [
        {
          "output_type": "stream",
          "name": "stdout",
          "text": [
            "Collecting pyspark\n",
            "  Downloading pyspark-3.2.1.tar.gz (281.4 MB)\n",
            "\u001b[K     |████████████████████████████████| 281.4 MB 31 kB/s \n",
            "\u001b[?25hCollecting py4j==0.10.9.3\n",
            "  Downloading py4j-0.10.9.3-py2.py3-none-any.whl (198 kB)\n",
            "\u001b[K     |████████████████████████████████| 198 kB 44.2 MB/s \n",
            "\u001b[?25hBuilding wheels for collected packages: pyspark\n",
            "  Building wheel for pyspark (setup.py) ... \u001b[?25l\u001b[?25hdone\n",
            "  Created wheel for pyspark: filename=pyspark-3.2.1-py2.py3-none-any.whl size=281853642 sha256=6f6799e1b3103b99c98add133bc9420945eea217062eccad32066f42aa6ded09\n",
            "  Stored in directory: /root/.cache/pip/wheels/9f/f5/07/7cd8017084dce4e93e84e92efd1e1d5334db05f2e83bcef74f\n",
            "Successfully built pyspark\n",
            "Installing collected packages: py4j, pyspark\n",
            "Successfully installed py4j-0.10.9.3 pyspark-3.2.1\n"
          ]
        }
      ],
      "source": [
        "!pip install pyspark"
      ]
    },
    {
      "cell_type": "code",
      "source": [
        "from pyspark.sql import SparkSession"
      ],
      "metadata": {
        "id": "xBGKPaD5siVr"
      },
      "execution_count": 3,
      "outputs": []
    },
    {
      "cell_type": "code",
      "source": [
        "session=SparkSession.builder.appName(\"Decision\").getOrCreate()"
      ],
      "metadata": {
        "id": "35kHRR0fsiYc"
      },
      "execution_count": 4,
      "outputs": []
    },
    {
      "cell_type": "code",
      "source": [
        "data=session.read.csv(\"letter_recognition.csv\",header=True,inferSchema=True)"
      ],
      "metadata": {
        "id": "H0NN2XxCsibG"
      },
      "execution_count": 37,
      "outputs": []
    },
    {
      "cell_type": "code",
      "source": [
        "data.show(20)"
      ],
      "metadata": {
        "colab": {
          "base_uri": "https://localhost:8080/"
        },
        "id": "oEHWysj3sieM",
        "outputId": "69a55335-f711-4938-ee45-4e52442b9483"
      },
      "execution_count": 38,
      "outputs": [
        {
          "output_type": "stream",
          "name": "stdout",
          "text": [
            "+------+----+----+-----+----+-----+----+----+-----+-----+-----+-----+-----+----+-----+----+-----+\n",
            "|letter|xbox|ybox|width|high|onpix|xbar|ybar|x2bar|y2bar|xybar|x2ybr|xy2br|xege|xegvy|yege|yegvx|\n",
            "+------+----+----+-----+----+-----+----+----+-----+-----+-----+-----+-----+----+-----+----+-----+\n",
            "|     T|   2|   8|    3|   5|    1|   8|  13|    0|    6|    6|   10|    8|   0|    8|   0|    8|\n",
            "|     I|   5|  12|    3|   7|    2|  10|   5|    5|    4|   13|    3|    9|   2|    8|   4|   10|\n",
            "|     D|   4|  11|    6|   8|    6|  10|   6|    2|    6|   10|    3|    7|   3|    7|   3|    9|\n",
            "|     N|   7|  11|    6|   6|    3|   5|   9|    4|    6|    4|    4|   10|   6|   10|   2|    8|\n",
            "|     G|   2|   1|    3|   1|    1|   8|   6|    6|    6|    6|    5|    9|   1|    7|   5|   10|\n",
            "|     S|   4|  11|    5|   8|    3|   8|   8|    6|    9|    5|    6|    6|   0|    8|   9|    7|\n",
            "|     B|   4|   2|    5|   4|    4|   8|   7|    6|    6|    7|    6|    6|   2|    8|   7|   10|\n",
            "|     A|   1|   1|    3|   2|    1|   8|   2|    2|    2|    8|    2|    8|   1|    6|   2|    7|\n",
            "|     J|   2|   2|    4|   4|    2|  10|   6|    2|    6|   12|    4|    8|   1|    6|   1|    7|\n",
            "|     M|  11|  15|   13|   9|    7|  13|   2|    6|    2|   12|    1|    9|   8|    1|   1|    8|\n",
            "|     X|   3|   9|    5|   7|    4|   8|   7|    3|    8|    5|    6|    8|   2|    8|   6|    7|\n",
            "|     O|   6|  13|    4|   7|    4|   6|   7|    6|    3|   10|    7|    9|   5|    9|   5|    8|\n",
            "|     G|   4|   9|    6|   7|    6|   7|   8|    6|    2|    6|    5|   11|   4|    8|   7|    8|\n",
            "|     M|   6|   9|    8|   6|    9|   7|   8|    6|    5|    7|    5|    8|   8|    9|   8|    6|\n",
            "|     R|   5|   9|    5|   7|    6|   6|  11|    7|    3|    7|    3|    9|   2|    7|   5|   11|\n",
            "|     F|   6|   9|    5|   4|    3|  10|   6|    3|    5|   10|    5|    7|   3|    9|   6|    9|\n",
            "|     O|   3|   4|    4|   3|    2|   8|   7|    7|    5|    7|    6|    8|   2|    8|   3|    8|\n",
            "|     C|   7|  10|    5|   5|    2|   6|   8|    6|    8|   11|    7|   11|   2|    8|   5|    9|\n",
            "|     T|   6|  11|    6|   8|    5|   6|  11|    5|    6|   11|    9|    4|   3|   12|   2|    4|\n",
            "|     J|   2|   2|    3|   3|    1|  10|   6|    3|    6|   12|    4|    9|   0|    7|   1|    7|\n",
            "+------+----+----+-----+----+-----+----+----+-----+-----+-----+-----+-----+----+-----+----+-----+\n",
            "only showing top 20 rows\n",
            "\n"
          ]
        }
      ]
    },
    {
      "cell_type": "code",
      "source": [
        "#dependent variables--letter"
      ],
      "metadata": {
        "id": "QehrCJDxsihS"
      },
      "execution_count": null,
      "outputs": []
    },
    {
      "cell_type": "code",
      "source": [
        "data.describe()"
      ],
      "metadata": {
        "colab": {
          "base_uri": "https://localhost:8080/"
        },
        "id": "eVCAiiOZsikF",
        "outputId": "3b84445f-ac86-49f1-a293-7e531918e81c"
      },
      "execution_count": 39,
      "outputs": [
        {
          "output_type": "execute_result",
          "data": {
            "text/plain": [
              "DataFrame[summary: string, letter: string, xbox: string, ybox: string, width: string, high: string, onpix: string, xbar: string, ybar: string, x2bar: string, y2bar: string, xybar: string, x2ybr: string, xy2br: string, xege: string, xegvy: string, yege: string, yegvx: string]"
            ]
          },
          "metadata": {},
          "execution_count": 39
        }
      ]
    },
    {
      "cell_type": "code",
      "source": [
        "data.dtypes"
      ],
      "metadata": {
        "colab": {
          "base_uri": "https://localhost:8080/"
        },
        "id": "9fd-6JwPxSMe",
        "outputId": "ab8ed5ba-ad14-4e9f-9867-853d4256471f"
      },
      "execution_count": 40,
      "outputs": [
        {
          "output_type": "execute_result",
          "data": {
            "text/plain": [
              "[('letter', 'string'),\n",
              " ('xbox', 'int'),\n",
              " ('ybox', 'int'),\n",
              " ('width', 'int'),\n",
              " ('high', 'int'),\n",
              " ('onpix', 'int'),\n",
              " ('xbar', 'int'),\n",
              " ('ybar', 'int'),\n",
              " ('x2bar', 'int'),\n",
              " ('y2bar', 'int'),\n",
              " ('xybar', 'int'),\n",
              " ('x2ybr', 'int'),\n",
              " ('xy2br', 'int'),\n",
              " ('xege', 'int'),\n",
              " ('xegvy', 'int'),\n",
              " ('yege', 'int'),\n",
              " ('yegvx', 'int')]"
            ]
          },
          "metadata": {},
          "execution_count": 40
        }
      ]
    },
    {
      "cell_type": "code",
      "source": [
        "data.columns"
      ],
      "metadata": {
        "colab": {
          "base_uri": "https://localhost:8080/"
        },
        "id": "0cAfY65muTTD",
        "outputId": "3d96d062-43b1-43a8-c46b-e806285dd407"
      },
      "execution_count": 41,
      "outputs": [
        {
          "output_type": "execute_result",
          "data": {
            "text/plain": [
              "['letter',\n",
              " 'xbox',\n",
              " 'ybox',\n",
              " 'width',\n",
              " 'high',\n",
              " 'onpix',\n",
              " 'xbar',\n",
              " 'ybar',\n",
              " 'x2bar',\n",
              " 'y2bar',\n",
              " 'xybar',\n",
              " 'x2ybr',\n",
              " 'xy2br',\n",
              " 'xege',\n",
              " 'xegvy',\n",
              " 'yege',\n",
              " 'yegvx']"
            ]
          },
          "metadata": {},
          "execution_count": 41
        }
      ]
    },
    {
      "cell_type": "code",
      "source": [
        "data.schema"
      ],
      "metadata": {
        "colab": {
          "base_uri": "https://localhost:8080/"
        },
        "id": "p628Ssak0AB1",
        "outputId": "819643c1-6d84-4184-cafb-7550febceb71"
      },
      "execution_count": 60,
      "outputs": [
        {
          "output_type": "execute_result",
          "data": {
            "text/plain": [
              "StructType(List(StructField(letter,StringType,true),StructField(xbox,IntegerType,true),StructField(ybox,IntegerType,true),StructField(width,IntegerType,true),StructField(high,IntegerType,true),StructField(onpix,IntegerType,true),StructField(xbar,IntegerType,true),StructField(ybar,IntegerType,true),StructField(x2bar,IntegerType,true),StructField(y2bar,IntegerType,true),StructField(xybar,IntegerType,true),StructField(x2ybr,IntegerType,true),StructField(xy2br,IntegerType,true),StructField(xege,IntegerType,true),StructField(xegvy,IntegerType,true),StructField(yege,IntegerType,true),StructField(yegvx,IntegerType,true)))"
            ]
          },
          "metadata": {},
          "execution_count": 60
        }
      ]
    },
    {
      "cell_type": "code",
      "source": [
        "from pyspark.ml.feature import StringIndexer,VectorAssembler "
      ],
      "metadata": {
        "id": "BBf7PluDsimx"
      },
      "execution_count": 50,
      "outputs": []
    },
    {
      "cell_type": "code",
      "source": [
        "str_idx=StringIndexer(inputCol='letter',outputCol='new_letter')"
      ],
      "metadata": {
        "id": "VSTAwzCEsipo"
      },
      "execution_count": 58,
      "outputs": []
    },
    {
      "cell_type": "code",
      "source": [
        "vect_assm=VectorAssembler(inputCols=['xbox','ybox','width','high','onpix','xbar','ybar','x2bar','y2bar','xybar','x2ybr','xy2br','xege','xegvy','yege','yegvx'],outputCol=\"all_feature\")"
      ],
      "metadata": {
        "id": "CFRoSSumsisV"
      },
      "execution_count": 66,
      "outputs": []
    },
    {
      "cell_type": "code",
      "source": [
        "from pyspark.ml.classification import DecisionTreeClassifier"
      ],
      "metadata": {
        "id": "o_gdHV0vsivF"
      },
      "execution_count": 61,
      "outputs": []
    },
    {
      "cell_type": "code",
      "source": [
        "tree=DecisionTreeClassifier(featuresCol=\"all_feature\",labelCol=\"new_letter\")"
      ],
      "metadata": {
        "id": "1ggoiOqasix-"
      },
      "execution_count": 67,
      "outputs": []
    },
    {
      "cell_type": "code",
      "source": [
        "from pyspark.ml import Pipeline\n",
        "mypipeline=Pipeline(stages=[str_idx,vect_assm,tree])"
      ],
      "metadata": {
        "id": "WNE-YuFtsi0r"
      },
      "execution_count": 68,
      "outputs": []
    },
    {
      "cell_type": "code",
      "source": [
        "training,test=data.randomSplit([0.75,0.25])"
      ],
      "metadata": {
        "id": "kG8Iq_vDsi3h"
      },
      "execution_count": 69,
      "outputs": []
    },
    {
      "cell_type": "code",
      "source": [
        "fittree=mypipeline.fit(training)"
      ],
      "metadata": {
        "id": "8y37lHWpsi6E"
      },
      "execution_count": 70,
      "outputs": []
    },
    {
      "cell_type": "code",
      "source": [
        "#renaming of the column\n",
        "#data= data.withColumnRenamed(\"column_name\",\"new column name\")"
      ],
      "metadata": {
        "id": "uqrH9uoLsi84"
      },
      "execution_count": null,
      "outputs": []
    },
    {
      "cell_type": "code",
      "source": [
        "result=fittree.transform(test)\n",
        "result.show(5)"
      ],
      "metadata": {
        "colab": {
          "base_uri": "https://localhost:8080/"
        },
        "id": "nr--9Br4si_n",
        "outputId": "2194933a-ec80-4db0-ec52-322ea853fa7c"
      },
      "execution_count": 72,
      "outputs": [
        {
          "output_type": "stream",
          "name": "stdout",
          "text": [
            "+------+----+----+-----+----+-----+----+----+-----+-----+-----+-----+-----+----+-----+----+-----+----------+--------------------+--------------------+--------------------+----------+\n",
            "|letter|xbox|ybox|width|high|onpix|xbar|ybar|x2bar|y2bar|xybar|x2ybr|xy2br|xege|xegvy|yege|yegvx|new_letter|         all_feature|       rawPrediction|         probability|prediction|\n",
            "+------+----+----+-----+----+-----+----+----+-----+-----+-----+-----+-----+----+-----+----+-----+----------+--------------------+--------------------+--------------------+----------+\n",
            "|     A|   1|   0|    2|   0|    0|   7|   4|    2|    0|    7|    2|    8|   2|    7|   1|    8|       2.0|[1.0,0.0,2.0,0.0,...|[0.0,0.0,461.0,0....|[0.0,0.0,0.997835...|       2.0|\n",
            "|     A|   1|   0|    2|   0|    0|   7|   4|    2|    0|    7|    2|    8|   2|    7|   1|    8|       2.0|[1.0,0.0,2.0,0.0,...|[0.0,0.0,461.0,0....|[0.0,0.0,0.997835...|       2.0|\n",
            "|     A|   1|   0|    2|   0|    0|   8|   4|    2|    0|    7|    2|    8|   2|    7|   1|    8|       2.0|[1.0,0.0,2.0,0.0,...|[0.0,0.0,461.0,0....|[0.0,0.0,0.997835...|       2.0|\n",
            "|     A|   1|   0|    2|   0|    0|   8|   4|    2|    0|    7|    2|    8|   2|    7|   1|    8|       2.0|[1.0,0.0,2.0,0.0,...|[0.0,0.0,461.0,0....|[0.0,0.0,0.997835...|       2.0|\n",
            "|     A|   1|   0|    2|   1|    0|   7|   4|    2|    0|    7|    2|    8|   2|    7|   1|    8|       2.0|[1.0,0.0,2.0,1.0,...|[0.0,0.0,461.0,0....|[0.0,0.0,0.997835...|       2.0|\n",
            "+------+----+----+-----+----+-----+----+----+-----+-----+-----+-----+-----+----+-----+----+-----+----------+--------------------+--------------------+--------------------+----------+\n",
            "only showing top 5 rows\n",
            "\n"
          ]
        }
      ]
    },
    {
      "cell_type": "code",
      "source": [
        "#\n",
        "MulticlassClassificationEvaluator()"
      ],
      "metadata": {
        "colab": {
          "base_uri": "https://localhost:8080/"
        },
        "id": "MvJUyGHGsjFO",
        "outputId": "d2303615-e627-4a84-bd99-7c09a89add2f"
      },
      "execution_count": 74,
      "outputs": [
        {
          "output_type": "execute_result",
          "data": {
            "text/plain": [
              "MulticlassClassificationEvaluator_5c5c42133530"
            ]
          },
          "metadata": {},
          "execution_count": 74
        }
      ]
    },
    {
      "cell_type": "code",
      "source": [
        "from pyspark.ml.evaluation import MulticlassClassificationEvaluator\n",
        "eval_obj=MulticlassClassificationEvaluator(predictionCol=\"prediction\",labelCol=\"new_letter\")\n",
        "res=eval_obj.evaluate(result)\n",
        "print(res)"
      ],
      "metadata": {
        "colab": {
          "base_uri": "https://localhost:8080/"
        },
        "id": "sa2Ydg7fsjCf",
        "outputId": "7615bfbe-6f31-4d22-8783-16c82c954a38"
      },
      "execution_count": 73,
      "outputs": [
        {
          "output_type": "stream",
          "name": "stdout",
          "text": [
            "0.3233598184407316\n"
          ]
        }
      ]
    },
    {
      "cell_type": "code",
      "source": [
        "eval_obj=MulticlassClassificationEvaluator(predictionCol=\"prediction\",labelCol=\"new_letter\",metricName=\"accuracy\")\n",
        "res=eval_obj.evaluate(result)\n",
        "print(res)"
      ],
      "metadata": {
        "colab": {
          "base_uri": "https://localhost:8080/"
        },
        "id": "jJTU1mKJ2_KO",
        "outputId": "17311a29-dbf4-4e55-c8bc-03eaf7c5ee41"
      },
      "execution_count": 75,
      "outputs": [
        {
          "output_type": "stream",
          "name": "stdout",
          "text": [
            "0.36788899900891975\n"
          ]
        }
      ]
    },
    {
      "cell_type": "code",
      "source": [
        "eval_obj=MulticlassClassificationEvaluator(predictionCol=\"prediction\",labelCol=\"new_letter\",metricName=\"weightedPrecision\")\n",
        "res=eval_obj.evaluate(result)\n",
        "print(res)"
      ],
      "metadata": {
        "colab": {
          "base_uri": "https://localhost:8080/"
        },
        "id": "4ftMO2MfsjII",
        "outputId": "dc8ceed3-7ef6-4786-e01c-f13b33523669"
      },
      "execution_count": 77,
      "outputs": [
        {
          "output_type": "stream",
          "name": "stdout",
          "text": [
            "0.4137523144014273\n"
          ]
        }
      ]
    },
    {
      "cell_type": "code",
      "source": [
        "eval_obj=MulticlassClassificationEvaluator(predictionCol=\"prediction\",labelCol=\"new_letter\",metricName=\"weightedRecall\")\n",
        "res=eval_obj.evaluate(result)\n",
        "print(res)"
      ],
      "metadata": {
        "colab": {
          "base_uri": "https://localhost:8080/"
        },
        "id": "c6rRvmAisjK6",
        "outputId": "1fc77d2b-c9d0-4ae0-fbb4-2a9d320970ec"
      },
      "execution_count": 79,
      "outputs": [
        {
          "output_type": "stream",
          "name": "stdout",
          "text": [
            "0.3678889990089197\n"
          ]
        }
      ]
    },
    {
      "cell_type": "code",
      "source": [
        "metriclist=[\"f1\",\"accuracy\",\"weightedPrecision\",\"weightedRecall\",\"weightedTruePositiveRate\", \"weightedFalsePositiveRate\",\"weightedFMeasure\",\"truePositiveRateByLabel\",\"falsePositiveRateByLabel\",\"precisionByLabel\",\"recallByLabel\",\"fMeasureByLabel\",\"logLoss\",\"hammingLoss\"]\n",
        "for metric in metriclist:\n",
        "  eval_obj=MulticlassClassificationEvaluator(predictionCol=\"prediction\",labelCol=\"new_letter\",metricName=metric)\n",
        "  print(metric,\":\",eval_obj.evaluate(result))\n",
        "\n"
      ],
      "metadata": {
        "colab": {
          "base_uri": "https://localhost:8080/"
        },
        "id": "xPB9dH_BsjNa",
        "outputId": "017eb71c-4999-47c1-d89b-e3d51b34b0c2"
      },
      "execution_count": 80,
      "outputs": [
        {
          "output_type": "stream",
          "name": "stdout",
          "text": [
            "f1 : 0.3233598184407316\n",
            "accuracy : 0.36788899900891975\n",
            "weightedPrecision : 0.4137523144014273\n",
            "weightedRecall : 0.3678889990089197\n",
            "weightedTruePositiveRate : 0.3678889990089197\n",
            "weightedFalsePositiveRate : 0.025874809919870873\n",
            "weightedFMeasure : 0.3233598184407316\n",
            "truePositiveRateByLabel : 0.8325123152709359\n",
            "falsePositiveRateByLabel : 0.1493184634448575\n",
            "precisionByLabel : 0.18946188340807174\n",
            "recallByLabel : 0.8325123152709359\n",
            "fMeasureByLabel : 0.308675799086758\n",
            "logLoss : 2.0660805099632853\n",
            "hammingLoss : 0.6321110009910803\n"
          ]
        }
      ]
    },
    {
      "cell_type": "code",
      "source": [
        "07/05/2022"
      ],
      "metadata": {
        "id": "-golxWPYsjQJ"
      },
      "execution_count": null,
      "outputs": []
    },
    {
      "cell_type": "markdown",
      "source": [
        "# Regression problem"
      ],
      "metadata": {
        "id": "c3YadagM7OWq"
      }
    },
    {
      "cell_type": "code",
      "source": [
        "df=session.read.csv(\"energy_cooling.csv\",header=True,inferSchema=True)"
      ],
      "metadata": {
        "id": "cYpiD_P66kf_"
      },
      "execution_count": 81,
      "outputs": []
    },
    {
      "cell_type": "code",
      "source": [
        "df.show(5)"
      ],
      "metadata": {
        "colab": {
          "base_uri": "https://localhost:8080/"
        },
        "id": "uUFPKsun6kkG",
        "outputId": "e539744c-6785-491d-a90b-94ab904f2037"
      },
      "execution_count": 82,
      "outputs": [
        {
          "output_type": "stream",
          "name": "stdout",
          "text": [
            "+----+-----+-----+------+---+---+---+---+-----+\n",
            "|  X1|   X2|   X3|    X4| X5| X6| X7| X8|   Y2|\n",
            "+----+-----+-----+------+---+---+---+---+-----+\n",
            "|0.98|514.5|294.0|110.25|7.0|  2|0.0|  0|21.33|\n",
            "|0.98|514.5|294.0|110.25|7.0|  3|0.0|  0|21.33|\n",
            "|0.98|514.5|294.0|110.25|7.0|  4|0.0|  0|21.33|\n",
            "|0.98|514.5|294.0|110.25|7.0|  5|0.0|  0|21.33|\n",
            "| 0.9|563.5|318.5| 122.5|7.0|  2|0.0|  0|28.28|\n",
            "+----+-----+-----+------+---+---+---+---+-----+\n",
            "only showing top 5 rows\n",
            "\n"
          ]
        }
      ]
    },
    {
      "cell_type": "code",
      "source": [
        "df.dtypes"
      ],
      "metadata": {
        "colab": {
          "base_uri": "https://localhost:8080/"
        },
        "id": "Ju-cUXMX6kmR",
        "outputId": "84d16afd-e5e2-4624-ee1c-8faad1312c07"
      },
      "execution_count": 85,
      "outputs": [
        {
          "output_type": "execute_result",
          "data": {
            "text/plain": [
              "[('X1', 'double'),\n",
              " ('X2', 'double'),\n",
              " ('X3', 'double'),\n",
              " ('X4', 'double'),\n",
              " ('X5', 'double'),\n",
              " ('X6', 'int'),\n",
              " ('X7', 'double'),\n",
              " ('X8', 'int'),\n",
              " ('Y2', 'double')]"
            ]
          },
          "metadata": {},
          "execution_count": 85
        }
      ]
    },
    {
      "cell_type": "code",
      "source": [
        "df.describe()"
      ],
      "metadata": {
        "colab": {
          "base_uri": "https://localhost:8080/"
        },
        "id": "Lnz6BQfL6koG",
        "outputId": "0807e45d-20d0-4592-e520-b594032ed8ac"
      },
      "execution_count": 86,
      "outputs": [
        {
          "output_type": "execute_result",
          "data": {
            "text/plain": [
              "DataFrame[summary: string, X1: string, X2: string, X3: string, X4: string, X5: string, X6: string, X7: string, X8: string, Y2: string]"
            ]
          },
          "metadata": {},
          "execution_count": 86
        }
      ]
    },
    {
      "cell_type": "code",
      "source": [
        "df.printSchema()"
      ],
      "metadata": {
        "colab": {
          "base_uri": "https://localhost:8080/"
        },
        "id": "CDUM-Pu06kql",
        "outputId": "ae6a7a46-03d2-499b-daa1-372747437d6b"
      },
      "execution_count": 87,
      "outputs": [
        {
          "output_type": "stream",
          "name": "stdout",
          "text": [
            "root\n",
            " |-- X1: double (nullable = true)\n",
            " |-- X2: double (nullable = true)\n",
            " |-- X3: double (nullable = true)\n",
            " |-- X4: double (nullable = true)\n",
            " |-- X5: double (nullable = true)\n",
            " |-- X6: integer (nullable = true)\n",
            " |-- X7: double (nullable = true)\n",
            " |-- X8: integer (nullable = true)\n",
            " |-- Y2: double (nullable = true)\n",
            "\n"
          ]
        }
      ]
    },
    {
      "cell_type": "code",
      "source": [
        "from pyspark.ml.feature import VectorAssembler\n",
        "vect=VectorAssembler(inputCols=['X1','X2','X3','X4','X5','X6','X7','X8'],outputCol=\"all_feature\")"
      ],
      "metadata": {
        "id": "rMAK7xyd6ksp"
      },
      "execution_count": 93,
      "outputs": []
    },
    {
      "cell_type": "code",
      "source": [
        "from pyspark.ml.regression import LinearRegression\n",
        "model=LinearRegression(featuresCol=\"all_feature\",labelCol=\"Y2\")"
      ],
      "metadata": {
        "id": "Fkm2dE516ku2"
      },
      "execution_count": 94,
      "outputs": []
    },
    {
      "cell_type": "code",
      "source": [
        "from pyspark.ml import Pipeline\n",
        "mypipeline2=Pipeline(stages=[vect,model])"
      ],
      "metadata": {
        "id": "PsHOKI666kxd"
      },
      "execution_count": 95,
      "outputs": []
    },
    {
      "cell_type": "code",
      "source": [
        "training,test=df.randomSplit([0.8,0.2])\n",
        "fitmodel=mypipeline2.fit(training)"
      ],
      "metadata": {
        "id": "GM0XzZJ_6k03"
      },
      "execution_count": 96,
      "outputs": []
    },
    {
      "cell_type": "code",
      "source": [
        "result=fitmodel.transform(test)\n",
        "result.show(5)"
      ],
      "metadata": {
        "colab": {
          "base_uri": "https://localhost:8080/"
        },
        "id": "pVoV8Pc4sjS3",
        "outputId": "3208023c-5989-4f0c-bb8f-0fbb665ea259"
      },
      "execution_count": 97,
      "outputs": [
        {
          "output_type": "stream",
          "name": "stdout",
          "text": [
            "+----+-----+-----+-----+---+---+----+---+-----+--------------------+------------------+\n",
            "|  X1|   X2|   X3|   X4| X5| X6|  X7| X8|   Y2|         all_feature|        prediction|\n",
            "+----+-----+-----+-----+---+---+----+---+-----+--------------------+------------------+\n",
            "|0.62|808.5|367.5|220.5|3.5|  2| 0.1|  1|14.34|[0.62,808.5,367.5...| 15.25424748160792|\n",
            "|0.62|808.5|367.5|220.5|3.5|  2| 0.1|  4|14.37|[0.62,808.5,367.5...|15.317033907897141|\n",
            "|0.62|808.5|367.5|220.5|3.5|  3| 0.1|  5|13.97|[0.62,808.5,367.5...|15.368268629062797|\n",
            "|0.62|808.5|367.5|220.5|3.5|  3|0.25|  1|15.95|[0.62,808.5,367.5...| 17.45194716470057|\n",
            "|0.62|808.5|367.5|220.5|3.5|  3|0.25|  3|14.96|[0.62,808.5,367.5...|17.493804782226718|\n",
            "+----+-----+-----+-----+---+---+----+---+-----+--------------------+------------------+\n",
            "only showing top 5 rows\n",
            "\n"
          ]
        }
      ]
    },
    {
      "cell_type": "code",
      "source": [
        "from pyspark.ml.evaluation import RegressionEvaluator\n",
        "reg_eval=RegressionEvaluator(predictionCol=\"prediction\",labelCol=\"Y2\")\n",
        "accuracy=reg_eval.evaluate(result)\n",
        "print(accuracy)"
      ],
      "metadata": {
        "colab": {
          "base_uri": "https://localhost:8080/"
        },
        "id": "V0FAxme8sjWL",
        "outputId": "060465cd-7809-45dd-b7e7-267a14296b8f"
      },
      "execution_count": 99,
      "outputs": [
        {
          "output_type": "stream",
          "name": "stdout",
          "text": [
            "3.387097175445811\n"
          ]
        }
      ]
    },
    {
      "cell_type": "code",
      "source": [
        "metric_l=[\"rmse\",\"mse\",\"mae\",\"r2\"]\n",
        "for metric in metric_l:\n",
        "  reg_eval=RegressionEvaluator(predictionCol=\"prediction\",labelCol=\"Y2\",metricName=metric)\n",
        "  accuracy=reg_eval.evaluate(result)\n",
        "  print(metric,\":\",accuracy)\n",
        "\n"
      ],
      "metadata": {
        "colab": {
          "base_uri": "https://localhost:8080/"
        },
        "id": "YQpXxVDTsjYk",
        "outputId": "7bd5b1cb-47ff-45b6-8f5a-9222c2edba5f"
      },
      "execution_count": 100,
      "outputs": [
        {
          "output_type": "stream",
          "name": "stdout",
          "text": [
            "rmse : 3.387097175445811\n",
            "mse : 11.472427275912992\n",
            "mae : 2.3445397488875526\n",
            "r2 : 0.8740290571136552\n"
          ]
        }
      ]
    },
    {
      "cell_type": "code",
      "source": [
        ""
      ],
      "metadata": {
        "id": "JQ-6i1J6sjbX"
      },
      "execution_count": null,
      "outputs": []
    },
    {
      "cell_type": "code",
      "source": [
        ""
      ],
      "metadata": {
        "id": "oNtd2Ju6sjeO"
      },
      "execution_count": null,
      "outputs": []
    },
    {
      "cell_type": "code",
      "source": [
        ""
      ],
      "metadata": {
        "id": "z8-ea-e9sjhF"
      },
      "execution_count": null,
      "outputs": []
    },
    {
      "cell_type": "code",
      "source": [
        ""
      ],
      "metadata": {
        "id": "oCzgbbFgsjkE"
      },
      "execution_count": null,
      "outputs": []
    },
    {
      "cell_type": "code",
      "source": [
        ""
      ],
      "metadata": {
        "id": "uFw8kwyWsjnE"
      },
      "execution_count": null,
      "outputs": []
    },
    {
      "cell_type": "code",
      "source": [
        ""
      ],
      "metadata": {
        "id": "4STMzG0lsjpq"
      },
      "execution_count": null,
      "outputs": []
    },
    {
      "cell_type": "code",
      "source": [
        ""
      ],
      "metadata": {
        "id": "CsBJu66Ssjsv"
      },
      "execution_count": null,
      "outputs": []
    },
    {
      "cell_type": "code",
      "source": [
        ""
      ],
      "metadata": {
        "id": "j4wv5mMksjvg"
      },
      "execution_count": null,
      "outputs": []
    },
    {
      "cell_type": "code",
      "source": [
        ""
      ],
      "metadata": {
        "id": "qmG4pL8VsjzE"
      },
      "execution_count": null,
      "outputs": []
    },
    {
      "cell_type": "code",
      "source": [
        ""
      ],
      "metadata": {
        "id": "UHCAiXD9sj4n"
      },
      "execution_count": null,
      "outputs": []
    }
  ]
}