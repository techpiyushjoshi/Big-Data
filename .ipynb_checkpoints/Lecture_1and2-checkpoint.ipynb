{
 "cells": [
  {
   "cell_type": "markdown",
   "id": "37e74250",
   "metadata": {},
   "source": [
    "# Big Data by Prof. Bharti Motwani \n",
    "## Lecture 1\n",
    "19/2/22 2-4 PM\n",
    "1.\tMySQL, R, Jupyter Notebook\n",
    "2.\tPython on Jupyter Notebook\n"
   ]
  },
  {
   "cell_type": "raw",
   "id": "6a40d916",
   "metadata": {},
   "source": [
    "import is keyword to import library in Python\n",
    "os is operating system is a library"
   ]
  },
  {
   "cell_type": "code",
   "execution_count": 1,
   "id": "a3c1e594",
   "metadata": {},
   "outputs": [
    {
     "data": {
      "text/plain": [
       "'E:\\\\SDSF\\\\Second Semester\\\\Big Data'"
      ]
     },
     "execution_count": 1,
     "metadata": {},
     "output_type": "execute_result"
    }
   ],
   "source": [
    "import os\n",
    "os.getcwd() #gives current working directory, tells us where python has accessed"
   ]
  },
  {
   "cell_type": "code",
   "execution_count": 3,
   "id": "04216f07",
   "metadata": {},
   "outputs": [
    {
     "data": {
      "text/html": [
       "<div>\n",
       "<style scoped>\n",
       "    .dataframe tbody tr th:only-of-type {\n",
       "        vertical-align: middle;\n",
       "    }\n",
       "\n",
       "    .dataframe tbody tr th {\n",
       "        vertical-align: top;\n",
       "    }\n",
       "\n",
       "    .dataframe thead th {\n",
       "        text-align: right;\n",
       "    }\n",
       "</style>\n",
       "<table border=\"1\" class=\"dataframe\">\n",
       "  <thead>\n",
       "    <tr style=\"text-align: right;\">\n",
       "      <th></th>\n",
       "      <th>Age</th>\n",
       "      <th>Attrition</th>\n",
       "      <th>BusinessTravel</th>\n",
       "      <th>DailyRate</th>\n",
       "      <th>Department</th>\n",
       "      <th>DistanceFromHome</th>\n",
       "      <th>Education</th>\n",
       "      <th>EducationField</th>\n",
       "      <th>EmployeeCount</th>\n",
       "      <th>EmployeeNumber</th>\n",
       "      <th>...</th>\n",
       "      <th>RelationshipSatisfaction</th>\n",
       "      <th>StandardHours</th>\n",
       "      <th>StockOptionLevel</th>\n",
       "      <th>TotalWorkingYears</th>\n",
       "      <th>TrainingTimesLastYear</th>\n",
       "      <th>WorkLifeBalance</th>\n",
       "      <th>YearsAtCompany</th>\n",
       "      <th>YearsInCurrentRole</th>\n",
       "      <th>YearsSinceLastPromotion</th>\n",
       "      <th>YearsWithCurrManager</th>\n",
       "    </tr>\n",
       "  </thead>\n",
       "  <tbody>\n",
       "    <tr>\n",
       "      <th>0</th>\n",
       "      <td>41</td>\n",
       "      <td>Yes</td>\n",
       "      <td>Travel_Rarely</td>\n",
       "      <td>1102</td>\n",
       "      <td>Sales</td>\n",
       "      <td>1</td>\n",
       "      <td>2</td>\n",
       "      <td>Life Sciences</td>\n",
       "      <td>1</td>\n",
       "      <td>1</td>\n",
       "      <td>...</td>\n",
       "      <td>1</td>\n",
       "      <td>80</td>\n",
       "      <td>0</td>\n",
       "      <td>8</td>\n",
       "      <td>0</td>\n",
       "      <td>1</td>\n",
       "      <td>6</td>\n",
       "      <td>4</td>\n",
       "      <td>0</td>\n",
       "      <td>5</td>\n",
       "    </tr>\n",
       "    <tr>\n",
       "      <th>1</th>\n",
       "      <td>49</td>\n",
       "      <td>No</td>\n",
       "      <td>Travel_Frequently</td>\n",
       "      <td>279</td>\n",
       "      <td>Research &amp; Development</td>\n",
       "      <td>8</td>\n",
       "      <td>1</td>\n",
       "      <td>Life Sciences</td>\n",
       "      <td>1</td>\n",
       "      <td>2</td>\n",
       "      <td>...</td>\n",
       "      <td>4</td>\n",
       "      <td>80</td>\n",
       "      <td>1</td>\n",
       "      <td>10</td>\n",
       "      <td>3</td>\n",
       "      <td>3</td>\n",
       "      <td>10</td>\n",
       "      <td>7</td>\n",
       "      <td>1</td>\n",
       "      <td>7</td>\n",
       "    </tr>\n",
       "    <tr>\n",
       "      <th>2</th>\n",
       "      <td>37</td>\n",
       "      <td>Yes</td>\n",
       "      <td>Travel_Rarely</td>\n",
       "      <td>1373</td>\n",
       "      <td>Research &amp; Development</td>\n",
       "      <td>2</td>\n",
       "      <td>2</td>\n",
       "      <td>Other</td>\n",
       "      <td>1</td>\n",
       "      <td>4</td>\n",
       "      <td>...</td>\n",
       "      <td>2</td>\n",
       "      <td>80</td>\n",
       "      <td>0</td>\n",
       "      <td>7</td>\n",
       "      <td>3</td>\n",
       "      <td>3</td>\n",
       "      <td>0</td>\n",
       "      <td>0</td>\n",
       "      <td>0</td>\n",
       "      <td>0</td>\n",
       "    </tr>\n",
       "    <tr>\n",
       "      <th>3</th>\n",
       "      <td>33</td>\n",
       "      <td>No</td>\n",
       "      <td>Travel_Frequently</td>\n",
       "      <td>1392</td>\n",
       "      <td>Research &amp; Development</td>\n",
       "      <td>3</td>\n",
       "      <td>4</td>\n",
       "      <td>Life Sciences</td>\n",
       "      <td>1</td>\n",
       "      <td>5</td>\n",
       "      <td>...</td>\n",
       "      <td>3</td>\n",
       "      <td>80</td>\n",
       "      <td>0</td>\n",
       "      <td>8</td>\n",
       "      <td>3</td>\n",
       "      <td>3</td>\n",
       "      <td>8</td>\n",
       "      <td>7</td>\n",
       "      <td>3</td>\n",
       "      <td>0</td>\n",
       "    </tr>\n",
       "    <tr>\n",
       "      <th>4</th>\n",
       "      <td>27</td>\n",
       "      <td>No</td>\n",
       "      <td>Travel_Rarely</td>\n",
       "      <td>591</td>\n",
       "      <td>Research &amp; Development</td>\n",
       "      <td>2</td>\n",
       "      <td>1</td>\n",
       "      <td>Medical</td>\n",
       "      <td>1</td>\n",
       "      <td>7</td>\n",
       "      <td>...</td>\n",
       "      <td>4</td>\n",
       "      <td>80</td>\n",
       "      <td>1</td>\n",
       "      <td>6</td>\n",
       "      <td>3</td>\n",
       "      <td>3</td>\n",
       "      <td>2</td>\n",
       "      <td>2</td>\n",
       "      <td>2</td>\n",
       "      <td>2</td>\n",
       "    </tr>\n",
       "    <tr>\n",
       "      <th>...</th>\n",
       "      <td>...</td>\n",
       "      <td>...</td>\n",
       "      <td>...</td>\n",
       "      <td>...</td>\n",
       "      <td>...</td>\n",
       "      <td>...</td>\n",
       "      <td>...</td>\n",
       "      <td>...</td>\n",
       "      <td>...</td>\n",
       "      <td>...</td>\n",
       "      <td>...</td>\n",
       "      <td>...</td>\n",
       "      <td>...</td>\n",
       "      <td>...</td>\n",
       "      <td>...</td>\n",
       "      <td>...</td>\n",
       "      <td>...</td>\n",
       "      <td>...</td>\n",
       "      <td>...</td>\n",
       "      <td>...</td>\n",
       "      <td>...</td>\n",
       "    </tr>\n",
       "    <tr>\n",
       "      <th>1465</th>\n",
       "      <td>36</td>\n",
       "      <td>No</td>\n",
       "      <td>Travel_Frequently</td>\n",
       "      <td>884</td>\n",
       "      <td>Research &amp; Development</td>\n",
       "      <td>23</td>\n",
       "      <td>2</td>\n",
       "      <td>Medical</td>\n",
       "      <td>1</td>\n",
       "      <td>2061</td>\n",
       "      <td>...</td>\n",
       "      <td>3</td>\n",
       "      <td>80</td>\n",
       "      <td>1</td>\n",
       "      <td>17</td>\n",
       "      <td>3</td>\n",
       "      <td>3</td>\n",
       "      <td>5</td>\n",
       "      <td>2</td>\n",
       "      <td>0</td>\n",
       "      <td>3</td>\n",
       "    </tr>\n",
       "    <tr>\n",
       "      <th>1466</th>\n",
       "      <td>39</td>\n",
       "      <td>No</td>\n",
       "      <td>Travel_Rarely</td>\n",
       "      <td>613</td>\n",
       "      <td>Research &amp; Development</td>\n",
       "      <td>6</td>\n",
       "      <td>1</td>\n",
       "      <td>Medical</td>\n",
       "      <td>1</td>\n",
       "      <td>2062</td>\n",
       "      <td>...</td>\n",
       "      <td>1</td>\n",
       "      <td>80</td>\n",
       "      <td>1</td>\n",
       "      <td>9</td>\n",
       "      <td>5</td>\n",
       "      <td>3</td>\n",
       "      <td>7</td>\n",
       "      <td>7</td>\n",
       "      <td>1</td>\n",
       "      <td>7</td>\n",
       "    </tr>\n",
       "    <tr>\n",
       "      <th>1467</th>\n",
       "      <td>27</td>\n",
       "      <td>No</td>\n",
       "      <td>Travel_Rarely</td>\n",
       "      <td>155</td>\n",
       "      <td>Research &amp; Development</td>\n",
       "      <td>4</td>\n",
       "      <td>3</td>\n",
       "      <td>Life Sciences</td>\n",
       "      <td>1</td>\n",
       "      <td>2064</td>\n",
       "      <td>...</td>\n",
       "      <td>2</td>\n",
       "      <td>80</td>\n",
       "      <td>1</td>\n",
       "      <td>6</td>\n",
       "      <td>0</td>\n",
       "      <td>3</td>\n",
       "      <td>6</td>\n",
       "      <td>2</td>\n",
       "      <td>0</td>\n",
       "      <td>3</td>\n",
       "    </tr>\n",
       "    <tr>\n",
       "      <th>1468</th>\n",
       "      <td>49</td>\n",
       "      <td>No</td>\n",
       "      <td>Travel_Frequently</td>\n",
       "      <td>1023</td>\n",
       "      <td>Sales</td>\n",
       "      <td>2</td>\n",
       "      <td>3</td>\n",
       "      <td>Medical</td>\n",
       "      <td>1</td>\n",
       "      <td>2065</td>\n",
       "      <td>...</td>\n",
       "      <td>4</td>\n",
       "      <td>80</td>\n",
       "      <td>0</td>\n",
       "      <td>17</td>\n",
       "      <td>3</td>\n",
       "      <td>2</td>\n",
       "      <td>9</td>\n",
       "      <td>6</td>\n",
       "      <td>0</td>\n",
       "      <td>8</td>\n",
       "    </tr>\n",
       "    <tr>\n",
       "      <th>1469</th>\n",
       "      <td>34</td>\n",
       "      <td>No</td>\n",
       "      <td>Travel_Rarely</td>\n",
       "      <td>628</td>\n",
       "      <td>Research &amp; Development</td>\n",
       "      <td>8</td>\n",
       "      <td>3</td>\n",
       "      <td>Medical</td>\n",
       "      <td>1</td>\n",
       "      <td>2068</td>\n",
       "      <td>...</td>\n",
       "      <td>1</td>\n",
       "      <td>80</td>\n",
       "      <td>0</td>\n",
       "      <td>6</td>\n",
       "      <td>3</td>\n",
       "      <td>4</td>\n",
       "      <td>4</td>\n",
       "      <td>3</td>\n",
       "      <td>1</td>\n",
       "      <td>2</td>\n",
       "    </tr>\n",
       "  </tbody>\n",
       "</table>\n",
       "<p>1470 rows × 35 columns</p>\n",
       "</div>"
      ],
      "text/plain": [
       "      Age Attrition     BusinessTravel  DailyRate              Department  \\\n",
       "0      41       Yes      Travel_Rarely       1102                   Sales   \n",
       "1      49        No  Travel_Frequently        279  Research & Development   \n",
       "2      37       Yes      Travel_Rarely       1373  Research & Development   \n",
       "3      33        No  Travel_Frequently       1392  Research & Development   \n",
       "4      27        No      Travel_Rarely        591  Research & Development   \n",
       "...   ...       ...                ...        ...                     ...   \n",
       "1465   36        No  Travel_Frequently        884  Research & Development   \n",
       "1466   39        No      Travel_Rarely        613  Research & Development   \n",
       "1467   27        No      Travel_Rarely        155  Research & Development   \n",
       "1468   49        No  Travel_Frequently       1023                   Sales   \n",
       "1469   34        No      Travel_Rarely        628  Research & Development   \n",
       "\n",
       "      DistanceFromHome  Education EducationField  EmployeeCount  \\\n",
       "0                    1          2  Life Sciences              1   \n",
       "1                    8          1  Life Sciences              1   \n",
       "2                    2          2          Other              1   \n",
       "3                    3          4  Life Sciences              1   \n",
       "4                    2          1        Medical              1   \n",
       "...                ...        ...            ...            ...   \n",
       "1465                23          2        Medical              1   \n",
       "1466                 6          1        Medical              1   \n",
       "1467                 4          3  Life Sciences              1   \n",
       "1468                 2          3        Medical              1   \n",
       "1469                 8          3        Medical              1   \n",
       "\n",
       "      EmployeeNumber  ...  RelationshipSatisfaction StandardHours  \\\n",
       "0                  1  ...                         1            80   \n",
       "1                  2  ...                         4            80   \n",
       "2                  4  ...                         2            80   \n",
       "3                  5  ...                         3            80   \n",
       "4                  7  ...                         4            80   \n",
       "...              ...  ...                       ...           ...   \n",
       "1465            2061  ...                         3            80   \n",
       "1466            2062  ...                         1            80   \n",
       "1467            2064  ...                         2            80   \n",
       "1468            2065  ...                         4            80   \n",
       "1469            2068  ...                         1            80   \n",
       "\n",
       "      StockOptionLevel  TotalWorkingYears  TrainingTimesLastYear  \\\n",
       "0                    0                  8                      0   \n",
       "1                    1                 10                      3   \n",
       "2                    0                  7                      3   \n",
       "3                    0                  8                      3   \n",
       "4                    1                  6                      3   \n",
       "...                ...                ...                    ...   \n",
       "1465                 1                 17                      3   \n",
       "1466                 1                  9                      5   \n",
       "1467                 1                  6                      0   \n",
       "1468                 0                 17                      3   \n",
       "1469                 0                  6                      3   \n",
       "\n",
       "     WorkLifeBalance  YearsAtCompany YearsInCurrentRole  \\\n",
       "0                  1               6                  4   \n",
       "1                  3              10                  7   \n",
       "2                  3               0                  0   \n",
       "3                  3               8                  7   \n",
       "4                  3               2                  2   \n",
       "...              ...             ...                ...   \n",
       "1465               3               5                  2   \n",
       "1466               3               7                  7   \n",
       "1467               3               6                  2   \n",
       "1468               2               9                  6   \n",
       "1469               4               4                  3   \n",
       "\n",
       "      YearsSinceLastPromotion  YearsWithCurrManager  \n",
       "0                           0                     5  \n",
       "1                           1                     7  \n",
       "2                           0                     0  \n",
       "3                           3                     0  \n",
       "4                           2                     2  \n",
       "...                       ...                   ...  \n",
       "1465                        0                     3  \n",
       "1466                        1                     7  \n",
       "1467                        0                     3  \n",
       "1468                        0                     8  \n",
       "1469                        1                     2  \n",
       "\n",
       "[1470 rows x 35 columns]"
      ]
     },
     "execution_count": 3,
     "metadata": {},
     "output_type": "execute_result"
    }
   ],
   "source": [
    "import pandas\n",
    "data=pandas.read_csv('IBMdata.csv')\n",
    "data"
   ]
  },
  {
   "cell_type": "code",
   "execution_count": 4,
   "id": "9482b31d",
   "metadata": {},
   "outputs": [
    {
     "data": {
      "text/plain": [
       "(1470, 35)"
      ]
     },
     "execution_count": 4,
     "metadata": {},
     "output_type": "execute_result"
    }
   ],
   "source": [
    "data.shape #tells us about the number of rows and columns"
   ]
  },
  {
   "cell_type": "code",
   "execution_count": 6,
   "id": "6ad1d4cd",
   "metadata": {},
   "outputs": [
    {
     "ename": "TypeError",
     "evalue": "'tuple' object is not callable",
     "output_type": "error",
     "traceback": [
      "\u001b[1;31m---------------------------------------------------------------------------\u001b[0m",
      "\u001b[1;31mTypeError\u001b[0m                                 Traceback (most recent call last)",
      "Input \u001b[1;32mIn [6]\u001b[0m, in \u001b[0;36m<cell line: 1>\u001b[1;34m()\u001b[0m\n\u001b[1;32m----> 1\u001b[0m \u001b[43mdata\u001b[49m\u001b[38;5;241;43m.\u001b[39;49m\u001b[43mshape\u001b[49m\u001b[43m(\u001b[49m\u001b[43m)\u001b[49m\n",
      "\u001b[1;31mTypeError\u001b[0m: 'tuple' object is not callable"
     ]
    }
   ],
   "source": [
    "data.shape() #is wrong"
   ]
  },
  {
   "cell_type": "code",
   "execution_count": 9,
   "id": "1fc51a59",
   "metadata": {},
   "outputs": [
    {
     "data": {
      "text/html": [
       "<div>\n",
       "<style scoped>\n",
       "    .dataframe tbody tr th:only-of-type {\n",
       "        vertical-align: middle;\n",
       "    }\n",
       "\n",
       "    .dataframe tbody tr th {\n",
       "        vertical-align: top;\n",
       "    }\n",
       "\n",
       "    .dataframe thead th {\n",
       "        text-align: right;\n",
       "    }\n",
       "</style>\n",
       "<table border=\"1\" class=\"dataframe\">\n",
       "  <thead>\n",
       "    <tr style=\"text-align: right;\">\n",
       "      <th></th>\n",
       "      <th>Age</th>\n",
       "      <th>Attrition</th>\n",
       "      <th>BusinessTravel</th>\n",
       "      <th>DailyRate</th>\n",
       "      <th>Department</th>\n",
       "      <th>DistanceFromHome</th>\n",
       "      <th>Education</th>\n",
       "      <th>EducationField</th>\n",
       "      <th>EmployeeCount</th>\n",
       "      <th>EmployeeNumber</th>\n",
       "      <th>...</th>\n",
       "      <th>RelationshipSatisfaction</th>\n",
       "      <th>StandardHours</th>\n",
       "      <th>StockOptionLevel</th>\n",
       "      <th>TotalWorkingYears</th>\n",
       "      <th>TrainingTimesLastYear</th>\n",
       "      <th>WorkLifeBalance</th>\n",
       "      <th>YearsAtCompany</th>\n",
       "      <th>YearsInCurrentRole</th>\n",
       "      <th>YearsSinceLastPromotion</th>\n",
       "      <th>YearsWithCurrManager</th>\n",
       "    </tr>\n",
       "  </thead>\n",
       "  <tbody>\n",
       "    <tr>\n",
       "      <th>0</th>\n",
       "      <td>41</td>\n",
       "      <td>Yes</td>\n",
       "      <td>Travel_Rarely</td>\n",
       "      <td>1102</td>\n",
       "      <td>Sales</td>\n",
       "      <td>1</td>\n",
       "      <td>2</td>\n",
       "      <td>Life Sciences</td>\n",
       "      <td>1</td>\n",
       "      <td>1</td>\n",
       "      <td>...</td>\n",
       "      <td>1</td>\n",
       "      <td>80</td>\n",
       "      <td>0</td>\n",
       "      <td>8</td>\n",
       "      <td>0</td>\n",
       "      <td>1</td>\n",
       "      <td>6</td>\n",
       "      <td>4</td>\n",
       "      <td>0</td>\n",
       "      <td>5</td>\n",
       "    </tr>\n",
       "    <tr>\n",
       "      <th>1</th>\n",
       "      <td>49</td>\n",
       "      <td>No</td>\n",
       "      <td>Travel_Frequently</td>\n",
       "      <td>279</td>\n",
       "      <td>Research &amp; Development</td>\n",
       "      <td>8</td>\n",
       "      <td>1</td>\n",
       "      <td>Life Sciences</td>\n",
       "      <td>1</td>\n",
       "      <td>2</td>\n",
       "      <td>...</td>\n",
       "      <td>4</td>\n",
       "      <td>80</td>\n",
       "      <td>1</td>\n",
       "      <td>10</td>\n",
       "      <td>3</td>\n",
       "      <td>3</td>\n",
       "      <td>10</td>\n",
       "      <td>7</td>\n",
       "      <td>1</td>\n",
       "      <td>7</td>\n",
       "    </tr>\n",
       "  </tbody>\n",
       "</table>\n",
       "<p>2 rows × 35 columns</p>\n",
       "</div>"
      ],
      "text/plain": [
       "   Age Attrition     BusinessTravel  DailyRate              Department  \\\n",
       "0   41       Yes      Travel_Rarely       1102                   Sales   \n",
       "1   49        No  Travel_Frequently        279  Research & Development   \n",
       "\n",
       "   DistanceFromHome  Education EducationField  EmployeeCount  EmployeeNumber  \\\n",
       "0                 1          2  Life Sciences              1               1   \n",
       "1                 8          1  Life Sciences              1               2   \n",
       "\n",
       "   ...  RelationshipSatisfaction StandardHours  StockOptionLevel  \\\n",
       "0  ...                         1            80                 0   \n",
       "1  ...                         4            80                 1   \n",
       "\n",
       "   TotalWorkingYears  TrainingTimesLastYear WorkLifeBalance  YearsAtCompany  \\\n",
       "0                  8                      0               1               6   \n",
       "1                 10                      3               3              10   \n",
       "\n",
       "  YearsInCurrentRole  YearsSinceLastPromotion  YearsWithCurrManager  \n",
       "0                  4                        0                     5  \n",
       "1                  7                        1                     7  \n",
       "\n",
       "[2 rows x 35 columns]"
      ]
     },
     "execution_count": 9,
     "metadata": {},
     "output_type": "execute_result"
    }
   ],
   "source": [
    "data.head(2) #argument specifies number of records to display by default its 5"
   ]
  },
  {
   "cell_type": "code",
   "execution_count": 10,
   "id": "14502ce8",
   "metadata": {},
   "outputs": [
    {
     "ename": "ModuleNotFoundError",
     "evalue": "No module named 'sqlalchemy'",
     "output_type": "error",
     "traceback": [
      "\u001b[1;31m---------------------------------------------------------------------------\u001b[0m",
      "\u001b[1;31mModuleNotFoundError\u001b[0m                       Traceback (most recent call last)",
      "Input \u001b[1;32mIn [10]\u001b[0m, in \u001b[0;36m<cell line: 1>\u001b[1;34m()\u001b[0m\n\u001b[1;32m----> 1\u001b[0m \u001b[38;5;28;01mimport\u001b[39;00m \u001b[38;5;21;01msqlalchemy\u001b[39;00m\n",
      "\u001b[1;31mModuleNotFoundError\u001b[0m: No module named 'sqlalchemy'"
     ]
    }
   ],
   "source": [
    "import sqlalchemy"
   ]
  },
  {
   "cell_type": "code",
   "execution_count": 11,
   "id": "be5cc034",
   "metadata": {},
   "outputs": [
    {
     "name": "stdout",
     "output_type": "stream",
     "text": [
      "Collecting sqlalchemyNote: you may need to restart the kernel to use updated packages.\n",
      "\n",
      "  Downloading SQLAlchemy-1.4.34-cp310-cp310-win_amd64.whl (1.6 MB)\n",
      "     ---------------------------------------- 1.6/1.6 MB 3.1 MB/s eta 0:00:00\n",
      "Collecting greenlet!=0.4.17\n",
      "  Downloading greenlet-1.1.2-cp310-cp310-win_amd64.whl (101 kB)\n",
      "     -------------------------------------- 102.0/102.0 KB 5.7 MB/s eta 0:00:00\n",
      "Installing collected packages: greenlet, sqlalchemy\n",
      "Successfully installed greenlet-1.1.2 sqlalchemy-1.4.34\n"
     ]
    }
   ],
   "source": [
    "pip install sqlalchemy"
   ]
  },
  {
   "cell_type": "code",
   "execution_count": 13,
   "id": "2b9b80c9",
   "metadata": {},
   "outputs": [],
   "source": [
    "import sqlalchemy #library for SQL which helps us to perform SQL commands on data"
   ]
  },
  {
   "cell_type": "code",
   "execution_count": 23,
   "id": "28192188",
   "metadata": {},
   "outputs": [],
   "source": [
    "engine=sqlalchemy.create_engine('sqlite://',echo=False)"
   ]
  },
  {
   "cell_type": "code",
   "execution_count": 24,
   "id": "9b859839",
   "metadata": {},
   "outputs": [
    {
     "data": {
      "text/plain": [
       "1470"
      ]
     },
     "execution_count": 24,
     "metadata": {},
     "output_type": "execute_result"
    }
   ],
   "source": [
    "data.to_sql('mytable',con=engine)"
   ]
  },
  {
   "cell_type": "code",
   "execution_count": 25,
   "id": "576999b4",
   "metadata": {},
   "outputs": [
    {
     "data": {
      "text/plain": [
       "(0, 41, 'Yes', 'Travel_Rarely', 1102, 'Sales', 1, 2, 'Life Sciences', 1, 1, 2, 'Female', 94, 3, 2, 'Sales Executive', 4, 'Single', 5993, 19479, 8, 'Y', 'Yes', 11, 3, 1, 80, 0, 8, 0, 1, 6, 4, 0, 5)"
      ]
     },
     "execution_count": 25,
     "metadata": {},
     "output_type": "execute_result"
    }
   ],
   "source": [
    "engine.execute(\"select * from mytable\").fetchone()"
   ]
  },
  {
   "cell_type": "code",
   "execution_count": 28,
   "id": "4f5b8fe9",
   "metadata": {},
   "outputs": [],
   "source": [
    "# engine.execute(\"select * from employee\") #write down the query\n",
    "# fetchone --> one only, fetch all --> 5 records"
   ]
  },
  {
   "cell_type": "code",
   "execution_count": 29,
   "id": "7e5788bd",
   "metadata": {},
   "outputs": [],
   "source": [
    "result = engine.execute(\"select * from mytable limit 5\").fetchall()"
   ]
  },
  {
   "cell_type": "code",
   "execution_count": 30,
   "id": "61e8a3c9",
   "metadata": {},
   "outputs": [
    {
     "name": "stdout",
     "output_type": "stream",
     "text": [
      "(0, 41, 'Yes', 'Travel_Rarely', 1102, 'Sales', 1, 2, 'Life Sciences', 1, 1, 2, 'Female', 94, 3, 2, 'Sales Executive', 4, 'Single', 5993, 19479, 8, 'Y', 'Yes', 11, 3, 1, 80, 0, 8, 0, 1, 6, 4, 0, 5)\n",
      "(1, 49, 'No', 'Travel_Frequently', 279, 'Research & Development', 8, 1, 'Life Sciences', 1, 2, 3, 'Male', 61, 2, 2, 'Research Scientist', 2, 'Married', 5130, 24907, 1, 'Y', 'No', 23, 4, 4, 80, 1, 10, 3, 3, 10, 7, 1, 7)\n",
      "(2, 37, 'Yes', 'Travel_Rarely', 1373, 'Research & Development', 2, 2, 'Other', 1, 4, 4, 'Male', 92, 2, 1, 'Laboratory Technician', 3, 'Single', 2090, 2396, 6, 'Y', 'Yes', 15, 3, 2, 80, 0, 7, 3, 3, 0, 0, 0, 0)\n",
      "(3, 33, 'No', 'Travel_Frequently', 1392, 'Research & Development', 3, 4, 'Life Sciences', 1, 5, 4, 'Female', 56, 3, 1, 'Research Scientist', 3, 'Married', 2909, 23159, 1, 'Y', 'Yes', 11, 3, 3, 80, 0, 8, 3, 3, 8, 7, 3, 0)\n",
      "(4, 27, 'No', 'Travel_Rarely', 591, 'Research & Development', 2, 1, 'Medical', 1, 7, 1, 'Male', 40, 3, 1, 'Laboratory Technician', 2, 'Married', 3468, 16632, 9, 'Y', 'No', 12, 3, 4, 80, 1, 6, 3, 3, 2, 2, 2, 2)\n"
     ]
    }
   ],
   "source": [
    "for i in result:\n",
    "    print(i)"
   ]
  },
  {
   "cell_type": "code",
   "execution_count": 39,
   "id": "99ef9204",
   "metadata": {},
   "outputs": [],
   "source": [
    "query = 'select * from mytable where age >50 limit 2'\n",
    "result = engine.execute(query)"
   ]
  },
  {
   "cell_type": "code",
   "execution_count": 40,
   "id": "c44d0c9a",
   "metadata": {},
   "outputs": [
    {
     "data": {
      "text/plain": [
       "<sqlalchemy.engine.cursor.LegacyCursorResult at 0x4ed09861a0>"
      ]
     },
     "execution_count": 40,
     "metadata": {},
     "output_type": "execute_result"
    }
   ],
   "source": [
    "result"
   ]
  },
  {
   "cell_type": "code",
   "execution_count": 41,
   "id": "c34699af",
   "metadata": {},
   "outputs": [
    {
     "name": "stdout",
     "output_type": "stream",
     "text": [
      "(6, 59, 'No', 'Travel_Rarely', 1324, 'Research & Development', 3, 3, 'Medical', 1, 10, 3, 'Female', 81, 4, 1, 'Laboratory Technician', 1, 'Married', 2670, 9964, 4, 'Y', 'Yes', 20, 4, 1, 80, 3, 12, 3, 2, 1, 0, 0, 0)\n",
      "(18, 53, 'No', 'Travel_Rarely', 1219, 'Sales', 2, 4, 'Life Sciences', 1, 23, 1, 'Female', 78, 2, 4, 'Manager', 4, 'Married', 15427, 22021, 2, 'Y', 'No', 16, 3, 3, 80, 0, 31, 3, 3, 25, 8, 3, 7)\n"
     ]
    }
   ],
   "source": [
    "for i in result:\n",
    "    print(i)"
   ]
  },
  {
   "cell_type": "markdown",
   "id": "ee7edde0",
   "metadata": {},
   "source": [
    "## Relational Operators \n",
    "Operators >, <, =, !>,!<,>=,<=,!>=,!<="
   ]
  },
  {
   "cell_type": "markdown",
   "id": "868993ea",
   "metadata": {},
   "source": [
    "## Logical Operators"
   ]
  },
  {
   "cell_type": "code",
   "execution_count": 45,
   "id": "664cb48a",
   "metadata": {},
   "outputs": [],
   "source": [
    "result = engine.execute(\"select * from mytable where age>50 and DailyRate>1300 limit 3\").fetchall()"
   ]
  },
  {
   "cell_type": "code",
   "execution_count": 46,
   "id": "dca753f1",
   "metadata": {},
   "outputs": [
    {
     "name": "stdout",
     "output_type": "stream",
     "text": [
      "(6, 59, 'No', 'Travel_Rarely', 1324, 'Research & Development', 3, 3, 'Medical', 1, 10, 3, 'Female', 81, 4, 1, 'Laboratory Technician', 1, 'Married', 2670, 9964, 4, 'Y', 'Yes', 20, 4, 1, 80, 3, 12, 3, 2, 1, 0, 0, 0)\n",
      "(63, 59, 'No', 'Travel_Rarely', 1435, 'Sales', 25, 3, 'Life Sciences', 1, 81, 1, 'Female', 99, 3, 3, 'Sales Executive', 1, 'Single', 7637, 2354, 7, 'Y', 'No', 11, 3, 4, 80, 0, 28, 3, 2, 21, 16, 7, 9)\n",
      "(85, 56, 'No', 'Travel_Rarely', 1400, 'Research & Development', 7, 3, 'Life Sciences', 1, 112, 4, 'Male', 49, 1, 3, 'Manufacturing Director', 4, 'Single', 7260, 21698, 4, 'Y', 'No', 11, 3, 1, 80, 0, 37, 3, 2, 6, 4, 0, 2)\n"
     ]
    }
   ],
   "source": [
    "for i in result:\n",
    "    print(i)"
   ]
  },
  {
   "cell_type": "code",
   "execution_count": 63,
   "id": "3ab90f7f",
   "metadata": {},
   "outputs": [
    {
     "data": {
      "text/plain": [
       "[(52, 44, 'No', 'Travel_Rarely', 1488, 'Sales', 1, 5, 'Marketing', 1, 68, 2, 'Female', 75, 3, 2, 'Sales Executive', 1, 'Divorced', 5454, 4009, 5, 'Y', 'Yes', 21, 4, 3, 80, 1, 9, 2, 2, 4, 3, 1, 3),\n",
       " (54, 26, 'No', 'Travel_Rarely', 1443, 'Sales', 23, 3, 'Marketing', 1, 72, 3, 'Female', 47, 2, 2, 'Sales Executive', 4, 'Married', 4157, 21436, 7, 'Y', 'Yes', 19, 3, 3, 80, 1, 5, 2, 2, 2, 2, 0, 0),\n",
       " (63, 59, 'No', 'Travel_Rarely', 1435, 'Sales', 25, 3, 'Life Sciences', 1, 81, 1, 'Female', 99, 3, 3, 'Sales Executive', 1, 'Single', 7637, 2354, 7, 'Y', 'No', 11, 3, 4, 80, 0, 28, 3, 2, 21, 16, 7, 9)]"
      ]
     },
     "execution_count": 63,
     "metadata": {},
     "output_type": "execute_result"
    }
   ],
   "source": [
    "result = engine.execute(\"select * from mytable where department='Sales' and age>20 and DailyRate>1300 limit 3\").fetchall()\n",
    "result"
   ]
  },
  {
   "cell_type": "code",
   "execution_count": 64,
   "id": "4c154152",
   "metadata": {},
   "outputs": [
    {
     "name": "stdout",
     "output_type": "stream",
     "text": [
      "(52, 44, 'No', 'Travel_Rarely', 1488, 'Sales', 1, 5, 'Marketing', 1, 68, 2, 'Female', 75, 3, 2, 'Sales Executive', 1, 'Divorced', 5454, 4009, 5, 'Y', 'Yes', 21, 4, 3, 80, 1, 9, 2, 2, 4, 3, 1, 3)\n",
      "(54, 26, 'No', 'Travel_Rarely', 1443, 'Sales', 23, 3, 'Marketing', 1, 72, 3, 'Female', 47, 2, 2, 'Sales Executive', 4, 'Married', 4157, 21436, 7, 'Y', 'Yes', 19, 3, 3, 80, 1, 5, 2, 2, 2, 2, 0, 0)\n",
      "(63, 59, 'No', 'Travel_Rarely', 1435, 'Sales', 25, 3, 'Life Sciences', 1, 81, 1, 'Female', 99, 3, 3, 'Sales Executive', 1, 'Single', 7637, 2354, 7, 'Y', 'No', 11, 3, 4, 80, 0, 28, 3, 2, 21, 16, 7, 9)\n"
     ]
    }
   ],
   "source": [
    "for i in result:\n",
    "    print(i)"
   ]
  },
  {
   "cell_type": "code",
   "execution_count": 65,
   "id": "c785c9ca",
   "metadata": {},
   "outputs": [
    {
     "data": {
      "text/plain": [
       "[(0, 41, 'Yes', 'Travel_Rarely', 1102, 'Sales', 1, 2, 'Life Sciences', 1, 1, 2, 'Female', 94, 3, 2, 'Sales Executive', 4, 'Single', 5993, 19479, 8, 'Y', 'Yes', 11, 3, 1, 80, 0, 8, 0, 1, 6, 4, 0, 5),\n",
       " (6, 59, 'No', 'Travel_Rarely', 1324, 'Research & Development', 3, 3, 'Medical', 1, 10, 3, 'Female', 81, 4, 1, 'Laboratory Technician', 1, 'Married', 2670, 9964, 4, 'Y', 'Yes', 20, 4, 1, 80, 3, 12, 3, 2, 1, 0, 0, 0),\n",
       " (18, 53, 'No', 'Travel_Rarely', 1219, 'Sales', 2, 4, 'Life Sciences', 1, 23, 1, 'Female', 78, 2, 4, 'Manager', 4, 'Married', 15427, 22021, 2, 'Y', 'No', 16, 3, 3, 80, 0, 31, 3, 3, 25, 8, 3, 7),\n",
       " (21, 36, 'Yes', 'Travel_Rarely', 1218, 'Sales', 9, 4, 'Life Sciences', 1, 27, 3, 'Male', 82, 2, 1, 'Sales Representative', 1, 'Single', 3407, 6986, 7, 'Y', 'No', 23, 4, 2, 80, 0, 10, 4, 3, 5, 3, 0, 3)]"
      ]
     },
     "execution_count": 65,
     "metadata": {},
     "output_type": "execute_result"
    }
   ],
   "source": [
    "ans = engine.execute(\"select * from mytable where department = 'Sales' or age>58 limit 4\").fetchall()\n",
    "ans"
   ]
  },
  {
   "cell_type": "markdown",
   "id": "54c9ebbb",
   "metadata": {},
   "source": [
    "## in\n",
    "in : for multiple condition to test\n",
    "1. not in\n",
    "2. between, a, and, in, not in, min, max\n",
    "3. not equal to: age!=22"
   ]
  },
  {
   "cell_type": "markdown",
   "id": "4d23d6eb",
   "metadata": {},
   "source": [
    "# Lecture 2\n",
    "Install MongoDB Software"
   ]
  },
  {
   "cell_type": "raw",
   "id": "7cbadefc",
   "metadata": {},
   "source": [
    "Table is a Structured Data\n",
    "Big Data\n",
    "1. Structured Data e.g. Excel-columns and rows\n",
    "2. Semi-structured Data\n",
    "3. Unstructured Data\n",
    "\n",
    "Each and every action is stored in Facebook, even every click of mouse"
   ]
  },
  {
   "cell_type": "raw",
   "id": "7a016235",
   "metadata": {},
   "source": [
    "Unstructured Data Type \n",
    "json: javascript notation \n",
    "1. starts with {}\n",
    "2. everything with key value pair\n",
    "3. key and value has to be in double quotes (for string), no quote (for no.)\n",
    "4. for multiple values we use ,\n",
    "Example -\n",
    "    { \n",
    "        \"name\":\"Bharti\",\n",
    "        \"age\":46,\n",
    "        \"qualification\":\"PhD\",\n",
    "        \"city\":\"Mumbai\"\n",
    "        }\n",
    "JSON File extension saved\n",
    "\n",
    "For multiple option we use [ ]"
   ]
  },
  {
   "cell_type": "markdown",
   "id": "66de4c2a",
   "metadata": {},
   "source": [
    "### Create a json file"
   ]
  }
 ],
 "metadata": {
  "kernelspec": {
   "display_name": "Python 3 (ipykernel)",
   "language": "python",
   "name": "python3"
  },
  "language_info": {
   "codemirror_mode": {
    "name": "ipython",
    "version": 3
   },
   "file_extension": ".py",
   "mimetype": "text/x-python",
   "name": "python",
   "nbconvert_exporter": "python",
   "pygments_lexer": "ipython3",
   "version": "3.10.2"
  }
 },
 "nbformat": 4,
 "nbformat_minor": 5
}
